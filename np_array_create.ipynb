{
 "cells": [
  {
   "cell_type": "markdown",
   "metadata": {
    "collapsed": true,
    "pycharm": {
     "name": "#%% md\n"
    }
   },
   "source": [
    "## Different ways of creating Numpy array"
   ]
  },
  {
   "cell_type": "markdown",
   "source": [
    "### Single dimension numpy array"
   ],
   "metadata": {
    "collapsed": false,
    "pycharm": {
     "name": "#%% md\n"
    }
   }
  },
  {
   "cell_type": "code",
   "execution_count": 35,
   "outputs": [
    {
     "name": "stdout",
     "output_type": "stream",
     "text": [
      "[33 89 56  0]\n",
      "<class 'numpy.ndarray'>\n"
     ]
    }
   ],
   "source": [
    "import numpy as np\n",
    "\n",
    "# create a one dimension array (constructor np.array)\n",
    "x = np.array([33,89,56,0])\n",
    "print(x)\n",
    "print((type(x)))\n"
   ],
   "metadata": {
    "collapsed": false,
    "pycharm": {
     "name": "#%%\n"
    }
   }
  },
  {
   "cell_type": "markdown",
   "source": [
    "### Multi dimension numpy array"
   ],
   "metadata": {
    "collapsed": false,
    "pycharm": {
     "name": "#%% md\n"
    }
   }
  },
  {
   "cell_type": "code",
   "execution_count": 36,
   "outputs": [
    {
     "name": "stdout",
     "output_type": "stream",
     "text": [
      "[[ 1  2  3]\n",
      " [10 11 12]]\n",
      "<class 'numpy.ndarray'>\n"
     ]
    }
   ],
   "source": [
    "# create multidimensional array - 2d array\n",
    "y = np.array([[1,2,3],[10,11,12]])\n",
    "print(y)\n",
    "print(type(y))\n"
   ],
   "metadata": {
    "collapsed": false,
    "pycharm": {
     "name": "#%%\n"
    }
   }
  },
  {
   "cell_type": "code",
   "execution_count": 49,
   "outputs": [
    {
     "name": "stdout",
     "output_type": "stream",
     "text": [
      "[[[2 3 4]\n",
      "  [5 6 7]]\n",
      "\n",
      " [[9 8 3]\n",
      "  [3 4 7]]]\n",
      "<class 'numpy.ndarray'>\n"
     ]
    }
   ],
   "source": [
    "# create multidimensional array - 3d array\n",
    "z = np.array([[[2,3,4],[5,6,7]],[[9,8,3],[3,4,7]]])\n",
    "print(z)\n",
    "print(type(z))"
   ],
   "metadata": {
    "collapsed": false,
    "pycharm": {
     "name": "#%%\n"
    }
   }
  },
  {
   "cell_type": "markdown",
   "source": [
    "## Creating numeric ranges\n",
    "1. arange\n",
    "2. linspace\n",
    "3. logspace\n",
    "\n",
    "linspace and logspace application is purely mathematical."
   ],
   "metadata": {
    "collapsed": false,
    "pycharm": {
     "name": "#%% md\n"
    }
   }
  },
  {
   "cell_type": "code",
   "execution_count": 38,
   "outputs": [
    {
     "name": "stdout",
     "output_type": "stream",
     "text": [
      "[  0   1   2   3   4   5   6   7   8   9  10  11  12  13  14  15  16  17\n",
      "  18  19  20  21  22  23  24  25  26  27  28  29  30  31  32  33  34  35\n",
      "  36  37  38  39  40  41  42  43  44  45  46  47  48  49  50  51  52  53\n",
      "  54  55  56  57  58  59  60  61  62  63  64  65  66  67  68  69  70  71\n",
      "  72  73  74  75  76  77  78  79  80  81  82  83  84  85  86  87  88  89\n",
      "  90  91  92  93  94  95  96  97  98  99 100 101 102 103 104 105 106 107\n",
      " 108 109 110 111 112 113 114 115 116 117 118 119 120 121 122 123 124 125\n",
      " 126 127 128 129 130 131 132 133 134 135 136 137 138 139 140 141 142 143\n",
      " 144 145 146 147 148 149 150 151 152 153 154 155 156 157 158 159 160 161\n",
      " 162 163 164 165 166 167 168 169 170 171 172 173 174 175 176 177 178 179\n",
      " 180 181 182 183 184 185 186 187 188 189 190 191 192 193 194 195 196 197\n",
      " 198 199 200 201 202 203 204 205 206 207 208 209 210 211 212 213 214 215\n",
      " 216 217 218 219 220 221 222 223 224 225 226 227 228 229 230 231 232 233\n",
      " 234 235 236 237 238 239 240 241 242 243 244 245 246 247 248 249 250 251\n",
      " 252 253 254 255 256 257 258 259 260 261 262 263 264 265 266 267 268 269\n",
      " 270 271 272 273 274 275 276 277 278 279 280 281 282 283 284 285 286 287\n",
      " 288 289 290 291 292 293 294 295 296 297 298 299 300 301 302 303 304 305\n",
      " 306 307 308 309 310 311 312 313 314 315 316 317 318 319 320 321 322 323\n",
      " 324 325 326 327 328 329 330 331 332 333 334 335 336 337 338 339 340 341\n",
      " 342 343 344 345 346 347 348 349 350 351 352 353 354 355 356 357 358 359\n",
      " 360 361 362 363 364 365 366 367 368 369 370 371 372 373 374 375 376 377\n",
      " 378 379 380 381 382 383 384 385 386 387 388 389 390 391 392 393 394 395\n",
      " 396 397 398 399 400 401 402 403 404 405 406 407 408 409 410 411 412 413\n",
      " 414 415 416 417 418 419 420 421 422 423 424 425 426 427 428 429 430 431\n",
      " 432 433 434 435 436 437 438 439 440 441 442 443 444 445 446 447 448 449\n",
      " 450 451 452 453 454 455 456 457 458 459 460 461 462 463 464 465 466 467\n",
      " 468 469 470 471 472 473 474 475 476 477 478 479 480 481 482 483 484 485\n",
      " 486 487 488 489 490 491 492 493 494 495 496 497 498 499 500 501 502 503\n",
      " 504 505 506 507 508 509 510 511 512 513 514 515 516 517 518 519 520 521\n",
      " 522 523 524 525 526 527 528 529 530 531 532 533 534 535 536 537 538 539\n",
      " 540 541 542 543 544 545 546 547 548 549 550 551 552 553 554 555 556 557\n",
      " 558 559 560 561 562 563 564 565 566 567 568 569 570 571 572 573 574 575\n",
      " 576 577 578 579 580 581 582 583 584 585 586 587 588 589 590 591 592 593\n",
      " 594 595 596 597 598 599 600 601 602 603 604 605 606 607 608 609 610 611\n",
      " 612 613 614 615 616 617 618 619 620 621 622 623 624 625 626 627 628 629\n",
      " 630 631 632 633 634 635 636 637 638 639 640 641 642 643 644 645 646 647\n",
      " 648 649 650 651 652 653 654 655 656 657 658 659 660 661 662 663 664 665\n",
      " 666 667 668 669 670 671 672 673 674 675 676 677 678 679 680 681 682 683\n",
      " 684 685 686 687 688 689 690 691 692 693 694 695 696 697 698 699 700 701\n",
      " 702 703 704 705 706 707 708 709 710 711 712 713 714 715 716 717 718 719\n",
      " 720 721 722 723 724 725 726 727 728 729 730 731 732 733 734 735 736 737\n",
      " 738 739 740 741 742 743 744 745 746 747 748 749 750 751 752 753 754 755\n",
      " 756 757 758 759 760 761 762 763 764 765 766 767 768 769 770 771 772 773\n",
      " 774 775 776 777 778 779 780 781 782 783 784 785 786 787 788 789 790 791\n",
      " 792 793 794 795 796 797 798 799 800 801 802 803 804 805 806 807 808 809\n",
      " 810 811 812 813 814 815 816 817 818 819 820 821 822 823 824 825 826 827\n",
      " 828 829 830 831 832 833 834 835 836 837 838 839 840 841 842 843 844 845\n",
      " 846 847 848 849 850 851 852 853 854 855 856 857 858 859 860 861 862 863\n",
      " 864 865 866 867 868 869 870 871 872 873 874 875 876 877 878 879 880 881\n",
      " 882 883 884 885 886 887 888 889 890 891 892 893 894 895 896 897 898 899\n",
      " 900 901 902 903 904 905 906 907 908 909 910 911 912 913 914 915 916 917\n",
      " 918 919 920 921 922 923 924 925 926 927 928 929 930 931 932 933 934 935\n",
      " 936 937 938 939 940 941 942 943 944 945 946 947 948 949 950 951 952 953\n",
      " 954 955 956 957 958 959 960 961 962 963 964 965 966 967 968 969 970 971\n",
      " 972 973 974 975 976 977 978 979 980 981 982 983 984 985 986 987 988 989\n",
      " 990 991 992 993 994 995 996 997 998 999]\n"
     ]
    },
    {
     "data": {
      "text/plain": "numpy.ndarray"
     },
     "execution_count": 38,
     "metadata": {},
     "output_type": "execute_result"
    }
   ],
   "source": [
    "a = np.arange(0, 1000)\n",
    "print(a)\n",
    "type(a)"
   ],
   "metadata": {
    "collapsed": false,
    "pycharm": {
     "name": "#%%\n"
    }
   }
  },
  {
   "cell_type": "code",
   "execution_count": 39,
   "outputs": [
    {
     "name": "stdout",
     "output_type": "stream",
     "text": [
      "[  0  10  20  30  40  50  60  70  80  90 100 110 120 130 140 150 160 170\n",
      " 180 190 200 210 220 230 240 250 260 270 280 290 300 310 320 330 340 350\n",
      " 360 370 380 390 400 410 420 430 440 450 460 470 480 490 500 510 520 530\n",
      " 540 550 560 570 580 590 600 610 620 630 640 650 660 670 680 690 700 710\n",
      " 720 730 740 750 760 770 780 790 800 810 820 830 840 850 860 870 880 890\n",
      " 900 910 920 930 940 950 960 970 980 990]\n"
     ]
    }
   ],
   "source": [
    "b = np.arange(0, 1000, 10)\n",
    "print(b)"
   ],
   "metadata": {
    "collapsed": false,
    "pycharm": {
     "name": "#%%\n"
    }
   }
  },
  {
   "cell_type": "code",
   "execution_count": 40,
   "outputs": [
    {
     "name": "stdout",
     "output_type": "stream",
     "text": [
      "linspace [   0.          111.11111111  222.22222222  333.33333333  444.44444444\n",
      "  555.55555556  666.66666667  777.77777778  888.88888889 1000.        ]\n",
      "logspace [ 1.          1.29154967  1.66810054  2.15443469  2.7825594   3.59381366\n",
      "  4.64158883  5.9948425   7.74263683 10.        ]\n"
     ]
    }
   ],
   "source": [
    "# linspace & logspace give us an array in a linear space or a logarithmic space.\n",
    "# space means dimensions we are working on meaning linear scale or logarithmic scale.\n",
    "\n",
    "z = np.linspace(0,1000,10)   #start, stop, count\n",
    "print('linspace', z)\n",
    "\n",
    "z1 = np.logspace(0,1,10)\n",
    "print('logspace',z1)"
   ],
   "metadata": {
    "collapsed": false,
    "pycharm": {
     "name": "#%%\n"
    }
   }
  },
  {
   "cell_type": "markdown",
   "source": [
    "## Creating Special arrays\n",
    "### useful in linear algebra, for calculation with matrices\n",
    "1. Ones\n",
    "2. Zeroes\n",
    "3. array with specific number\n",
    "4. identity matrix\n",
    "5. random matrix"
   ],
   "metadata": {
    "collapsed": false,
    "pycharm": {
     "name": "#%% md\n"
    }
   }
  },
  {
   "cell_type": "code",
   "execution_count": 50,
   "outputs": [
    {
     "name": "stdout",
     "output_type": "stream",
     "text": [
      "array_1-D\n",
      " [0. 0. 0. 0. 0.] \n",
      "\n",
      "array_2-D\n",
      " [[0. 0.]\n",
      " [0. 0.]\n",
      " [0. 0.]\n",
      " [0. 0.]\n",
      " [0. 0.]] \n",
      "\n",
      "array_3-D\n",
      " [[[0. 0. 0. 0.]\n",
      "  [0. 0. 0. 0.]]\n",
      "\n",
      " [[0. 0. 0. 0.]\n",
      "  [0. 0. 0. 0.]]\n",
      "\n",
      " [[0. 0. 0. 0.]\n",
      "  [0. 0. 0. 0.]]\n",
      "\n",
      " [[0. 0. 0. 0.]\n",
      "  [0. 0. 0. 0.]]\n",
      "\n",
      " [[0. 0. 0. 0.]\n",
      "  [0. 0. 0. 0.]]] \n",
      "\n"
     ]
    }
   ],
   "source": [
    "array_zero1 = np.zeros(shape=5)\n",
    "print('array_1-D\\n',array_zero1,'\\n')\n",
    "\n",
    "array_zero2 = np.zeros(shape=(5,2))\n",
    "print('array_2-D\\n',array_zero2,'\\n')\n",
    "\n",
    "array_zero3 = np.zeros(shape=(5,2,4))\n",
    "print('array_3-D\\n',array_zero3,'\\n')\n",
    "\n",
    "## This means we have 5 (2 dimensional arrays) and each 2 dimensional array has 2 elements/rows/observations of 4 columns each(2*4)\n",
    "\n",
    "## 5 is the 3rd dimension and we know 3 dimension array consists of 2 dimensional arrays so number 5 means that in count there are 5 (2 dimensional arrays)\n",
    "## 2 is the 2nd dimension and says that each of 2 dimensional array has 2 elements inside it and 2 dimensional array consists of 1D arrays so\n",
    "### 4 represents 1st dimension and number 4 represents has 4 elements inside it.\n"
   ],
   "metadata": {
    "collapsed": false,
    "pycharm": {
     "name": "#%%\n"
    }
   }
  },
  {
   "cell_type": "code",
   "execution_count": 42,
   "outputs": [
    {
     "name": "stdout",
     "output_type": "stream",
     "text": [
      "dim 3\n",
      "shape (5, 2, 4)\n"
     ]
    }
   ],
   "source": [
    "print('dim',array_zero3.ndim)\n",
    "print('shape',array_zero3.shape)"
   ],
   "metadata": {
    "collapsed": false,
    "pycharm": {
     "name": "#%%\n"
    }
   }
  },
  {
   "cell_type": "code",
   "execution_count": 43,
   "outputs": [
    {
     "name": "stdout",
     "output_type": "stream",
     "text": [
      "[[1. 1.]\n",
      " [1. 1.]\n",
      " [1. 1.]]\n"
     ]
    }
   ],
   "source": [
    "array_ones = np.ones(shape=(3,2))\n",
    "print(array_ones)"
   ],
   "metadata": {
    "collapsed": false,
    "pycharm": {
     "name": "#%%\n"
    }
   }
  },
  {
   "cell_type": "code",
   "execution_count": 44,
   "outputs": [
    {
     "name": "stdout",
     "output_type": "stream",
     "text": [
      "[[8 8]\n",
      " [8 8]\n",
      " [8 8]]\n"
     ]
    }
   ],
   "source": [
    "# creating a matrix with specific number\n",
    "\n",
    "array_eight = np.full(shape=(3,2),fill_value=8)\n",
    "print(array_eight)"
   ],
   "metadata": {
    "collapsed": false,
    "pycharm": {
     "name": "#%%\n"
    }
   }
  },
  {
   "cell_type": "code",
   "execution_count": 45,
   "outputs": [
    {
     "name": "stdout",
     "output_type": "stream",
     "text": [
      "[[1. 0. 0.]\n",
      " [0. 1. 0.]\n",
      " [0. 0. 1.]]\n"
     ]
    }
   ],
   "source": [
    "# create identity matrix (all elements 0 except diagonal which are 1)\n",
    "# identity matrix is always a square matrix\n",
    "\n",
    "array_i = np.identity(3)\n",
    "print(array_i)"
   ],
   "metadata": {
    "collapsed": false,
    "pycharm": {
     "name": "#%%\n"
    }
   }
  },
  {
   "cell_type": "code",
   "execution_count": 46,
   "outputs": [
    {
     "name": "stdout",
     "output_type": "stream",
     "text": [
      "[[0.72985799 0.56122244]\n",
      " [0.34092828 0.87694946]\n",
      " [0.69408893 0.92714871]]\n"
     ]
    }
   ],
   "source": [
    "# matrix of random numbers\n",
    "# suppose when u r simulating u might need to use random numbers\n",
    "\n",
    "array_rand = np.random.rand(3,2)\n",
    "print(array_rand)"
   ],
   "metadata": {
    "collapsed": false,
    "pycharm": {
     "name": "#%%\n"
    }
   }
  },
  {
   "cell_type": "code",
   "execution_count": 47,
   "outputs": [
    {
     "name": "stdout",
     "output_type": "stream",
     "text": [
      "[[-4 -3]\n",
      " [-7 -7]\n",
      " [-5 -2]]\n"
     ]
    }
   ],
   "source": [
    "array_randint = np.random.randint(-9,9,size=(3,2))   # randint(low,high,size)\n",
    "print(array_randint)"
   ],
   "metadata": {
    "collapsed": false,
    "pycharm": {
     "name": "#%%\n"
    }
   }
  },
  {
   "cell_type": "code",
   "execution_count": 48,
   "outputs": [
    {
     "name": "stdout",
     "output_type": "stream",
     "text": [
      "[[0.00000e+00 1.00000e+00 2.98500e+01 2.98500e+01]\n",
      " [0.00000e+00 3.40000e+01 5.69500e+01 1.88950e+03]\n",
      " [0.00000e+00 2.00000e+00 5.38500e+01 1.08150e+02]\n",
      " [0.00000e+00 4.50000e+01 4.23000e+01 1.84075e+03]\n",
      " [0.00000e+00 2.00000e+00 7.07000e+01 1.51650e+02]\n",
      " [0.00000e+00 8.00000e+00 9.96500e+01 8.20500e+02]\n",
      " [0.00000e+00 2.20000e+01 8.91000e+01 1.94940e+03]\n",
      " [0.00000e+00 1.00000e+01 2.97500e+01 3.01900e+02]\n",
      " [0.00000e+00 2.80000e+01 1.04800e+02 3.04605e+03]\n",
      " [0.00000e+00 6.20000e+01 5.61500e+01 3.48795e+03]\n",
      " [0.00000e+00 1.30000e+01 4.99500e+01 5.87450e+02]\n",
      " [0.00000e+00 1.60000e+01 1.89500e+01 3.26800e+02]\n",
      " [0.00000e+00 5.80000e+01 1.00350e+02 5.68110e+03]\n",
      " [0.00000e+00 4.90000e+01 1.03700e+02 5.03630e+03]\n",
      " [0.00000e+00 2.50000e+01 1.05500e+02 2.68605e+03]\n",
      " [0.00000e+00 6.90000e+01 1.13250e+02 7.89515e+03]\n",
      " [0.00000e+00 5.20000e+01 2.06500e+01 1.02295e+03]\n",
      " [0.00000e+00 7.10000e+01 1.06700e+02 7.38225e+03]\n",
      " [0.00000e+00 1.00000e+01 5.52000e+01 5.28350e+02]]\n"
     ]
    }
   ],
   "source": [
    "# from files loadtxt (this function although txt can be used for csv file)\n",
    "# delimiter in csv is comma, likewise others can be tab etc\n",
    "# this loads data from csv file to a numpy array, then can manipulate, work on this data\n",
    "\n",
    "data = np.loadtxt(fname='telco.csv',delimiter=',')\n",
    "print(data)"
   ],
   "metadata": {
    "collapsed": false,
    "pycharm": {
     "name": "#%%\n"
    }
   }
  },
  {
   "cell_type": "code",
   "execution_count": 48,
   "outputs": [],
   "source": [],
   "metadata": {
    "collapsed": false,
    "pycharm": {
     "name": "#%%\n"
    }
   }
  }
 ],
 "metadata": {
  "kernelspec": {
   "display_name": "Python 3",
   "language": "python",
   "name": "python3"
  },
  "language_info": {
   "codemirror_mode": {
    "name": "ipython",
    "version": 2
   },
   "file_extension": ".py",
   "mimetype": "text/x-python",
   "name": "python",
   "nbconvert_exporter": "python",
   "pygments_lexer": "ipython2",
   "version": "2.7.6"
  }
 },
 "nbformat": 4,
 "nbformat_minor": 0
}
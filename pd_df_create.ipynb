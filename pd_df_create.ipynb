{
 "cells": [
  {
   "cell_type": "markdown",
   "metadata": {
    "collapsed": true,
    "pycharm": {
     "name": "#%% md\n"
    }
   },
   "source": [
    "## Pandas (name derived from panel data) to explore your data. (structured/tabular data)\n",
    "1. Python Data Analysis Library - its an intuitive library, open-source, built over numpy\n",
    "2. When we work with tabular data, pandas help us explore, clean & process data.\n",
    "3. two fundamental objects (data structure) in pandas-series (1 column) and dataframe(made of multiple series)\n",
    "4. You can extract 1 column from df and create series."
   ]
  },
  {
   "cell_type": "markdown",
   "source": [
    "### Structured vs Unstructured data\n",
    "1. Structured (Tabular) data\n",
    "2. Unstructured (which cannot be put in a tabular form) e.g text docs,audio files, image\n",
    "image can still be defined as structured data cz we r still using arrays but it comes under category of unstructured data."
   ],
   "metadata": {
    "collapsed": false,
    "pycharm": {
     "name": "#%% md\n"
    }
   }
  },
  {
   "cell_type": "markdown",
   "source": [
    "### Difference b/w numpy array and pandas dataframe\n",
    "In numpy array we had no way to identify that what does row indicate and what are columns, unless we had explanation in comments.\n",
    "\n",
    "In pandas dataframe you have automatically generated row index and column names/labels. You can even rename them as suitable."
   ],
   "metadata": {
    "collapsed": false,
    "pycharm": {
     "name": "#%% md\n"
    }
   }
  },
  {
   "cell_type": "code",
   "execution_count": 2,
   "outputs": [
    {
     "data": {
      "text/plain": "'1.3.4'"
     },
     "execution_count": 2,
     "metadata": {},
     "output_type": "execute_result"
    }
   ],
   "source": [
    "import pandas as pd\n",
    "\n",
    "pd.__version__"
   ],
   "metadata": {
    "collapsed": false,
    "pycharm": {
     "name": "#%%\n"
    }
   }
  },
  {
   "cell_type": "markdown",
   "source": [
    "## Creating Dataframe\n",
    "Generally u will have a file or db from where u need to read a file into pd df\n"
   ],
   "metadata": {
    "collapsed": false,
    "pycharm": {
     "name": "#%% md\n"
    }
   }
  },
  {
   "cell_type": "markdown",
   "source": [
    "### Method 1 - from list of lists create df - here list of 3 lists"
   ],
   "metadata": {
    "collapsed": false,
    "pycharm": {
     "name": "#%% md\n"
    }
   }
  },
  {
   "cell_type": "code",
   "execution_count": 6,
   "outputs": [],
   "source": [
    "# Generally u will have a file or db from where u need to read a file into pd df\n",
    "\n",
    "score = [[\"stud-a\",34],[\"stud-b\",78],[\"stud-c\",100]]\n",
    "df_score = pd.DataFrame(data=score)  # in numpy we used np.array, here constructor is pd.Dataframe"
   ],
   "metadata": {
    "collapsed": false,
    "pycharm": {
     "name": "#%%\n"
    }
   }
  },
  {
   "cell_type": "code",
   "execution_count": 7,
   "outputs": [
    {
     "name": "stdout",
     "output_type": "stream",
     "text": [
      "        0    1\n",
      "0  stud-a   34\n",
      "1  stud-b   78\n",
      "2  stud-c  100\n",
      "<class 'pandas.core.frame.DataFrame'>\n"
     ]
    }
   ],
   "source": [
    "print(df_score)\n",
    "print(type(df_score))"
   ],
   "metadata": {
    "collapsed": false,
    "pycharm": {
     "name": "#%%\n"
    }
   }
  },
  {
   "cell_type": "code",
   "execution_count": 9,
   "outputs": [
    {
     "data": {
      "text/plain": "       names  marks\n1001  stud-a     34\n1002  stud-b     78\n1003  stud-c    100",
      "text/html": "<div>\n<style scoped>\n    .dataframe tbody tr th:only-of-type {\n        vertical-align: middle;\n    }\n\n    .dataframe tbody tr th {\n        vertical-align: top;\n    }\n\n    .dataframe thead th {\n        text-align: right;\n    }\n</style>\n<table border=\"1\" class=\"dataframe\">\n  <thead>\n    <tr style=\"text-align: right;\">\n      <th></th>\n      <th>names</th>\n      <th>marks</th>\n    </tr>\n  </thead>\n  <tbody>\n    <tr>\n      <th>1001</th>\n      <td>stud-a</td>\n      <td>34</td>\n    </tr>\n    <tr>\n      <th>1002</th>\n      <td>stud-b</td>\n      <td>78</td>\n    </tr>\n    <tr>\n      <th>1003</th>\n      <td>stud-c</td>\n      <td>100</td>\n    </tr>\n  </tbody>\n</table>\n</div>"
     },
     "execution_count": 9,
     "metadata": {},
     "output_type": "execute_result"
    }
   ],
   "source": [
    "## YOu can also specify index, column names when creating df\n",
    "df_score1 = pd.DataFrame(data=score,columns=['names','marks'],index=['1001','1002','1003'])\n",
    "df_score1"
   ],
   "metadata": {
    "collapsed": false,
    "pycharm": {
     "name": "#%%\n"
    }
   }
  },
  {
   "cell_type": "markdown",
   "source": [
    "### Method 2 from dictionary create df"
   ],
   "metadata": {
    "collapsed": false,
    "pycharm": {
     "name": "#%% md\n"
    }
   }
  },
  {
   "cell_type": "code",
   "execution_count": 12,
   "outputs": [
    {
     "data": {
      "text/plain": "     name  marks\n0  stud-a     34\n1  stud-b     78\n2  stud-c    100",
      "text/html": "<div>\n<style scoped>\n    .dataframe tbody tr th:only-of-type {\n        vertical-align: middle;\n    }\n\n    .dataframe tbody tr th {\n        vertical-align: top;\n    }\n\n    .dataframe thead th {\n        text-align: right;\n    }\n</style>\n<table border=\"1\" class=\"dataframe\">\n  <thead>\n    <tr style=\"text-align: right;\">\n      <th></th>\n      <th>name</th>\n      <th>marks</th>\n    </tr>\n  </thead>\n  <tbody>\n    <tr>\n      <th>0</th>\n      <td>stud-a</td>\n      <td>34</td>\n    </tr>\n    <tr>\n      <th>1</th>\n      <td>stud-b</td>\n      <td>78</td>\n    </tr>\n    <tr>\n      <th>2</th>\n      <td>stud-c</td>\n      <td>100</td>\n    </tr>\n  </tbody>\n</table>\n</div>"
     },
     "execution_count": 12,
     "metadata": {},
     "output_type": "execute_result"
    }
   ],
   "source": [
    "score_dict = {'name':['stud-a','stud-b','stud-c'],\n",
    "         'marks':[34,78,100]}\n",
    "df_score2 = pd.DataFrame(data=score_dict)\n",
    "df_score2\n",
    "\n",
    "# in dictionary, automatically key names will be taken as column names, but u can change."
   ],
   "metadata": {
    "collapsed": false,
    "pycharm": {
     "name": "#%%\n"
    }
   }
  },
  {
   "cell_type": "code",
   "execution_count": null,
   "outputs": [],
   "source": [],
   "metadata": {
    "collapsed": false,
    "pycharm": {
     "name": "#%%\n"
    }
   }
  }
 ],
 "metadata": {
  "kernelspec": {
   "display_name": "Python 3",
   "language": "python",
   "name": "python3"
  },
  "language_info": {
   "codemirror_mode": {
    "name": "ipython",
    "version": 2
   },
   "file_extension": ".py",
   "mimetype": "text/x-python",
   "name": "python",
   "nbconvert_exporter": "python",
   "pygments_lexer": "ipython2",
   "version": "2.7.6"
  }
 },
 "nbformat": 4,
 "nbformat_minor": 0
}
{
 "cells": [
  {
   "cell_type": "markdown",
   "id": "38ff6810",
   "metadata": {},
   "source": [
    "# DICTIONARY"
   ]
  },
  {
   "cell_type": "markdown",
   "id": "65a69951",
   "metadata": {},
   "source": [
    "* Dictionaries are used to store data values in **key:value** pairs.\n",
    "* A dictionary is a collection which is **ordered**, changeable and does not allow duplicates.\n",
    "* Dictionaries are written with curly brackets, and have keys and values\n",
    "* A dictionary can store any type of data\n",
    "* in comparison of lists, dictionaries are more representable to real data."
   ]
  },
  {
   "cell_type": "markdown",
   "id": "6c76f186",
   "metadata": {},
   "source": [
    "#### Similarities and differences between Dictionaries and Lists:\n",
    "##### Similarities\n",
    "* Mutable.\n",
    "* Dynamic (one can add or remove items)\n",
    "* Both can be nested. A list can contain another list. A dictionary can contain another dictionary. \n",
    "* A dictionary can also contain a list, and vice versa.\n",
    "##### Differences\n",
    "Dictionaries and lists mainly differ from each other in how elements are accessed:\n",
    "* List elements are accessed by their position in the list, via indexing.\n",
    "* Dictionary elements are accessed via keys.\n"
   ]
  },
  {
   "cell_type": "markdown",
   "id": "46c4fcb5",
   "metadata": {},
   "source": [
    "#### Ordered or Unordered?\n",
    "    As of Python version 3.7, dictionaries are ordered. In Python 3.6 and earlier, dictionaries are unordered.\n",
    "    When we say that dictionaries are ordered, it means that the items have a defined order, and that order will not change.\n",
    "    Unordered means that the items does not have a defined order, you cannot refer to an item by using an index."
   ]
  },
  {
   "cell_type": "markdown",
   "id": "0b240f46",
   "metadata": {},
   "source": [
    "### Creating Dictionaries - Different ways of creating a dictionary\n"
   ]
  },
  {
   "cell_type": "code",
   "execution_count": 1,
   "id": "0056f653",
   "metadata": {},
   "outputs": [
    {
     "name": "stdout",
     "output_type": "stream",
     "text": [
      "{}\n"
     ]
    }
   ],
   "source": [
    "# empty dictionary\n",
    "my_dict_0 = {}\n",
    "print(my_dict_0)"
   ]
  },
  {
   "cell_type": "code",
   "execution_count": 2,
   "id": "fab6de76",
   "metadata": {},
   "outputs": [
    {
     "name": "stdout",
     "output_type": "stream",
     "text": [
      "{101: 'apple', 102: 'ball', 2: 'game'}\n"
     ]
    }
   ],
   "source": [
    "# dictionary with integer keys\n",
    "my_dict1 = {101: 'apple', 102: 'ball', 2:'bat', 2:'game'}\n",
    "print(my_dict1)\n",
    "\n",
    "## Key gets overwritten by the last value which is game here"
   ]
  },
  {
   "cell_type": "code",
   "execution_count": 3,
   "id": "be7cc870",
   "metadata": {},
   "outputs": [
    {
     "name": "stdout",
     "output_type": "stream",
     "text": [
      "{'name': 'John', 1: [2, 4, 3]}\n"
     ]
    }
   ],
   "source": [
    "# dictionary with mixed keys - string key and integer key\n",
    "my_dict2 = {'name': 'John', 1: [2, 4, 3]}\n",
    "print(my_dict2)"
   ]
  },
  {
   "cell_type": "markdown",
   "id": "bff67c1d",
   "metadata": {},
   "source": [
    "**Note**\n",
    "\n",
    "Keys are unique within a dictionary while values may not be. The values of a dictionary can be of any type, but the keys must be of an immutable data type such as strings, numbers, or tuples.\n"
   ]
  },
  {
   "cell_type": "code",
   "execution_count": 4,
   "id": "ca81ef1d",
   "metadata": {},
   "outputs": [
    {
     "name": "stdout",
     "output_type": "stream",
     "text": [
      "{1: 'apple', 2: 'ball'}\n"
     ]
    }
   ],
   "source": [
    "# using dict() keyword\n",
    "my_dict3 = dict({1:'apple', 2:'ball'})\n",
    "print(my_dict3)"
   ]
  },
  {
   "cell_type": "code",
   "execution_count": 5,
   "id": "94071d16",
   "metadata": {},
   "outputs": [
    {
     "name": "stdout",
     "output_type": "stream",
     "text": [
      "{1: 'apple', 2: 'ball'}\n"
     ]
    }
   ],
   "source": [
    "# using dict() \n",
    "#from sequence having each item as a pair\n",
    "my_dict4 = dict([(1,'apple'), (2,'ball')])\n",
    "print(my_dict4)"
   ]
  },
  {
   "cell_type": "markdown",
   "id": "64b79550",
   "metadata": {},
   "source": [
    "### Accessing Elements from Dictionary\n",
    "\n",
    "    While indexing is used with other data types to access values, a dictionary uses keys. \n",
    "    Keys can be used either inside square brackets [] or with the get() method.\n",
    "\n",
    "    If we use the square brackets [], KeyError is raised in case a key is not found in the dictionary. \n",
    "    On the other hand, the get() method returns None if the key is not found."
   ]
  },
  {
   "cell_type": "markdown",
   "id": "a23b121c",
   "metadata": {},
   "source": [
    "### get vs. [ ] for retrieving elements"
   ]
  },
  {
   "cell_type": "code",
   "execution_count": 6,
   "id": "80f4c4b1",
   "metadata": {},
   "outputs": [
    {
     "name": "stdout",
     "output_type": "stream",
     "text": [
      "Jack\n",
      "26\n"
     ]
    }
   ],
   "source": [
    "my_dict = {'name': 'Jack', 'age': 26}\n",
    "\n",
    "# Output: Jack\n",
    "print(my_dict['name'])\n",
    "\n",
    "# Output: 26\n",
    "print(my_dict.get('age'))"
   ]
  },
  {
   "cell_type": "markdown",
   "id": "2fe6bcc2",
   "metadata": {},
   "source": [
    "### Trying to access keys which doesn't exist throws error in case of [] method"
   ]
  },
  {
   "cell_type": "code",
   "execution_count": 7,
   "id": "0461cc5e",
   "metadata": {},
   "outputs": [
    {
     "ename": "KeyError",
     "evalue": "'address'",
     "output_type": "error",
     "traceback": [
      "\u001b[0;31m---------------------------------------------------------------------------\u001b[0m",
      "\u001b[0;31mKeyError\u001b[0m                                  Traceback (most recent call last)",
      "\u001b[0;32m/var/folders/1j/6bqwtp0x00z_279498pht7ym0000gn/T/ipykernel_21941/4255559253.py\u001b[0m in \u001b[0;36m<module>\u001b[0;34m\u001b[0m\n\u001b[1;32m      1\u001b[0m \u001b[0;31m# KeyError\u001b[0m\u001b[0;34m\u001b[0m\u001b[0;34m\u001b[0m\u001b[0;34m\u001b[0m\u001b[0m\n\u001b[0;32m----> 2\u001b[0;31m \u001b[0mprint\u001b[0m\u001b[0;34m(\u001b[0m\u001b[0mmy_dict\u001b[0m\u001b[0;34m[\u001b[0m\u001b[0;34m'address'\u001b[0m\u001b[0;34m]\u001b[0m\u001b[0;34m)\u001b[0m\u001b[0;34m\u001b[0m\u001b[0;34m\u001b[0m\u001b[0m\n\u001b[0m",
      "\u001b[0;31mKeyError\u001b[0m: 'address'"
     ]
    }
   ],
   "source": [
    "# KeyError\n",
    "print(my_dict['address'])"
   ]
  },
  {
   "cell_type": "markdown",
   "id": "3944c0db",
   "metadata": {},
   "source": [
    "### Trying to access keys which doesn't exist through get() method does npt throw error"
   ]
  },
  {
   "cell_type": "code",
   "execution_count": 8,
   "id": "e42ddc54",
   "metadata": {},
   "outputs": [
    {
     "name": "stdout",
     "output_type": "stream",
     "text": [
      "None\n"
     ]
    }
   ],
   "source": [
    "# Output None\n",
    "print(my_dict.get('address'))"
   ]
  },
  {
   "cell_type": "markdown",
   "id": "fac0163e",
   "metadata": {},
   "source": [
    "### Changing/updating and Adding Dictionary elements\n",
    "**Dictionaries are mutable.** \n",
    "* We can add new items or change the value of existing items using an assignment operator.\n",
    "* If the key is already present, then the existing value gets updated. \n",
    "* In case the key is not present, a new **(key: value)** pair is added to the dictionary."
   ]
  },
  {
   "cell_type": "code",
   "execution_count": 11,
   "id": "ae0bdb34",
   "metadata": {
    "scrolled": true
   },
   "outputs": [
    {
     "name": "stdout",
     "output_type": "stream",
     "text": [
      "{'name': 'Amit', 'age': 26}\n"
     ]
    }
   ],
   "source": [
    "# Changing and adding Dictionary Elements\n",
    "my_dict5 = {\"name\": 'Amit', 'age': 26}\n",
    "print(my_dict5)"
   ]
  },
  {
   "cell_type": "markdown",
   "id": "43bca82b",
   "metadata": {},
   "source": [
    "### update value"
   ]
  },
  {
   "cell_type": "code",
   "execution_count": 12,
   "id": "2995a695",
   "metadata": {},
   "outputs": [
    {
     "name": "stdout",
     "output_type": "stream",
     "text": [
      "{'name': 'Amit', 'age': 27}\n"
     ]
    }
   ],
   "source": [
    "my_dict5['age'] = 27\n",
    "print(my_dict5)"
   ]
  },
  {
   "cell_type": "markdown",
   "id": "76e70bf3",
   "metadata": {},
   "source": [
    "### add item"
   ]
  },
  {
   "cell_type": "code",
   "execution_count": 13,
   "id": "e76c52d9",
   "metadata": {
    "scrolled": true
   },
   "outputs": [
    {
     "name": "stdout",
     "output_type": "stream",
     "text": [
      "{'name': 'Amit', 'age': 27, 'address': 'Cantt'}\n"
     ]
    }
   ],
   "source": [
    "my_dict5['address'] = \"Cantt\"\n",
    "print(my_dict5)"
   ]
  },
  {
   "cell_type": "code",
   "execution_count": 14,
   "id": "b47f86ef",
   "metadata": {},
   "outputs": [
    {
     "name": "stdout",
     "output_type": "stream",
     "text": [
      "{'name': 'Amit', 'age': 27, 'address': 'Cantt', 'Job': 'Manager'}\n"
     ]
    }
   ],
   "source": [
    "my_dict5['Job'] = \"Manager\"\n",
    "print(my_dict5)"
   ]
  },
  {
   "cell_type": "markdown",
   "id": "f4bffa1f",
   "metadata": {},
   "source": [
    " ### Built in functions \n",
    "    len()- Return the length (the number of items) in the dictionary.\t\t\t\n",
    "    sorted() - Return a new sorted list of keys in the dictionary."
   ]
  },
  {
   "cell_type": "code",
   "execution_count": 15,
   "id": "373f31fa",
   "metadata": {},
   "outputs": [
    {
     "name": "stdout",
     "output_type": "stream",
     "text": [
      "length of the dictionary is:\n",
      "6\n",
      "sorted keys\n",
      "[0, 1, 2, 3, 5, 7]\n",
      "{0: 0, 1: 1, 3: 9, 5: 25, 7: 49, 2: 4}\n"
     ]
    }
   ],
   "source": [
    "# Dictionary Built-in Functions\n",
    "squares = {0: 0, 1: 1, 3: 9, 5: 25, 7: 49, 2: 4}\n",
    "print(\"length of the dictionary is:\")   \n",
    "print(len(squares))    # 6\n",
    "print(\"sorted keys\")\n",
    "print(sorted(squares))  # returns only sorted keys not values\n",
    "print(squares)"
   ]
  },
  {
   "cell_type": "markdown",
   "id": "44a5772e",
   "metadata": {},
   "source": [
    "### Accessing the items of a dictionary"
   ]
  },
  {
   "cell_type": "markdown",
   "id": "b57989b4",
   "metadata": {},
   "source": [
    "### items (data) of the dictionary can be accessed through the key name\n",
    "* Items of a dictionary can be accessed by referring to its key name, inside square brackets"
   ]
  },
  {
   "cell_type": "markdown",
   "id": "d3573f64",
   "metadata": {},
   "source": [
    "**Example: Get the values of Maths and Chemistry:**"
   ]
  },
  {
   "cell_type": "code",
   "execution_count": 16,
   "id": "f7a03218",
   "metadata": {},
   "outputs": [
    {
     "name": "stdout",
     "output_type": "stream",
     "text": [
      "{'Maths': 40, 'Physics': 48, 'Chemistry': 42}\n"
     ]
    }
   ],
   "source": [
    "score1 = {\n",
    "  \"Maths\": 40,\n",
    "  \"Physics\": 48,\n",
    "  \"Chemistry\": 42\n",
    "}\n",
    "print(score1)"
   ]
  },
  {
   "cell_type": "code",
   "execution_count": 17,
   "id": "42bc1389",
   "metadata": {},
   "outputs": [
    {
     "name": "stdout",
     "output_type": "stream",
     "text": [
      "the score for maths is: 40\n"
     ]
    }
   ],
   "source": [
    "print(\"the score for maths is:\", score1['Maths'])"
   ]
  },
  {
   "cell_type": "markdown",
   "id": "c7c93712",
   "metadata": {},
   "source": [
    "### .get() method: will yield the same result as above"
   ]
  },
  {
   "cell_type": "markdown",
   "id": "39974877",
   "metadata": {},
   "source": [
    "**Example: Get the value of the \"Physics\" key:**"
   ]
  },
  {
   "cell_type": "code",
   "execution_count": 18,
   "id": "3a285f53",
   "metadata": {},
   "outputs": [
    {
     "name": "stdout",
     "output_type": "stream",
     "text": [
      "the score in Physics is: 48\n"
     ]
    }
   ],
   "source": [
    "x = score1.get(\"Physics\")\n",
    "print(\"the score in Physics is:\", x)"
   ]
  },
  {
   "cell_type": "markdown",
   "id": "9d056e86",
   "metadata": {},
   "source": [
    "### Accessing the Keys:\n",
    "#### .keys() method can be used for returning the **LIST** of all the keys in the dictionary."
   ]
  },
  {
   "cell_type": "code",
   "execution_count": 21,
   "id": "e1f71079",
   "metadata": {},
   "outputs": [
    {
     "name": "stdout",
     "output_type": "stream",
     "text": [
      "dict_keys(['Maths', 'Physics', 'Chemistry'])\n"
     ]
    }
   ],
   "source": [
    "##Example: print the list of keys for the above dictionary:\n",
    "all_keys = score1.keys() \n",
    "print(all_keys)"
   ]
  },
  {
   "cell_type": "markdown",
   "id": "f96edd66",
   "metadata": {},
   "source": [
    "    The list of the keys is a view of the dictionary, meaning that any changes done to the dictionary will be reflected in the keys list."
   ]
  },
  {
   "cell_type": "code",
   "execution_count": 22,
   "id": "8ac0ac09",
   "metadata": {},
   "outputs": [
    {
     "name": "stdout",
     "output_type": "stream",
     "text": [
      "dict_keys(['Maths', 'Physics', 'Chemistry'])\n",
      "dict_keys(['Maths', 'Physics', 'Chemistry', 'Name'])\n"
     ]
    }
   ],
   "source": [
    "##Example for mutable property of the dictionary\n",
    "##If we ddd a new item to the original dictionary the keys list gets updated as well:\n",
    "score1 = {\n",
    "    \"Maths\": 40,\n",
    "    \"Physics\": 48,\n",
    "    \"Chemistry\": 42\n",
    "}\n",
    "x = score1.keys()\n",
    "print(x) #before the change\n",
    "#### Define a new key with a value ####\n",
    "score1[\"Name\"] = \"Amit\"\n",
    "print(x) #after the change "
   ]
  },
  {
   "cell_type": "markdown",
   "id": "03cac576",
   "metadata": {},
   "source": [
    "### Accessing the values of the list \n",
    "#### using .values() method\n",
    "The values() method return a **LIST** of all the values in the dictionary."
   ]
  },
  {
   "cell_type": "code",
   "execution_count": 24,
   "id": "2a50274c",
   "metadata": {},
   "outputs": [
    {
     "name": "stdout",
     "output_type": "stream",
     "text": [
      "<class 'dict_values'>\n",
      "dict_values([40, 48, 42, 'Amit'])\n"
     ]
    }
   ],
   "source": [
    "##Example: Get a list of the values:\n",
    "all_values = score1.values() \n",
    "print(type(all_values))\n",
    "print(all_values)"
   ]
  },
  {
   "cell_type": "markdown",
   "id": "fa1d7c99",
   "metadata": {},
   "source": [
    "    The list of the values is a view of the dictionary, meaning that any changes done to the dictionary will be reflected in the values list."
   ]
  },
  {
   "cell_type": "code",
   "execution_count": 25,
   "id": "c4350bd8",
   "metadata": {},
   "outputs": [
    {
     "name": "stdout",
     "output_type": "stream",
     "text": [
      "dict_values([40, 48, 42])\n",
      "dict_values([40, 48, 42, 2020])\n"
     ]
    }
   ],
   "source": [
    "score1 = {\n",
    "    \"Maths\": 40,\n",
    "    \"Physics\": 48,\n",
    "    \"Chemistry\": 42\n",
    "}\n",
    "x = score1.values()\n",
    "print(x) #before the change\n",
    "score1[\"year\"] = 2020\n",
    "print(x) #after the change "
   ]
  },
  {
   "cell_type": "code",
   "execution_count": 26,
   "id": "a8f6f595",
   "metadata": {},
   "outputs": [
    {
     "name": "stdout",
     "output_type": "stream",
     "text": [
      "dict_values(['Ford', 'Mustang', 1964])\n",
      "dict_values(['Ford', 'Mustang', 1964, 'red'])\n"
     ]
    }
   ],
   "source": [
    "### Another example\n",
    "car = {\n",
    "\"brand\": \"Ford\",\n",
    "\"model\": \"Mustang\",\n",
    "\"year\": 1964\n",
    "}\n",
    "x = car.values()\n",
    "print(x) #before the change\n",
    "car[\"color\"] = \"red\"\n",
    "print(x) #after the change "
   ]
  },
  {
   "cell_type": "markdown",
   "id": "eff0947f",
   "metadata": {},
   "source": [
    "#### Method: .Items()\n",
    "    The items() method will return each item in a dictionary, as **TUPLES** in a list."
   ]
  },
  {
   "cell_type": "code",
   "execution_count": 27,
   "id": "9fbc6c84",
   "metadata": {},
   "outputs": [
    {
     "name": "stdout",
     "output_type": "stream",
     "text": [
      "dict_items([('Maths', 40), ('Physics', 48), ('Chemistry', 42), ('year', 2018)])\n",
      "dict_items([('Maths', 40), ('Physics', 48), ('Chemistry', 42), ('year', 2020)])\n"
     ]
    }
   ],
   "source": [
    "score1 = {\n",
    "    \"Maths\": 40,\n",
    "    \"Physics\": 48,\n",
    "    \"Chemistry\": 42,\n",
    "    \"year\": 2018\n",
    "}\n",
    "x = score1.items()\n",
    "print(x) #before the change\n",
    "score1[\"year\"] = 2020\n",
    "print(x) #after the change "
   ]
  },
  {
   "cell_type": "markdown",
   "id": "5a80cd23",
   "metadata": {},
   "source": [
    "### Changing Values of the item\n",
    "**Value of a specific item can be changed by referring to its key**"
   ]
  },
  {
   "cell_type": "code",
   "execution_count": 28,
   "id": "b558b48b",
   "metadata": {},
   "outputs": [
    {
     "name": "stdout",
     "output_type": "stream",
     "text": [
      "{'Maths': 40, 'Physics': 48, 'Chemistry': 42, 'year': 2018}\n"
     ]
    }
   ],
   "source": [
    "score1 = {\n",
    "    \"Maths\": 40,\n",
    "    \"Physics\": 48,\n",
    "    \"Chemistry\": 42,\n",
    "    \"year\": 2020\n",
    "}\n",
    "score1[\"year\"] = 2018\n",
    "print(score1)"
   ]
  },
  {
   "cell_type": "markdown",
   "id": "f8b7737b",
   "metadata": {},
   "source": [
    "### Adding items to Dictionary "
   ]
  },
  {
   "cell_type": "markdown",
   "id": "94507d1f",
   "metadata": {},
   "source": [
    "   * Adding an item to the dictionary can be done by using a new index key and assigning a value to it"
   ]
  },
  {
   "cell_type": "code",
   "execution_count": 29,
   "id": "418b8667",
   "metadata": {},
   "outputs": [
    {
     "name": "stdout",
     "output_type": "stream",
     "text": [
      "{'Maths': 40, 'Physics': 48, 'Chemistry': 42, 'year': 2020, 'Name': 'Amit'}\n"
     ]
    }
   ],
   "source": [
    "score1 = {\n",
    "    \"Maths\": 40,\n",
    "    \"Physics\": 48,\n",
    "    \"Chemistry\": 42,\n",
    "    \"year\": 2020\n",
    "}\n",
    "score1[\"Name\"] = \"Amit\"\n",
    "print(score1)"
   ]
  },
  {
   "cell_type": "markdown",
   "id": "dd61298e",
   "metadata": {},
   "source": [
    "#### Adding items to Dictionary through .update() method\n",
    "* It will update the dictionary with the items from the given argument. The argument must be a dictionary, or an iterable object with key:value pairs"
   ]
  },
  {
   "cell_type": "code",
   "execution_count": 30,
   "id": "ac365480",
   "metadata": {},
   "outputs": [
    {
     "name": "stdout",
     "output_type": "stream",
     "text": [
      "{'Maths': 40, 'Physics': 48, 'Chemistry': 42, 'year': 2021}\n"
     ]
    }
   ],
   "source": [
    "score1 = {\n",
    "    \"Maths\": 40,\n",
    "    \"Physics\": 48,\n",
    "    \"Chemistry\": 42,\n",
    "    \"year\": 2020\n",
    "}\n",
    "score1.update({\"year\": 2021}) \n",
    "print(score1)"
   ]
  },
  {
   "cell_type": "markdown",
   "id": "057c9776",
   "metadata": {},
   "source": [
    "### Removing items from the Dictionary "
   ]
  },
  {
   "cell_type": "markdown",
   "id": "b5f05dc2",
   "metadata": {},
   "source": [
    "### Removing elements from Dictionary\n",
    "\n",
    "pop() - removes an item with the provided key and returns the value.\n",
    "\n",
    "popitem() - removes last item pair from the dictionary. \n",
    "\n",
    "clear() - for clearing the dictionary  # used for all data structures\n",
    "\n",
    "keyword del - to remove individual items or the entire dictionary itself."
   ]
  },
  {
   "cell_type": "markdown",
   "id": "1e4b8bdb",
   "metadata": {},
   "source": [
    "**Note**\n",
    "Both pop() & del() can remove a specific item from dictionary. The only difference between the two is that- pop return deleted value from the list and del does not return anything."
   ]
  },
  {
   "cell_type": "markdown",
   "id": "76dd0422",
   "metadata": {},
   "source": [
    "#### .pop() method"
   ]
  },
  {
   "cell_type": "code",
   "execution_count": 41,
   "id": "339cd492",
   "metadata": {},
   "outputs": [
    {
     "data": {
      "text/plain": [
       "48"
      ]
     },
     "execution_count": 41,
     "metadata": {},
     "output_type": "execute_result"
    }
   ],
   "source": [
    "### The pop() method removes the item with the specified key name:\n",
    "score1 = {\n",
    "    \"Maths\": 40,\n",
    "    \"Physics\": 48,\n",
    "    \"Chemistry\": 42,\n",
    "    \"year\": 2020\n",
    "}\n",
    "score1.pop(\"Physics\")\n"
   ]
  },
  {
   "cell_type": "code",
   "execution_count": 44,
   "id": "db199b9f",
   "metadata": {},
   "outputs": [
    {
     "name": "stdout",
     "output_type": "stream",
     "text": [
      "{'Physics': 48, 'Chemistry': 42, 'year': 2020}\n"
     ]
    }
   ],
   "source": [
    "print(score1)"
   ]
  },
  {
   "cell_type": "markdown",
   "id": "0bb479f8",
   "metadata": {},
   "source": [
    "#### .popitem() method"
   ]
  },
  {
   "cell_type": "markdown",
   "id": "0acc2229",
   "metadata": {},
   "source": [
    "* The popitem() method removes the last inserted item.\n",
    "**in versions before 3.7, a random item is removed instead**"
   ]
  },
  {
   "cell_type": "code",
   "execution_count": 32,
   "id": "873f22cc",
   "metadata": {},
   "outputs": [
    {
     "name": "stdout",
     "output_type": "stream",
     "text": [
      "{'Maths': 40, 'Physics': 48, 'Chemistry': 42}\n"
     ]
    }
   ],
   "source": [
    "score1 = {\n",
    "    \"Maths\": 40,\n",
    "    \"Physics\": 48,\n",
    "    \"Chemistry\": 42,\n",
    "    \"year\": 2020\n",
    "}\n",
    "score1.popitem()\n",
    "print(score1) "
   ]
  },
  {
   "cell_type": "markdown",
   "id": "586abca4",
   "metadata": {},
   "source": [
    "#### del method: The del keyword removes the item with the specified key name"
   ]
  },
  {
   "cell_type": "code",
   "execution_count": 42,
   "id": "15631d7c",
   "metadata": {},
   "outputs": [],
   "source": [
    "score1 = {\n",
    "    \"Maths\": 40,\n",
    "    \"Physics\": 48,\n",
    "    \"Chemistry\": 42,\n",
    "    \"year\": 2020\n",
    "}\n",
    "del score1[\"Maths\"]\n"
   ]
  },
  {
   "cell_type": "code",
   "execution_count": 43,
   "id": "fbeae383",
   "metadata": {},
   "outputs": [
    {
     "name": "stdout",
     "output_type": "stream",
     "text": [
      "{'Physics': 48, 'Chemistry': 42, 'year': 2020}\n"
     ]
    }
   ],
   "source": [
    "print(score1)"
   ]
  },
  {
   "cell_type": "markdown",
   "id": "ab7f65e6",
   "metadata": {},
   "source": [
    "#### The del keyword can also be used to delete the dictionary completely:"
   ]
  },
  {
   "cell_type": "code",
   "execution_count": 34,
   "id": "bdb943e8",
   "metadata": {},
   "outputs": [
    {
     "name": "stdout",
     "output_type": "stream",
     "text": [
      "{'brand': 'Ford', 'model': 'Mustang', 'year': 1964}\n"
     ]
    },
    {
     "ename": "NameError",
     "evalue": "name 'thisdict' is not defined",
     "output_type": "error",
     "traceback": [
      "\u001b[0;31m---------------------------------------------------------------------------\u001b[0m",
      "\u001b[0;31mNameError\u001b[0m                                 Traceback (most recent call last)",
      "\u001b[0;32m/var/folders/1j/6bqwtp0x00z_279498pht7ym0000gn/T/ipykernel_21941/2152236514.py\u001b[0m in \u001b[0;36m<module>\u001b[0;34m\u001b[0m\n\u001b[1;32m      6\u001b[0m \u001b[0mprint\u001b[0m\u001b[0;34m(\u001b[0m\u001b[0mthisdict\u001b[0m\u001b[0;34m)\u001b[0m\u001b[0;34m\u001b[0m\u001b[0;34m\u001b[0m\u001b[0m\n\u001b[1;32m      7\u001b[0m \u001b[0;32mdel\u001b[0m \u001b[0mthisdict\u001b[0m\u001b[0;34m\u001b[0m\u001b[0;34m\u001b[0m\u001b[0m\n\u001b[0;32m----> 8\u001b[0;31m \u001b[0mprint\u001b[0m\u001b[0;34m(\u001b[0m\u001b[0mthisdict\u001b[0m\u001b[0;34m)\u001b[0m \u001b[0;31m#this will cause an error because \"thisdict\" no longer exists.\u001b[0m\u001b[0;34m\u001b[0m\u001b[0;34m\u001b[0m\u001b[0m\n\u001b[0m",
      "\u001b[0;31mNameError\u001b[0m: name 'thisdict' is not defined"
     ]
    }
   ],
   "source": [
    "thisdict ={\n",
    "  \"brand\": \"Ford\",\n",
    "  \"model\": \"Mustang\",\n",
    "  \"year\": 1964\n",
    "}\n",
    "print(thisdict)\n",
    "del thisdict\n",
    "print(thisdict) #this will cause an error because \"thisdict\" no longer exists. "
   ]
  },
  {
   "cell_type": "markdown",
   "id": "d80f8974",
   "metadata": {},
   "source": [
    "#### .clear() will empty the dictionary"
   ]
  },
  {
   "cell_type": "code",
   "execution_count": 36,
   "id": "ed1e77e2",
   "metadata": {},
   "outputs": [
    {
     "name": "stdout",
     "output_type": "stream",
     "text": [
      "{'Maths': 40, 'Physics': 48, 'Chemistry': 42, 'year': 2020}\n",
      "{}\n"
     ]
    }
   ],
   "source": [
    "score1 = {\n",
    "    \"Maths\": 40,\n",
    "    \"Physics\": 48,\n",
    "    \"Chemistry\": 42,\n",
    "    \"year\": 2020\n",
    "}\n",
    "print(score1)\n",
    "score1.clear()\n",
    "print(score1) ### output will be an empty dictionary"
   ]
  },
  {
   "cell_type": "markdown",
   "id": "28c373f0",
   "metadata": {},
   "source": [
    "#### To rename a key.\n",
    "To change the key in a dictionary in Python, we can perform the following steps.\n",
    "       \n",
    "       Assign a new key to the old key.\n",
    "        Delete the old key."
   ]
  },
  {
   "cell_type": "code",
   "execution_count": 37,
   "id": "3e392267",
   "metadata": {},
   "outputs": [
    {
     "name": "stdout",
     "output_type": "stream",
     "text": [
      "Old dictionary- {1: 'January', 2: 'Febuary', 3: 'March'}\n",
      "New dictionary- {1: 'January', 3: 'March', 2.1: 'Febuary'}\n"
     ]
    }
   ],
   "source": [
    "### Example - renaming the key\n",
    "dict_ex={ 1: 'January', 2:'Febuary', 3:'March' }\n",
    "print(\"Old dictionary-\",dict_ex)\n",
    "### To rename the key 2 as 2.1\n",
    "dict_ex[2.1] = dict_ex[2]\n",
    "## delete old key\n",
    "del dict_ex[2]\n",
    "print(\"New dictionary-\",dict_ex)"
   ]
  },
  {
   "cell_type": "code",
   "execution_count": 40,
   "id": "a59ee02c",
   "metadata": {},
   "outputs": [
    {
     "name": "stdout",
     "output_type": "stream",
     "text": [
      "Old dictionary- {1: 'January', 2: 'Febuary', 3: 'March'}\n",
      "New dictionary- {1: 'January', 3: 'March', 2.2: 'Febuary'}\n"
     ]
    }
   ],
   "source": [
    "dict_ex1={ 1: 'January', 2:'Febuary', 3:'March' }\n",
    "print(\"Old dictionary-\",dict_ex1)\n",
    "dict_ex1[2.2] = dict_ex1.pop(2)    ## u rename (assign) & delete in one line\n",
    "print(\"New dictionary-\",dict_ex1)"
   ]
  },
  {
   "cell_type": "markdown",
   "id": "8366370f",
   "metadata": {},
   "source": [
    "### Try to sort the dictionay by keys and by values"
   ]
  },
  {
   "cell_type": "markdown",
   "id": "21588a2d",
   "metadata": {},
   "source": [
    "### 1. Sort dictionary by key"
   ]
  },
  {
   "cell_type": "code",
   "execution_count": 50,
   "id": "7aac1ddf",
   "metadata": {},
   "outputs": [
    {
     "name": "stdout",
     "output_type": "stream",
     "text": [
      "{6: 'June', 3: 'Mar', 1: 'Jan', 5: 'May', 2: 'Feb', 4: 'April'}\n"
     ]
    }
   ],
   "source": [
    "my_dict = {6:'June', 3:'Mar', 1:'Jan', 5:'May', 2:'Feb', 4:'April'}\n",
    "print(my_dict)"
   ]
  },
  {
   "cell_type": "code",
   "execution_count": 51,
   "id": "1e4c1bd6",
   "metadata": {},
   "outputs": [
    {
     "name": "stdout",
     "output_type": "stream",
     "text": [
      "OrderedDict([(1, 'Jan'), (2, 'Feb'), (3, 'Mar'), (4, 'April'), (5, 'May'), (6, 'June')])\n"
     ]
    }
   ],
   "source": [
    "import collections\n",
    "key_ordered = collections.OrderedDict(sorted(my_dict.items()))\n",
    "print(key_ordered)"
   ]
  },
  {
   "cell_type": "markdown",
   "id": "64c23ed7",
   "metadata": {},
   "source": [
    "### 2. Sort dictionary by value"
   ]
  },
  {
   "cell_type": "code",
   "execution_count": 71,
   "id": "9352dbd3",
   "metadata": {},
   "outputs": [
    {
     "name": "stdout",
     "output_type": "stream",
     "text": [
      "{'canada': 'c', 'finland': 'f', 'brazil': 'b', 'denmark': 'd', 'usa': 'a', 'egypt': 'e'}\n",
      "dict ordered by value :\n"
     ]
    },
    {
     "data": {
      "text/plain": [
       "{'usa': 'a',\n",
       " 'brazil': 'b',\n",
       " 'canada': 'c',\n",
       " 'denmark': 'd',\n",
       " 'egypt': 'e',\n",
       " 'finland': 'f'}"
      ]
     },
     "execution_count": 71,
     "metadata": {},
     "output_type": "execute_result"
    }
   ],
   "source": [
    "my_dict1 = {'canada':'c', 'finland':'f', 'brazil':'b', 'denmark':'d', 'usa':'a', 'egypt':'e'}\n",
    "print(my_dict1)\n",
    "\n",
    "print(\"dict ordered by value :\")\n",
    "{k: v for k, v in sorted(my_dict1.items(), key=lambda item: item[1])}"
   ]
  },
  {
   "cell_type": "markdown",
   "id": "82de02b1",
   "metadata": {},
   "source": [
    "### Nested Dictionaries"
   ]
  },
  {
   "cell_type": "code",
   "execution_count": 72,
   "id": "89366d46",
   "metadata": {},
   "outputs": [
    {
     "name": "stdout",
     "output_type": "stream",
     "text": [
      "{'student1': {'name': 'Anil', 'Age': 17}, 'student2': {'name': 'Ashok', 'Age': 16}, 'student3': {'name': 'Asha', 'Age': 17}}\n",
      "{'name': 'Anil', 'Age': 17}\n",
      "Anil\n"
     ]
    }
   ],
   "source": [
    "batchA = {\n",
    "  \"student1\" : {\n",
    "    \"name\" : \"Anil\",\n",
    "    \"Age\" : 17\n",
    "  },\n",
    "  \"student2\" : {\n",
    "    \"name\" : \"Ashok\",\n",
    "    \"Age\" : 16\n",
    "  },\n",
    "  \"student3\" : {\n",
    "    \"name\" : \"Asha\",\n",
    "    \"Age\" : 17\n",
    "  }\n",
    "} \n",
    "print(batchA)##printing the entire information\n",
    "\n",
    "print(batchA['student1'])## printing a particular information\n",
    "\n",
    "print(batchA['student1']['name'])## printing a particular information"
   ]
  },
  {
   "cell_type": "markdown",
   "id": "b2267b88",
   "metadata": {},
   "source": [
    "#### Creating dictionary through dictionaries"
   ]
  },
  {
   "cell_type": "code",
   "execution_count": 73,
   "id": "ebcbe161",
   "metadata": {},
   "outputs": [
    {
     "name": "stdout",
     "output_type": "stream",
     "text": [
      "{'name': 'Anil', 'Age': 17}\n",
      "{'student1': {'name': 'Anil', 'Age': 17}, 'student2': {'name': 'Ashok', 'Age': 16}, 'student3': {'name': 'Asha', 'Age': 17}}\n"
     ]
    }
   ],
   "source": [
    "student1 = {\n",
    "    \"name\" : \"Anil\",\n",
    "    \"Age\" : 17\n",
    "}\n",
    "student2 = {\n",
    "    \"name\" : \"Ashok\",\n",
    "    \"Age\" : 16\n",
    "}\n",
    "student3 = {\n",
    "    \"name\" : \"Asha\",\n",
    "    \"Age\" : 17\n",
    "}\n",
    "batchA = {\n",
    "  \"student1\" : student1,\n",
    "  \"student2\" : student2,\n",
    "  \"student3\" : student3\n",
    "} \n",
    "print(student1)\n",
    "print(batchA)"
   ]
  },
  {
   "cell_type": "code",
   "execution_count": 74,
   "id": "84dc5df6",
   "metadata": {},
   "outputs": [
    {
     "name": "stdout",
     "output_type": "stream",
     "text": [
      "{'name': 'Atul Kumar', 'age': 28, 'fav_movies': ['Joker', 'Interstellar'], 'fav_players': ['Virat', 'Sehwag']}\n",
      "{'name': 'Vivekanand Panday', 'age': 27, 'fav_movies': ['Get out', 'Laxmi Bomb'], 'fav_players': ['Rohit Sharma', 'Dhoni']}\n",
      "['Joker', 'Interstellar']\n"
     ]
    }
   ],
   "source": [
    "# Example 2\n",
    "users = {\n",
    "        'user1': {\n",
    "            'name': 'Atul Kumar',\n",
    "            'age' : 28,\n",
    "      'fav_movies': [\"Joker\", \"Interstellar\"],\n",
    "      'fav_players': [\"Virat\",\"Sehwag\"]\n",
    "      },\n",
    "        'user2':{\n",
    "            'name': 'Vivekanand Panday',\n",
    "            'age':27,\n",
    "            'fav_movies':[\"Get out\",\"Laxmi Bomb\"],\n",
    "            'fav_players':[\"Rohit Sharma\",\"Dhoni\"]},\n",
    "    }\n",
    "print(users['user1'])\n",
    "print(users['user2'])\n",
    "print(users['user1']['fav_movies'])"
   ]
  },
  {
   "cell_type": "markdown",
   "id": "a80e2429",
   "metadata": {},
   "source": [
    "### Adding data to an empty dictionary"
   ]
  },
  {
   "cell_type": "code",
   "execution_count": 75,
   "id": "04025ea6",
   "metadata": {},
   "outputs": [
    {
     "name": "stdout",
     "output_type": "stream",
     "text": [
      "{'name': 'Atul', 'age': 28}\n"
     ]
    }
   ],
   "source": [
    "# To add data to empty dictionary\n",
    "user_info2 = {}\n",
    "user_info2['name'] = 'Atul'\n",
    "user_info2['age'] = 28\n",
    "print(user_info2)"
   ]
  },
  {
   "cell_type": "markdown",
   "id": "7cba6c85",
   "metadata": {},
   "source": [
    "### Some other builtin functions/ features of dictionaries"
   ]
  },
  {
   "cell_type": "markdown",
   "id": "c121fc84",
   "metadata": {},
   "source": [
    "###  fromkeys\n",
    "\n",
    "Syntax-   **dict.fromkeys(keys, value)**"
   ]
  },
  {
   "cell_type": "code",
   "execution_count": 83,
   "id": "1b99fcdd",
   "metadata": {},
   "outputs": [
    {
     "name": "stdout",
     "output_type": "stream",
     "text": [
      "{'key1': 0, 'key2': 0, 'key3': 0}\n"
     ]
    }
   ],
   "source": [
    "# Create a dictionary with 3 keys, all with the value 0:\n",
    "\n",
    "x = ('key1', 'key2', 'key3')\n",
    "y = 0\n",
    "\n",
    "thisdict = dict.fromkeys(x, y)\n",
    "\n",
    "print(thisdict)\n"
   ]
  },
  {
   "cell_type": "code",
   "execution_count": 78,
   "id": "9e6ebcf7",
   "metadata": {},
   "outputs": [
    {
     "name": "stdout",
     "output_type": "stream",
     "text": [
      "{'name': 'xyz', 'age': 'unknown'}\n",
      "{'name': 'unknown', 'age': 'unknown', 'address': 'unknown'}\n"
     ]
    }
   ],
   "source": [
    "# fromkeys\n",
    "d1 = {'name':'xyz', 'age':'unknown'}\n",
    "print(d1)\n",
    "d2 = dict.fromkeys(('name','age','address'),'unknown')\n",
    "print(d2)\n",
    "##d3 = dict.fromkeys(('name','age','address'),('unknown',22,'unknown')) wrong usage\n",
    "##print(d3) "
   ]
  },
  {
   "cell_type": "code",
   "execution_count": 3,
   "id": "010cddc9",
   "metadata": {},
   "outputs": [
    {
     "name": "stdout",
     "output_type": "stream",
     "text": [
      "{'name': 'somevalue', 'age': 'unknown'}\n",
      "{'name': 'unknown', 'age': 'unknown', 'address': 'unknown', 'hobby': 'unknown'}\n"
     ]
    }
   ],
   "source": [
    "d1 = {'name':'somevalue', 'age':'unknown'}  # overwriting d1\n",
    "print(d1)\n",
    "d1 = dict.fromkeys(('name','age','address','hobby'),'unknown') \n",
    "print(d1)\n",
    "# overwriting"
   ]
  },
  {
   "cell_type": "code",
   "execution_count": 4,
   "id": "490105ea",
   "metadata": {},
   "outputs": [
    {
     "name": "stdout",
     "output_type": "stream",
     "text": [
      "{'a': 4, 'b': 4, 'c': 4, 'd': 4}\n"
     ]
    }
   ],
   "source": [
    "# string will be split with unknown value  #### no duplicates in dictionary so only one c\n",
    "d = dict.fromkeys(('abccd'),4)\n",
    "print(d)\n",
    "### repetation is not allowed"
   ]
  },
  {
   "cell_type": "code",
   "execution_count": 85,
   "id": "8e5896ab",
   "metadata": {},
   "outputs": [
    {
     "name": "stdout",
     "output_type": "stream",
     "text": [
      "{1: 'unknown', 2: 'unknown', 3: 'unknown', 4: 'unknown', 5: 'unknown', 6: 'unknown', 7: 'unknown', 8: 'unknown', 9: 'unknown', 10: 'unknown'}\n",
      "{'name': 'unknown', 'age': 'unknown'}\n"
     ]
    }
   ],
   "source": [
    "# list will be split with unknown value\n",
    "d1 = dict.fromkeys(range(1,11),'unknown') ## range gives o/p in form of sequence\n",
    "print(d1)\n",
    "d2 = dict.fromkeys(['name','age'],'unknown')  \n",
    "print(d2)"
   ]
  },
  {
   "cell_type": "code",
   "execution_count": 90,
   "id": "1970fc41",
   "metadata": {},
   "outputs": [
    {
     "ename": "KeyError",
     "evalue": "'names'",
     "output_type": "error",
     "traceback": [
      "\u001b[0;31m---------------------------------------------------------------------------\u001b[0m",
      "\u001b[0;31mKeyError\u001b[0m                                  Traceback (most recent call last)",
      "\u001b[0;32m/var/folders/1j/6bqwtp0x00z_279498pht7ym0000gn/T/ipykernel_21941/3555570668.py\u001b[0m in \u001b[0;36m<module>\u001b[0;34m\u001b[0m\n\u001b[1;32m      2\u001b[0m \u001b[0;34m\u001b[0m\u001b[0m\n\u001b[1;32m      3\u001b[0m \u001b[0md\u001b[0m \u001b[0;34m=\u001b[0m \u001b[0;34m{\u001b[0m\u001b[0;34m'name'\u001b[0m\u001b[0;34m:\u001b[0m\u001b[0;34m'unknown'\u001b[0m\u001b[0;34m,\u001b[0m \u001b[0;34m'age'\u001b[0m\u001b[0;34m:\u001b[0m\u001b[0;34m'unknown'\u001b[0m\u001b[0;34m}\u001b[0m\u001b[0;34m\u001b[0m\u001b[0;34m\u001b[0m\u001b[0m\n\u001b[0;32m----> 4\u001b[0;31m \u001b[0mprint\u001b[0m\u001b[0;34m(\u001b[0m\u001b[0md\u001b[0m\u001b[0;34m[\u001b[0m\u001b[0;34m'names'\u001b[0m\u001b[0;34m]\u001b[0m\u001b[0;34m)\u001b[0m \u001b[0;31m# error\u001b[0m\u001b[0;34m\u001b[0m\u001b[0;34m\u001b[0m\u001b[0m\n\u001b[0m",
      "\u001b[0;31mKeyError\u001b[0m: 'names'"
     ]
    }
   ],
   "source": [
    "# get method identify whether the input is present or not in the dictionary. \n",
    "\n",
    "d = {'name':'unknown', 'age':'unknown'}\n",
    "print(d['names']) # error"
   ]
  },
  {
   "cell_type": "code",
   "execution_count": 91,
   "id": "45404a32",
   "metadata": {},
   "outputs": [
    {
     "name": "stdout",
     "output_type": "stream",
     "text": [
      "None\n"
     ]
    }
   ],
   "source": [
    "# To avoid error message use get() metho\n",
    "print(d.get('names')) # better to write using get()."
   ]
  },
  {
   "cell_type": "code",
   "execution_count": 92,
   "id": "84f9f516",
   "metadata": {},
   "outputs": [
    {
     "name": "stdout",
     "output_type": "stream",
     "text": [
      "Atul\n",
      "None\n"
     ]
    }
   ],
   "source": [
    "# More about get, two same keys in dictionaries.\n",
    "user = {'name':'Atul', 'age':28}\n",
    "print(user.get('name'))\n",
    "print(user.get('names')) # if word is not in the dictionary then get() will give output None"
   ]
  },
  {
   "cell_type": "markdown",
   "id": "2fe4eb4c",
   "metadata": {},
   "source": [
    "#### Examples: Updating Dictionary"
   ]
  },
  {
   "cell_type": "code",
   "execution_count": 96,
   "id": "ccc8c512",
   "metadata": {},
   "outputs": [
    {
     "name": "stdout",
     "output_type": "stream",
     "text": [
      "{'name': 'Atul Kumar', 'age': 28, 'fav_movies': ['Joker', 'Interstellar'], 'fav_players': ['Virat', 'Sehwag'], 'state': 'UP', 'Hobbies': ['reading', 'playing', 'coding']}\n"
     ]
    }
   ],
   "source": [
    "# Update dictionary\n",
    "user_info = {\n",
    "    'name': 'Atul Kumar',\n",
    "    'age' : 28,\n",
    "    'fav_movies': [\"Joker\", \"Interstellar\"],\n",
    "    'fav_players': [\"Virat\",\"Sehwag\"]\n",
    "    }\n",
    "more_info = {'name':'Atul Kumar','state':'UP',\n",
    "             'Hobbies':['reading','playing','coding']}\n",
    "user_info.update(more_info)   ## update used when u want to add multiple entries(key-value) together\n",
    "print(user_info)\n",
    "\n",
    "# name key is overwritten second time with same value Atul Kumar \n",
    "# (no duplicate keys in dictionary) & additional atributes added at end"
   ]
  },
  {
   "cell_type": "markdown",
   "id": "35d122f8",
   "metadata": {},
   "source": [
    "#### Using add and delete "
   ]
  },
  {
   "cell_type": "code",
   "execution_count": 97,
   "id": "c23cecfe",
   "metadata": {},
   "outputs": [
    {
     "name": "stdout",
     "output_type": "stream",
     "text": [
      "{'name': 'Atul Kumar', 'age': 28, 'fav_movies': ['Joker', 'Interstellar'], 'fav_players': ['Virat', 'Sehwag'], 'fav_song': ['song1', 'song2']}\n"
     ]
    }
   ],
   "source": [
    "user_info = {\n",
    "    'name': 'Atul Kumar',\n",
    "    'age' : 28,\n",
    "    'fav_movies': [\"Joker\", \"Interstellar\"],\n",
    "    'fav_players': [\"Virat\",\"Sehwag\"]\n",
    "    }\n",
    "# To add data  (adding just 1 entry, updating item by item)\n",
    "user_info['fav_song'] = ['song1', 'song2']\n",
    "print(user_info)\n"
   ]
  },
  {
   "cell_type": "code",
   "execution_count": 98,
   "id": "291b1c24",
   "metadata": {},
   "outputs": [
    {
     "name": "stdout",
     "output_type": "stream",
     "text": [
      "poped item is ['Virat', 'Sehwag']\n",
      "{'name': 'Atul Kumar', 'age': 28, 'fav_movies': ['Joker', 'Interstellar'], 'fav_song': ['song1', 'song2']}\n"
     ]
    }
   ],
   "source": [
    "# pop method.\n",
    "poped_item = user_info.pop('fav_players')\n",
    "print(f\"poped item is {poped_item}\")\n",
    "print(user_info)"
   ]
  },
  {
   "cell_type": "markdown",
   "id": "ea5842bc",
   "metadata": {},
   "source": [
    "    Note: Although access to items in a dictionary does not depend on order (syl-meaning they are not accessed via index but keys which is like index), Python does guarantee that the order of items in a dictionary is preserved (syl- meaning when u print items in a dictionary they do not get shuffled, appear in fixed order everytime unlike in sets where it gets shuffled everytime). When displayed, items will appear in the order they were defined, and iteration through the keys will occur in that order as well. Items added to a dictionary are added at the end. If items are deleted, the order of the remaining items is retained.\n",
    "    You can only count on this preservation of order very recently. It was added as a part of the Python language specification in version 3.7. However, it was true as of version 3.6 as well—by happenstance as a result of the implementation but not guaranteed by the language specification.\n",
    "\n"
   ]
  },
  {
   "cell_type": "markdown",
   "id": "aed89238",
   "metadata": {},
   "source": [
    "## Examples of nested dictionaries"
   ]
  },
  {
   "cell_type": "code",
   "execution_count": 99,
   "id": "87758d0b",
   "metadata": {},
   "outputs": [
    {
     "name": "stdout",
     "output_type": "stream",
     "text": [
      "{1: {'name': 'John', 'age': '27', 'sex': 'Male'}, 2: {'name': 'Marie', 'age': '22', 'sex': 'Female'}}\n"
     ]
    }
   ],
   "source": [
    "### Example 1: How to create a nested dictionary\n",
    "\n",
    "people = {1: {'name': 'John', 'age': '27', 'sex': 'Male'},\n",
    "          2: {'name': 'Marie', 'age': '22', 'sex': 'Female'}}\n",
    "\n",
    "# people dictionary has 2 records with keys 1 and 2 which are again having dictionaries as values.\n",
    "# generally this used when u want to store records - collective information\n",
    "\n",
    "print(people)"
   ]
  },
  {
   "cell_type": "code",
   "execution_count": 100,
   "id": "205c67b0",
   "metadata": {},
   "outputs": [
    {
     "data": {
      "text/plain": [
       "{'name': 'John', 'age': '27', 'sex': 'Male'}"
      ]
     },
     "execution_count": 100,
     "metadata": {},
     "output_type": "execute_result"
    }
   ],
   "source": [
    "people[1]"
   ]
  },
  {
   "cell_type": "code",
   "execution_count": 102,
   "id": "ee138849",
   "metadata": {},
   "outputs": [
    {
     "data": {
      "text/plain": [
       "'John'"
      ]
     },
     "execution_count": 102,
     "metadata": {},
     "output_type": "execute_result"
    }
   ],
   "source": [
    "people[1]['name']  # accessing specific information"
   ]
  },
  {
   "cell_type": "code",
   "execution_count": 103,
   "id": "86c5cda7",
   "metadata": {},
   "outputs": [
    {
     "name": "stdout",
     "output_type": "stream",
     "text": [
      "John\n",
      "27\n",
      "Male\n"
     ]
    }
   ],
   "source": [
    "### Access elements of a Nested Dictionary\n",
    "\n",
    "### To access element of a nested dictionary, we use indexing [] syntax in Python.\n",
    "### Example 2: Access the elements using the [] syntax\n",
    "\n",
    "people = {1: {'name': 'John', 'age': '27', 'sex': 'Male'},\n",
    "          2: {'name': 'Marie', 'age': '22', 'sex': 'Female'}}\n",
    "\n",
    "print(people[1]['name'])\n",
    "print(people[1]['age'])\n",
    "print(people[1]['sex'])"
   ]
  },
  {
   "cell_type": "code",
   "execution_count": 104,
   "id": "478a8d8e",
   "metadata": {},
   "outputs": [
    {
     "name": "stdout",
     "output_type": "stream",
     "text": [
      "{'name': 'Luna', 'age': '24', 'sex': 'Female', 'married': 'No'}\n",
      "{1: {'name': 'John', 'age': '27', 'sex': 'Male'}, 2: {'name': 'Marie', 'age': '22', 'sex': 'Female'}, 3: {'name': 'Luna', 'age': '24', 'sex': 'Female', 'married': 'No'}}\n"
     ]
    }
   ],
   "source": [
    "## Add element to a Nested Dictionary\n",
    "### Example 3: How to change or add elements in a nested dictionary?\n",
    "\n",
    "people = {1: {'name': 'John', 'age': '27', 'sex': 'Male'},\n",
    "          2: {'name': 'Marie', 'age': '22', 'sex': 'Female'}}\n",
    "\n",
    "people[3] = {} # declare empty dict\n",
    "\n",
    "people[3]['name'] = 'Luna'\n",
    "people[3]['age'] = '24'\n",
    "people[3]['sex'] = 'Female'\n",
    "people[3]['married'] = 'No'\n",
    "\n",
    "print(people[3])\n",
    "print(people)"
   ]
  },
  {
   "cell_type": "code",
   "execution_count": 106,
   "id": "00432d80",
   "metadata": {},
   "outputs": [
    {
     "name": "stdout",
     "output_type": "stream",
     "text": [
      "{'name': 'Peter', 'age': '29', 'sex': 'Male', 'married': 'Yes'}\n",
      "{1: {'name': 'John', 'age': '27', 'sex': 'Male'}, 2: {'name': 'Marie', 'age': '22', 'sex': 'Female'}, 3: {'name': 'Luna', 'age': '24', 'sex': 'Female', 'married': 'No'}, 4: {'name': 'Peter', 'age': '29', 'sex': 'Male', 'married': 'Yes'}}\n"
     ]
    }
   ],
   "source": [
    "### Example 4: Add another dictionary to the nested dictionary\n",
    "\n",
    "people = {1: {'name': 'John', 'age': '27', 'sex': 'Male'},\n",
    "          2: {'name': 'Marie', 'age': '22', 'sex': 'Female'},\n",
    "          3: {'name': 'Luna', 'age': '24', 'sex': 'Female', 'married': 'No'}}\n",
    "\n",
    "people[4] = {'name': 'Peter', 'age': '29', 'sex': 'Male', 'married': 'Yes'}\n",
    "print(people[4])\n",
    "print(people)"
   ]
  },
  {
   "cell_type": "code",
   "execution_count": 107,
   "id": "8680c2f7",
   "metadata": {},
   "outputs": [
    {
     "name": "stdout",
     "output_type": "stream",
     "text": [
      "{'name': 'Anita', 'age': '26', 'Job': 'Manager'}\n",
      "{'name': 'Abha', 'age': '29', 'Job': 'Programmer'}\n"
     ]
    }
   ],
   "source": [
    "## Delete elements from a Nested Dictionary\n",
    "\n",
    "### In Python, we use “ del “ statement to delete elements from nested dictionary.\n",
    "### Example 5: How to delete elements from a nested dictionary?\n",
    "\n",
    "people = {1: {'name': 'Amit', 'age': '27', 'Job': 'Programmer'},\n",
    "          2: {'name': 'Ashish', 'age': '28', 'Job': 'Data Analyst'},\n",
    "          3: {'name': 'Anita', 'age': '26', 'Job': 'Manager', 'married': 'No'},\n",
    "          4: {'name': 'Abha', 'age': '29', 'Job': 'Programmer', 'married': 'Yes'}}\n",
    "\n",
    "del people[3]['married']\n",
    "del people[4]['married']\n",
    "\n",
    "print(people[3])\n",
    "print(people[4])"
   ]
  },
  {
   "cell_type": "code",
   "execution_count": 108,
   "id": "2b04e267",
   "metadata": {},
   "outputs": [
    {
     "name": "stdout",
     "output_type": "stream",
     "text": [
      "{1: {'name': 'Amit', 'age': '27', 'Job': 'Programmer'}, 2: {'name': 'Ashish', 'age': '28', 'Job': 'Data Analyst'}}\n"
     ]
    }
   ],
   "source": [
    "### Example 6: How to delete dictionary from a nested dictionary?\n",
    "\n",
    "people = {1: {'name': 'Amit', 'age': '27', 'Job': 'Programmer'},\n",
    "          2: {'name': 'Ashish', 'age': '28', 'Job': 'Data Analyst'},\n",
    "          3: {'name': 'Anita', 'age': '26', 'Job': 'Manager'},\n",
    "          4: {'name': 'Abha', 'age': '29', 'Job': 'Programmer'}}\n",
    "\n",
    "del people[3], people[4]\n",
    "print(people)"
   ]
  },
  {
   "cell_type": "markdown",
   "id": "d364cff2",
   "metadata": {},
   "source": [
    "#### Note :\n",
    "The values of (dictionary people)are itself in form of dictionary.\n",
    "e.g. key=1 but value = {'Name': 'Amit', 'Age': '27', 'Job': 'Programmer'}which is itself a dictionary."
   ]
  },
  {
   "cell_type": "code",
   "execution_count": 7,
   "id": "fac63440",
   "metadata": {},
   "outputs": [
    {
     "name": "stdout",
     "output_type": "stream",
     "text": [
      "\n",
      "Main dict-key-Person ID: 1\n",
      "\n",
      "Main dict-value-p_info: {'Name': 'Amit', 'Age': '27', 'Job': 'Programmer'}\n",
      "\n",
      "Nested dict-keyname Name\n",
      "Nested dict-value Amit\n",
      "\n",
      "Nested dict-keyname Age\n",
      "Nested dict-value 27\n",
      "\n",
      "Nested dict-keyname Job\n",
      "Nested dict-value Programmer\n",
      "\n",
      "Main dict-key-Person ID: 2\n",
      "\n",
      "Main dict-value-p_info: {'Name': 'Ashish', 'Age': '22', 'Job': 'Data Analyst'}\n",
      "\n",
      "Nested dict-keyname Name\n",
      "Nested dict-value Ashish\n",
      "\n",
      "Nested dict-keyname Age\n",
      "Nested dict-value 22\n",
      "\n",
      "Nested dict-keyname Job\n",
      "Nested dict-value Data Analyst\n"
     ]
    }
   ],
   "source": [
    "###Iterating Through a Nested Dictionary\n",
    "\n",
    "### Using the for loops, we can iterate through each elements in a nested dictionary.\n",
    "### Example 7: How to iterate through a Nested dictionary?\n",
    "\n",
    "people = {1: {'Name': 'Amit', 'Age': '27', 'Job': 'Programmer'},  # values of dict r itself in form of dict\n",
    "          2: {'Name': 'Ashish', 'Age': '22', 'Job': 'Data Analyst'}}\n",
    "\n",
    "for p_id, p_info in people.items():   # key, value in dict.items() in general\n",
    "    print(\"\\nMain dict-key-Person ID:\", p_id)\n",
    "    print(\"\\nMain dict-value-p_info:\", p_info)\n",
    "    \n",
    "    for key in p_info:\n",
    "        print('\\nNested dict-keyname',key)\n",
    "        print('Nested dict-value', p_info[key]) # With p_info[key] u get value of key since in dict\n",
    "                                       # stored in form of key/value. u give key in [] & get value.\n",
    "            "
   ]
  },
  {
   "cell_type": "code",
   "execution_count": 111,
   "id": "abf94761",
   "metadata": {},
   "outputs": [
    {
     "data": {
      "text/plain": [
       "{101: {'name': 'Rishi', 'percentage': 99.0},\n",
       " 102: {'name': 'Ankita', 'percentage': 55.0},\n",
       " 103: {'name': 'Rajan', 'percentage': 88.0}}"
      ]
     },
     "execution_count": 111,
     "metadata": {},
     "output_type": "execute_result"
    }
   ],
   "source": [
    "stud={101: {'name': 'Rishi', 'percentage': 99.0}, \n",
    "      102: {'name': 'Ankita', 'percentage': 55.0}, \n",
    "      103: {'name': 'Rajan', 'percentage': 88.0}}\n",
    "stud"
   ]
  },
  {
   "cell_type": "code",
   "execution_count": 8,
   "id": "0a768715",
   "metadata": {},
   "outputs": [
    {
     "name": "stdout",
     "output_type": "stream",
     "text": [
      "Student Entry Form\n",
      "\n",
      "Enter the number of the students you want to enter:2\n",
      "Enter the Name for 7000\t:s1\n",
      "Enter the Percentage for 7000\t:90\n",
      "Enter the Name for 7001\t:s2\n",
      "Enter the Percentage for 7001\t:89\n",
      "\n",
      " {7000: {'name': 's1', 'percentage': 90.0}, 7001: {'name': 's2', 'percentage': 89.0}}\n",
      "\n",
      "Enter the roll no. whose details you want to see:7001\n",
      "\n",
      "Name of the student having roll no. 7001  is s2 & Percentage is 89.0\n",
      "\n",
      " s1 : 90.0 %\n",
      "\n",
      " s2 : 89.0 %\n",
      "\n",
      " stud2 {90.0: 7000, 89.0: 7001}\n"
     ]
    }
   ],
   "source": [
    "print('Student Entry Form\\n')\n",
    "\n",
    "n=int(input('Enter the number of the students you want to enter:'))\n",
    "\n",
    "def student_entry(n):  # Defining user-defined function\n",
    "    stud = {}  # Initializing an empty dictionary as curly{} brackets\n",
    "    roll = 7000\n",
    "    for i in range(n):\n",
    "        stud[roll+i]={}  # Initializing an empty dictionary for stud1\n",
    "        stud[roll+i]['name']=input(f'Enter the Name for {roll+i}\\t:')\n",
    "        stud[roll+i]['percentage']=float(input(f'Enter the Percentage for {roll+i}\\t:'))\n",
    "    return stud\n",
    "\n",
    "stud=student_entry(n) # Calling function (student_entry) & stud stores O/P of that function\n",
    "print('\\n',stud)  # This prints the dictionary created from student_entry function\n",
    "\n",
    "\n",
    "stud_num=int(input(\"\\nEnter the roll no. whose details you want to see:\"))\n",
    "\n",
    "# stud = details of all students\n",
    "# stud[stud_num] = student whose details u want to see\n",
    "# stud[stud_num]['name'] = particular attribute u want to see of the particular student\n",
    "\n",
    "print('\\nName of the student having roll no.',stud_num,' is', stud[stud_num]['name'], '& Percentage is',stud[stud_num]['percentage'])\n",
    "\n",
    "\n",
    "stud2={}\n",
    "for keys in stud:\n",
    "    \n",
    "    print('\\n',stud[keys]['name'],':',stud[keys]['percentage'],'%')\n",
    "    stud2[stud[keys]['percentage']]=keys   # Adding element in stud2 taken from stud\n",
    "\n",
    "print('\\n','stud2',stud2)\n",
    "\n",
    "# stud2=sorted(stud2)\n",
    "\n",
    "# print('stud keys',stud[keys])\n"
   ]
  },
  {
   "cell_type": "code",
   "execution_count": 25,
   "id": "f2ec8173",
   "metadata": {},
   "outputs": [
    {
     "name": "stdout",
     "output_type": "stream",
     "text": [
      "{'roll_no': 7000, 'name': 'stud1', 'prcnt': 90}\n"
     ]
    },
    {
     "data": {
      "text/plain": [
       "dict"
      ]
     },
     "execution_count": 25,
     "metadata": {},
     "output_type": "execute_result"
    }
   ],
   "source": [
    "# Normal dictionary\n",
    "\n",
    "def create_dict(roll_no,name, prcnt):\n",
    "    dict1 = {}\n",
    "    dict1['roll_no'] = roll_no\n",
    "    dict1['name'] = name\n",
    "    dict1['prcnt'] = prcnt\n",
    "    return dict1\n",
    "\n",
    "new_dict = create_dict(7000, 'stud1', 90)\n",
    "print(new_dict)\n",
    "type(new_dict)"
   ]
  },
  {
   "cell_type": "code",
   "execution_count": 4,
   "id": "2e212527",
   "metadata": {},
   "outputs": [
    {
     "name": "stdout",
     "output_type": "stream",
     "text": [
      "{1: {'name': 'sylvia', 'age': 33, 'hobby': 'swimming'}, 2: {'name': 'manuj', 'age': 32, 'hobby': 'gaming'}}\n",
      "{'name': 'sylvia', 'age': 33, 'hobby': 'swimming'}\n",
      "swimming\n",
      "{'name': 'sylvia', 'age': 33, 'hobby': 'swimming', 'job': 'Software Developer'}\n"
     ]
    }
   ],
   "source": [
    "# Nested Dictionary\n",
    "\n",
    "person = {1:{'name':'sylvia', 'age':33, 'hobby':'swimming'},\n",
    "          2:{'name':'manuj', 'age':32, 'hobby':'gaming'}}\n",
    "print(person)\n",
    "\n",
    "# Accesssing elements\n",
    "\n",
    "print(person[1])\n",
    "\n",
    "print(person[1]['hobby'])\n",
    "\n",
    "# Adding elements\n",
    "person[1]['job'] = 'Software Developer' \n",
    "print(person[1])\n"
   ]
  },
  {
   "cell_type": "markdown",
   "id": "876236c9",
   "metadata": {},
   "source": [
    "## Questions for you"
   ]
  },
  {
   "cell_type": "markdown",
   "id": "a27bfae0",
   "metadata": {},
   "source": [
    "### 1. Can we have sets as dictionary keys? Try to justify your answer.\n",
    "### 2. Can we convert lists to tuples and vice-verca ?\n",
    "### 3. Out of the data structrures list, tuple, set and dictionary which one is fastest and which one is slowest?\n",
    "### 4. Which data structure out of list, tuple, set and dictionary is used most?"
   ]
  },
  {
   "cell_type": "markdown",
   "id": "acb93dcc",
   "metadata": {},
   "source": [
    "## Answers"
   ]
  },
  {
   "cell_type": "markdown",
   "id": "41269027",
   "metadata": {},
   "source": [
    "1. A dictionary key must be of a type that is immutable. For example, you can use an integer, float, string, or Boolean as a dictionary key. However, neither a list nor another dictionary nor set can serve as a dictionary key, because lists, dictionaries, sets are mutable.\n",
    "\n",
    "\n",
    "2. Yes in Python normally any data structure can be changed into another.\n",
    "\n",
    "\n",
    "3. List and Tuple lookup are sequential. Scan through all elements to find if something is present or not. In dictionary, keys are hashed. Lookup complexity is O (1). Thus, constant time for lookup irrespective of volume of data. Dictionary is faster than others.Lists are slower than tuples because every time a new execution is done with lists, new objects are created, and the objects are not interpreted just once. Tuples are identified by Python as one immutable object.\n",
    "\n",
    "\n",
    "4. Lists are used more in comparison to tuples and dictionary is used more in comparison to sets.\n"
   ]
  },
  {
   "cell_type": "markdown",
   "id": "c4b13823",
   "metadata": {},
   "source": [
    "# What are Mutable & Immutable data types in Python?"
   ]
  },
  {
   "attachments": {
    "m.jpg": {
     "image/jpeg": "[encoded data removed]"
    }
   },
   "cell_type": "markdown",
   "id": "b7803e25",
   "metadata": {},
   "source": [
    "![m.jpg](attachment:m.jpg)"
   ]
  },
  {
   "cell_type": "code",
   "execution_count": null,
   "id": "1a2d39c1",
   "metadata": {},
   "outputs": [],
   "source": []
  }
 ],
 "metadata": {
  "kernelspec": {
   "display_name": "Python 3 (ipykernel)",
   "language": "python",
   "name": "python3"
  },
  "language_info": {
   "codemirror_mode": {
    "name": "ipython",
    "version": 3
   },
   "file_extension": ".py",
   "mimetype": "text/x-python",
   "name": "python",
   "nbconvert_exporter": "python",
   "pygments_lexer": "ipython3",
   "version": "3.7.7"
  }
 },
 "nbformat": 4,
 "nbformat_minor": 5
}

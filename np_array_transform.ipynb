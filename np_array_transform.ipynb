{
 "cells": [
  {
   "cell_type": "markdown",
   "metadata": {
    "collapsed": true,
    "pycharm": {
     "name": "#%% md\n"
    }
   },
   "source": [
    "## Array Transformations\n",
    "### When we r dealing with linear algebra many times we need to resize, reshape, flatten, transpose array etc\n",
    "\n",
    "1. reshape\n",
    "2. resize\n",
    "3. flatten\n",
    "4. transpose\n",
    "\n",
    "Only resize option change original array, none of other options change original array so if u need to use modified array obtained from reshape, flatten or transpose to need to store it to a new variable or assign it to same variable again."
   ]
  },
  {
   "cell_type": "code",
   "execution_count": 39,
   "outputs": [
    {
     "name": "stdout",
     "output_type": "stream",
     "text": [
      "1-D array\n",
      " [0 1 2 3 4 5 6 7 8 9]\n",
      "\n",
      "reshaped 2-D array\n",
      " [[0 1 2 3 4]\n",
      " [5 6 7 8 9]]\n",
      "\n",
      "original array remains unchanged\n",
      " [0 1 2 3 4 5 6 7 8 9]\n"
     ]
    }
   ],
   "source": [
    "import numpy as np\n",
    "\n",
    "a = np.array(range(10))\n",
    "print('1-D array\\n',a)\n",
    "\n",
    "# Need to reshape this 1-D array to 2-D array with 2 rows and 5 columns\n",
    "b = a.reshape(2,5)  # it does not change original array a, need to assign to new variable\n",
    "print('\\nreshaped 2-D array\\n',b)\n",
    "\n",
    "print('\\noriginal array remains unchanged\\n',a)"
   ],
   "metadata": {
    "collapsed": false,
    "pycharm": {
     "name": "#%%\n"
    }
   }
  },
  {
   "cell_type": "code",
   "execution_count": 21,
   "outputs": [
    {
     "name": "stdout",
     "output_type": "stream",
     "text": [
      "1-D array\n",
      " [0 1 2 3 4 5 6 7 8 9]\n",
      "\n",
      "1-D original array transformed\n",
      " [[0 1 2 3 4]\n",
      " [5 6 7 8 9]]\n"
     ]
    }
   ],
   "source": [
    "## If we need original array to be transformed we use resize instead of reshape\n",
    "a = np.array(range(10))\n",
    "print('1-D array\\n',a)\n",
    "\n",
    "a.resize(2,5)\n",
    "print('\\n1-D original array transformed\\n',a)"
   ],
   "metadata": {
    "collapsed": false,
    "pycharm": {
     "name": "#%%\n"
    }
   }
  },
  {
   "cell_type": "code",
   "execution_count": 37,
   "outputs": [
    {
     "name": "stdout",
     "output_type": "stream",
     "text": [
      "original array\n",
      " [[ 3  4  5]\n",
      " [ 9 10 11]]\n",
      "\n",
      "flattened array\n",
      " [ 3  4  5  9 10 11]\n",
      "original array remains unchanged\n",
      " [[ 3  4  5]\n",
      " [ 9 10 11]]\n"
     ]
    }
   ],
   "source": [
    "# flatten function (any dimensional array will always be converted to 1-D array)\n",
    "x = np.array([[3,4,5],[9,10,11]])\n",
    "print('original array\\n',x)\n",
    "\n",
    "print('\\nflattened array\\n',x.flatten())\n",
    "\n",
    "print('original array remains unchanged\\n',x)"
   ],
   "metadata": {
    "collapsed": false,
    "pycharm": {
     "name": "#%%\n"
    }
   }
  },
  {
   "cell_type": "code",
   "execution_count": 38,
   "outputs": [
    {
     "name": "stdout",
     "output_type": "stream",
     "text": [
      "original array\n",
      " [[ 3  4  5]\n",
      " [ 9 10 11]]\n",
      "\n",
      " transposed array\n",
      " [[ 3  9]\n",
      " [ 4 10]\n",
      " [ 5 11]]\n",
      "\n",
      " original array remains unchanged\n",
      " [[ 3  4  5]\n",
      " [ 9 10 11]]\n"
     ]
    }
   ],
   "source": [
    "# transpose (exchange rows and columns)\n",
    "y = np.array([[3,4,5],[9,10,11]])\n",
    "print('original array\\n',x)\n",
    "\n",
    "print('\\n transposed array\\n',y.transpose())\n",
    "\n",
    "print('\\n original array remains unchanged\\n',y)\n",
    "# since original unchanged if u need to use transpose, assign it to new variable or\n",
    "# assign it to same variable a.\n"
   ],
   "metadata": {
    "collapsed": false,
    "pycharm": {
     "name": "#%%\n"
    }
   }
  },
  {
   "cell_type": "markdown",
   "source": [
    "## Stacking arrays (hstack and vstack)\n",
    "You can stack or combine 2 or more arrays & create 1 single array out of that."
   ],
   "metadata": {
    "collapsed": false,
    "pycharm": {
     "name": "#%% md\n"
    }
   }
  },
  {
   "cell_type": "code",
   "execution_count": 40,
   "outputs": [
    {
     "name": "stdout",
     "output_type": "stream",
     "text": [
      "[[0 1 2 3 4]\n",
      " [5 6 7 8 9]]\n"
     ]
    }
   ],
   "source": [
    "arr = np.array([[0,1,2,3,4],[5,6,7,8,9]])\n",
    "print(arr)"
   ],
   "metadata": {
    "collapsed": false,
    "pycharm": {
     "name": "#%%\n"
    }
   }
  },
  {
   "cell_type": "markdown",
   "source": [
    "### hstack"
   ],
   "metadata": {
    "collapsed": false,
    "pycharm": {
     "name": "#%% md\n"
    }
   }
  },
  {
   "cell_type": "code",
   "execution_count": 44,
   "outputs": [
    {
     "name": "stdout",
     "output_type": "stream",
     "text": [
      "[[0 1 2 3 4 0 1 2 3 4]\n",
      " [5 6 7 8 9 5 6 7 8 9]]\n"
     ]
    }
   ],
   "source": [
    "# stacked side by side\n",
    "print(np.hstack((arr,arr)))   # if function takes tuple as i/p, u need to give inside ()"
   ],
   "metadata": {
    "collapsed": false,
    "pycharm": {
     "name": "#%%\n"
    }
   }
  },
  {
   "cell_type": "markdown",
   "source": [
    "### vstack"
   ],
   "metadata": {
    "collapsed": false,
    "pycharm": {
     "name": "#%% md\n"
    }
   }
  },
  {
   "cell_type": "code",
   "execution_count": 47,
   "outputs": [
    {
     "name": "stdout",
     "output_type": "stream",
     "text": [
      "[[0 1 2 3 4]\n",
      " [5 6 7 8 9]\n",
      " [0 1 2 3 4]\n",
      " [5 6 7 8 9]]\n"
     ]
    }
   ],
   "source": [
    "print(np.vstack((arr,arr)))  # stacked one under the another"
   ],
   "metadata": {
    "collapsed": false,
    "pycharm": {
     "name": "#%%\n"
    }
   }
  },
  {
   "cell_type": "code",
   "execution_count": null,
   "outputs": [],
   "source": [],
   "metadata": {
    "collapsed": false,
    "pycharm": {
     "name": "#%%\n"
    }
   }
  }
 ],
 "metadata": {
  "kernelspec": {
   "display_name": "Python 3",
   "language": "python",
   "name": "python3"
  },
  "language_info": {
   "codemirror_mode": {
    "name": "ipython",
    "version": 2
   },
   "file_extension": ".py",
   "mimetype": "text/x-python",
   "name": "python",
   "nbconvert_exporter": "python",
   "pygments_lexer": "ipython2",
   "version": "2.7.6"
  }
 },
 "nbformat": 4,
 "nbformat_minor": 0
}
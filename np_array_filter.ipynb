{
 "cells": [
  {
   "cell_type": "markdown",
   "metadata": {
    "collapsed": true,
    "pycharm": {
     "name": "#%% md\n"
    }
   },
   "source": [
    "## Array indexing, slicing and filtering"
   ]
  },
  {
   "cell_type": "code",
   "execution_count": 5,
   "outputs": [],
   "source": [
    "import numpy as np\n",
    "import os\n",
    "\n",
    "os.getcwd()\n",
    "\n",
    "data = np.loadtxt(fname='/Users/sylvia/Desktop/IITR/python/Data/patient_data.csv',delimiter=',')\n"
   ],
   "metadata": {
    "collapsed": false,
    "pycharm": {
     "name": "#%%\n"
    }
   }
  },
  {
   "cell_type": "code",
   "execution_count": 9,
   "outputs": [
    {
     "name": "stdout",
     "output_type": "stream",
     "text": [
      "(60, 40)\n",
      "2400\n",
      "float64\n"
     ]
    }
   ],
   "source": [
    "# Shape, size and datatype\n",
    "print(data.shape)\n",
    "print(data.size)\n",
    "print(data.dtype)"
   ],
   "metadata": {
    "collapsed": false,
    "pycharm": {
     "name": "#%%\n"
    }
   }
  },
  {
   "cell_type": "markdown",
   "source": [
    "## Indexing\n",
    "Refer elements in array using index\n",
    "In list also we access elements using index, however in arrays we have dimensions concept also."
   ],
   "metadata": {
    "collapsed": false,
    "pycharm": {
     "name": "#%% md\n"
    }
   }
  },
  {
   "cell_type": "code",
   "execution_count": 11,
   "outputs": [
    {
     "name": "stdout",
     "output_type": "stream",
     "text": [
      "first element 0.0\n",
      "second element 0.0\n"
     ]
    }
   ],
   "source": [
    "# access 1st element in this data (this is 2-D data)\n",
    "print('first element',data[0][0])\n",
    "print('second element',data[0][1])"
   ],
   "metadata": {
    "collapsed": false,
    "pycharm": {
     "name": "#%%\n"
    }
   }
  },
  {
   "cell_type": "markdown",
   "source": [
    "## Slicing"
   ],
   "metadata": {
    "collapsed": false,
    "pycharm": {
     "name": "#%% md\n"
    }
   }
  },
  {
   "cell_type": "code",
   "execution_count": 16,
   "outputs": [
    {
     "name": "stdout",
     "output_type": "stream",
     "text": [
      "[[ 0.  0.  1.  3.  1.  2.  4.  7.  8.  3.  3.  3. 10.  5.  7.  4.  7.  7.\n",
      "  12. 18.  6. 13. 11. 11.  7.  7.  4.  6.  8.  8.  4.  4.  5.  7.  3.  4.\n",
      "   2.  3.  0.  0.]\n",
      " [ 0.  1.  2.  1.  2.  1.  3.  2.  2.  6. 10. 11.  5.  9.  4.  4.  7. 16.\n",
      "   8.  6. 18.  4. 12.  5. 12.  7. 11.  5. 11.  3.  3.  5.  4.  4.  5.  5.\n",
      "   1.  1.  0.  1.]\n",
      " [ 0.  1.  1.  3.  3.  2.  6.  2.  5.  9.  5.  7.  4.  5.  4. 15.  5. 11.\n",
      "   9. 10. 19. 14. 12. 17.  7. 12. 11.  7.  4.  2. 10.  5.  4.  2.  2.  3.\n",
      "   2.  2.  1.  1.]\n",
      " [ 0.  0.  2.  0.  4.  2.  2.  1.  6.  7. 10.  7.  9. 13.  8.  8. 15. 10.\n",
      "  10.  7. 17.  4.  4.  7.  6. 15.  6.  4.  9. 11.  3.  5.  6.  3.  3.  4.\n",
      "   2.  3.  2.  1.]]\n"
     ]
    }
   ],
   "source": [
    "# Extract data for first 4 patients only\n",
    "p_data = data[:4,]   # by default assumes all columns\n",
    "                     # or can write data[0:4,:]  i.e. first 4 rows and all cols\n",
    "print(p_data)"
   ],
   "metadata": {
    "collapsed": false,
    "pycharm": {
     "name": "#%%\n"
    }
   }
  },
  {
   "cell_type": "code",
   "execution_count": 18,
   "outputs": [
    {
     "name": "stdout",
     "output_type": "stream",
     "text": [
      "[[0. 0. 1. 3. 1. 2. 4.]\n",
      " [0. 1. 2. 1. 2. 1. 3.]\n",
      " [0. 1. 1. 3. 3. 2. 6.]\n",
      " [0. 0. 2. 0. 4. 2. 2.]\n",
      " [0. 1. 1. 3. 3. 1. 3.]\n",
      " [0. 0. 1. 2. 2. 4. 2.]\n",
      " [0. 0. 2. 2. 4. 2. 2.]\n",
      " [0. 0. 1. 2. 3. 1. 2.]\n",
      " [0. 0. 0. 3. 1. 5. 6.]\n",
      " [0. 1. 1. 2. 1. 3. 5.]\n",
      " [0. 1. 0. 0. 4. 3. 3.]\n",
      " [0. 1. 0. 0. 3. 4. 2.]\n",
      " [0. 0. 2. 1. 4. 3. 6.]\n",
      " [0. 0. 0. 0. 1. 3. 1.]\n",
      " [0. 1. 2. 1. 1. 1. 4.]\n",
      " [0. 1. 1. 0. 1. 2. 4.]\n",
      " [0. 0. 0. 0. 2. 3. 6.]\n",
      " [0. 0. 0. 1. 2. 1. 4.]\n",
      " [0. 0. 2. 1. 2. 5. 4.]\n",
      " [0. 1. 2. 0. 1. 4. 3.]\n",
      " [0. 1. 1. 3. 1. 4. 4.]\n",
      " [0. 0. 2. 3. 2. 3. 2.]\n",
      " [0. 0. 0. 3. 4. 5. 1.]\n",
      " [0. 1. 1. 1. 1. 3. 3.]\n",
      " [0. 1. 1. 1. 2. 3. 5.]\n",
      " [0. 0. 2. 1. 3. 3. 2.]\n",
      " [0. 0. 1. 2. 4. 2. 2.]\n",
      " [0. 0. 1. 1. 1. 5. 1.]\n",
      " [0. 0. 2. 2. 3. 4. 6.]\n",
      " [0. 0. 0. 1. 4. 4. 6.]\n",
      " [0. 1. 1. 0. 3. 2. 4.]\n",
      " [0. 0. 2. 3. 3. 4. 5.]\n",
      " [0. 1. 2. 2. 2. 3. 6.]\n",
      " [0. 0. 2. 1. 3. 5. 6.]\n",
      " [0. 0. 1. 2. 4. 1. 5.]\n",
      " [0. 0. 0. 3. 1. 3. 6.]\n",
      " [0. 1. 2. 2. 2. 5. 5.]\n",
      " [0. 1. 1. 2. 3. 1. 5.]\n",
      " [0. 1. 0. 3. 2. 4. 1.]\n",
      " [0. 1. 1. 3. 1. 1. 5.]\n",
      " [0. 0. 0. 2. 2. 1. 3.]\n",
      " [0. 0. 1. 3. 3. 1. 2.]\n",
      " [0. 1. 1. 3. 4. 5. 2.]\n",
      " [0. 0. 1. 3. 1. 4. 3.]\n",
      " [0. 1. 1. 3. 3. 4. 4.]\n",
      " [0. 1. 2. 2. 4. 3. 1.]\n",
      " [0. 0. 2. 3. 4. 5. 4.]\n",
      " [0. 1. 1. 3. 1. 4. 6.]\n",
      " [0. 0. 1. 3. 2. 5. 1.]\n",
      " [0. 0. 1. 2. 3. 4. 5.]\n",
      " [0. 1. 2. 1. 1. 3. 5.]\n",
      " [0. 1. 2. 2. 3. 5. 2.]\n",
      " [0. 0. 0. 2. 4. 4. 5.]\n",
      " [0. 0. 2. 1. 1. 4. 4.]\n",
      " [0. 1. 2. 1. 1. 4. 5.]\n",
      " [0. 0. 1. 3. 2. 3. 6.]\n",
      " [0. 1. 1. 2. 2. 5. 1.]\n",
      " [0. 1. 1. 1. 4. 1. 6.]\n",
      " [0. 0. 0. 1. 4. 5. 6.]\n",
      " [0. 0. 1. 0. 3. 2. 5.]]\n"
     ]
    }
   ],
   "source": [
    "# Extract data for all patients for 1st week (7 days)\n",
    "\n",
    "c_data = data[:,0:7]\n",
    "print(c_data)"
   ],
   "metadata": {
    "collapsed": false,
    "pycharm": {
     "name": "#%%\n"
    }
   }
  },
  {
   "cell_type": "code",
   "execution_count": 21,
   "outputs": [
    {
     "name": "stdout",
     "output_type": "stream",
     "text": [
      "[[ 2.  1.  6.  4.  7.  6.  6.]\n",
      " [ 2.  5.  5.  8.  6.  5. 11.]\n",
      " [ 2.  3.  5.  3.  7.  8.  8.]\n",
      " [ 6.  5.  5.  8.  2.  4. 11.]\n",
      " [ 5.  3.  5.  8.  6.  8. 12.]]\n"
     ]
    }
   ],
   "source": [
    "# Extract data of patients 5 to 10 for second week\n",
    "\n",
    "e_data = data[5:10,6:13]\n",
    "print(e_data)"
   ],
   "metadata": {
    "collapsed": false,
    "pycharm": {
     "name": "#%%\n"
    }
   }
  },
  {
   "cell_type": "markdown",
   "source": [
    "## Filtering\n",
    "Filtering is used to get specific values from an array.\n",
    "This is not just slicing data, this is extracting based on condition\n"
   ],
   "metadata": {
    "collapsed": false,
    "pycharm": {
     "name": "#%% md\n"
    }
   }
  },
  {
   "cell_type": "code",
   "execution_count": 23,
   "outputs": [
    {
     "name": "stdout",
     "output_type": "stream",
     "text": [
      "[[False False False ... False False False]\n",
      " [False False False ... False False False]\n",
      " [False False False ... False False False]\n",
      " ...\n",
      " [False False False ... False False False]\n",
      " [False False False ... False False False]\n",
      " [False False False ... False False False]]\n"
     ]
    }
   ],
   "source": [
    "# Extract reading only above 10 for all patients\n",
    "print(data>10)    # returns array of booleans which satisfies this condition"
   ],
   "metadata": {
    "collapsed": false,
    "pycharm": {
     "name": "#%%\n"
    }
   }
  },
  {
   "cell_type": "code",
   "execution_count": 24,
   "outputs": [
    {
     "name": "stdout",
     "output_type": "stream",
     "text": [
      "[12. 18. 13. 11. 11. 11. 16. 18. 12. 12. 11. 11. 15. 11. 19. 14. 12. 17.\n",
      " 12. 11. 13. 15. 17. 15. 11. 17. 14. 13. 12. 15. 16. 18. 12. 12. 18. 12.\n",
      " 11. 13. 12. 17. 15. 13. 15. 11. 18. 19. 20. 13. 15. 11. 12. 11. 17. 11.\n",
      " 16. 12. 14. 13. 11. 12. 13. 13. 16. 18. 15. 16. 14. 12. 11. 13. 13. 15.\n",
      " 18. 15. 15. 16. 11. 14. 12. 11. 14. 11. 11. 16. 18. 12. 11. 12. 17. 13.\n",
      " 15. 13. 12. 12. 13. 13. 16. 15. 11. 11. 11. 12. 13. 17. 12. 13. 12. 18.\n",
      " 17. 12. 11. 11. 11. 14. 11. 11. 12. 12. 13. 19. 14. 17. 13. 11. 12. 12.\n",
      " 14. 14. 13. 19. 12. 13. 11. 11. 15. 17. 11. 12. 12. 13. 12. 13. 11. 13.\n",
      " 16. 19. 16. 11. 14. 12. 11. 12. 12. 15. 13. 18. 19. 11. 12. 12. 12. 12.\n",
      " 16. 14. 12. 12. 14. 17. 13. 16. 15. 13. 12. 13. 14. 11. 15. 14. 13. 13.\n",
      " 14. 11. 12. 12. 15. 17. 16. 15. 11. 12. 12. 16. 17. 11. 14. 13. 11. 12.\n",
      " 12. 12. 13. 13. 15. 12. 18. 14. 16. 12. 11. 14. 15. 12. 15. 15. 13. 17.\n",
      " 11. 11. 12. 19. 20. 18. 14. 12. 17. 16. 14. 15. 17. 14. 13. 12. 11. 11.\n",
      " 14. 14. 12. 16. 13. 15. 13. 14. 19. 15. 15. 11. 11. 12. 13. 15. 15. 14.\n",
      " 11. 11. 12. 12. 11. 12. 12. 12. 13. 11. 15. 13. 12. 15. 17. 19. 14. 18.\n",
      " 12. 17. 14. 13. 13. 11. 11. 15. 16. 17. 16. 16. 16. 13. 16. 12. 17. 13.\n",
      " 15. 16. 17. 14. 11. 12. 15. 12. 13. 13. 19. 13. 13. 12. 15. 16. 16. 15.\n",
      " 14. 13. 12. 13. 11. 15. 18. 14. 12. 11. 13. 11. 17. 19. 11. 12. 15. 11.\n",
      " 12. 15. 12. 16. 14. 12. 11. 11. 11. 19. 18. 14. 15. 12. 15. 11. 18. 14.\n",
      " 15. 12. 11. 16. 14. 11. 11. 16. 12. 15. 17. 19. 18. 13. 15. 11. 11. 11.\n",
      " 13. 15. 15. 14. 15. 12. 11. 12. 14. 12. 12. 11. 16. 13. 12. 12. 18. 16.\n",
      " 16. 15. 15. 11. 13. 13. 14. 12. 15. 15. 12. 16. 20. 15. 12. 12. 14. 11.\n",
      " 15. 13. 14. 11. 17. 11. 11. 12. 12. 11. 12. 15. 15. 13. 12. 13. 13. 17.\n",
      " 16. 16. 15. 12. 13. 12. 11. 11. 11. 16. 13. 16. 16. 11. 14. 16. 14. 14.\n",
      " 17. 14. 13. 14. 13. 13. 12. 19. 15. 12. 15. 13. 18. 17. 14. 13. 11. 12.\n",
      " 14. 11. 13. 18. 11. 13. 11.]\n"
     ]
    }
   ],
   "source": [
    "print(data[data>10])"
   ],
   "metadata": {
    "collapsed": false,
    "pycharm": {
     "name": "#%%\n"
    }
   }
  },
  {
   "cell_type": "code",
   "execution_count": null,
   "outputs": [],
   "source": [],
   "metadata": {
    "collapsed": false,
    "pycharm": {
     "name": "#%%\n"
    }
   }
  }
 ],
 "metadata": {
  "kernelspec": {
   "display_name": "Python 3",
   "language": "python",
   "name": "python3"
  },
  "language_info": {
   "codemirror_mode": {
    "name": "ipython",
    "version": 2
   },
   "file_extension": ".py",
   "mimetype": "text/x-python",
   "name": "python",
   "nbconvert_exporter": "python",
   "pygments_lexer": "ipython2",
   "version": "2.7.6"
  }
 },
 "nbformat": 4,
 "nbformat_minor": 0
}
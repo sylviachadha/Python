{
 "cells": [
  {
   "cell_type": "markdown",
   "metadata": {
    "collapsed": true,
    "pycharm": {
     "name": "#%% md\n"
    }
   },
   "source": [
    "## Dataframe Slicing and Filtering"
   ]
  },
  {
   "cell_type": "code",
   "execution_count": 1,
   "outputs": [
    {
     "name": "stdout",
     "output_type": "stream",
     "text": [
      "<class 'pandas.core.frame.DataFrame'>\n"
     ]
    },
    {
     "data": {
      "text/plain": "  InvoiceNo StockCode                          Description  Quantity  \\\n0    536365    85123A   WHITE HANGING HEART T-LIGHT HOLDER         6   \n1    536365     71053                  WHITE METAL LANTERN         6   \n2    536365    84406B       CREAM CUPID HEARTS COAT HANGER         8   \n3    536365    84029G  KNITTED UNION FLAG HOT WATER BOTTLE         6   \n4    536365    84029E       RED WOOLLY HOTTIE WHITE HEART.         6   \n\n       InvoiceDate  UnitPrice  CustomerID         Country  \n0  01-12-2010 8.26       2.55     17850.0  United Kingdom  \n1  01-12-2010 8.26       3.39     17850.0  United Kingdom  \n2  01-12-2010 8.26       2.75     17850.0  United Kingdom  \n3  01-12-2010 8.26       3.39     17850.0  United Kingdom  \n4  01-12-2010 8.26       3.39     17850.0  United Kingdom  ",
      "text/html": "<div>\n<style scoped>\n    .dataframe tbody tr th:only-of-type {\n        vertical-align: middle;\n    }\n\n    .dataframe tbody tr th {\n        vertical-align: top;\n    }\n\n    .dataframe thead th {\n        text-align: right;\n    }\n</style>\n<table border=\"1\" class=\"dataframe\">\n  <thead>\n    <tr style=\"text-align: right;\">\n      <th></th>\n      <th>InvoiceNo</th>\n      <th>StockCode</th>\n      <th>Description</th>\n      <th>Quantity</th>\n      <th>InvoiceDate</th>\n      <th>UnitPrice</th>\n      <th>CustomerID</th>\n      <th>Country</th>\n    </tr>\n  </thead>\n  <tbody>\n    <tr>\n      <th>0</th>\n      <td>536365</td>\n      <td>85123A</td>\n      <td>WHITE HANGING HEART T-LIGHT HOLDER</td>\n      <td>6</td>\n      <td>01-12-2010 8.26</td>\n      <td>2.55</td>\n      <td>17850.0</td>\n      <td>United Kingdom</td>\n    </tr>\n    <tr>\n      <th>1</th>\n      <td>536365</td>\n      <td>71053</td>\n      <td>WHITE METAL LANTERN</td>\n      <td>6</td>\n      <td>01-12-2010 8.26</td>\n      <td>3.39</td>\n      <td>17850.0</td>\n      <td>United Kingdom</td>\n    </tr>\n    <tr>\n      <th>2</th>\n      <td>536365</td>\n      <td>84406B</td>\n      <td>CREAM CUPID HEARTS COAT HANGER</td>\n      <td>8</td>\n      <td>01-12-2010 8.26</td>\n      <td>2.75</td>\n      <td>17850.0</td>\n      <td>United Kingdom</td>\n    </tr>\n    <tr>\n      <th>3</th>\n      <td>536365</td>\n      <td>84029G</td>\n      <td>KNITTED UNION FLAG HOT WATER BOTTLE</td>\n      <td>6</td>\n      <td>01-12-2010 8.26</td>\n      <td>3.39</td>\n      <td>17850.0</td>\n      <td>United Kingdom</td>\n    </tr>\n    <tr>\n      <th>4</th>\n      <td>536365</td>\n      <td>84029E</td>\n      <td>RED WOOLLY HOTTIE WHITE HEART.</td>\n      <td>6</td>\n      <td>01-12-2010 8.26</td>\n      <td>3.39</td>\n      <td>17850.0</td>\n      <td>United Kingdom</td>\n    </tr>\n  </tbody>\n</table>\n</div>"
     },
     "execution_count": 1,
     "metadata": {},
     "output_type": "execute_result"
    }
   ],
   "source": [
    "# Load data\n",
    "import pandas as pd\n",
    "\n",
    "df = pd.read_csv('online_retail.csv')\n",
    "print(type(df))\n",
    "\n",
    "# preview your data\n",
    "df.head()"
   ],
   "metadata": {
    "collapsed": false,
    "pycharm": {
     "name": "#%%\n"
    }
   }
  },
  {
   "cell_type": "code",
   "execution_count": 8,
   "outputs": [
    {
     "name": "stdout",
     "output_type": "stream",
     "text": [
      "   Quantity  UnitPrice\n",
      "0         6       2.55\n",
      "1         6       3.39\n",
      "2         8       2.75\n",
      "3         6       3.39\n",
      "4         6       3.39\n"
     ]
    }
   ],
   "source": [
    "# Subset of data with specific columns, Quantity and Unit price.\n",
    "\n",
    "col_list = ['Quantity','UnitPrice']  # if more than 1 col need to extract, pass list\n",
    "subset1 = df[col_list]\n",
    "print(subset1.head())    # inner [] for list & outer [] for accessing element"
   ],
   "metadata": {
    "collapsed": false,
    "pycharm": {
     "name": "#%%\n"
    }
   }
  },
  {
   "cell_type": "code",
   "execution_count": 10,
   "outputs": [
    {
     "name": "stdout",
     "output_type": "stream",
     "text": [
      "  InvoiceNo StockCode                          Description  Quantity\n",
      "0    536365    85123A   WHITE HANGING HEART T-LIGHT HOLDER         6\n",
      "1    536365     71053                  WHITE METAL LANTERN         6\n",
      "2    536365    84406B       CREAM CUPID HEARTS COAT HANGER         8\n",
      "3    536365    84029G  KNITTED UNION FLAG HOT WATER BOTTLE         6\n",
      "4    536365    84029E       RED WOOLLY HOTTIE WHITE HEART.         6\n",
      "5    536365     22752         SET 7 BABUSHKA NESTING BOXES         2\n",
      "6    536365     21730    GLASS STAR FROSTED T-LIGHT HOLDER         6\n",
      "7    536366     22633               HAND WARMER UNION JACK         6\n",
      "8    536366     22632            HAND WARMER RED POLKA DOT         6\n",
      "9    536367     84879        ASSORTED COLOUR BIRD ORNAMENT        32\n"
     ]
    }
   ],
   "source": [
    "# Indexing & Slicing using iloc (index location)\n",
    "df_slice1 = df.iloc[0:10,0:4]\n",
    "print(df_slice1)"
   ],
   "metadata": {
    "collapsed": false,
    "pycharm": {
     "name": "#%%\n"
    }
   }
  },
  {
   "cell_type": "code",
   "execution_count": 13,
   "outputs": [
    {
     "name": "stdout",
     "output_type": "stream",
     "text": [
      "0         False\n",
      "1         False\n",
      "2         False\n",
      "3         False\n",
      "4         False\n",
      "          ...  \n",
      "541904    False\n",
      "541905    False\n",
      "541906    False\n",
      "541907    False\n",
      "541908    False\n",
      "Name: Quantity, Length: 541909, dtype: bool\n"
     ]
    },
    {
     "data": {
      "text/plain": "       InvoiceNo StockCode                          Description  Quantity  \\\n4945      536830     84077    WORLD WAR 2 GLIDERS ASSTD DESIGNS      2880   \n32671     539101     22693   GROW A FLYTRAP OR SUNFLOWER IN TIN      2400   \n52711     540815     21108   FAIRY CAKE FLANNEL ASSORTED COLOUR      3114   \n61619     541431     23166       MEDIUM CERAMIC TOP STORAGE JAR     74215   \n74614     542504     37413                                  NaN      5568   \n74615     542505    79063D                                  NaN      2560   \n80742     543057     84077    WORLD WAR 2 GLIDERS ASSTD DESIGNS      2592   \n87631     543669     22693   GROW A FLYTRAP OR SUNFLOWER IN TIN      2400   \n91772     544152     18007  ESSENTIAL BALM 3.5g TIN IN ENVELOPE      2400   \n97432     544612     22053                EMPIRE DESIGN ROSETTE      3906   \n115807    546139     84988                                    ?      3000   \n125282    547037     21967             PACK OF 12 SKULL TISSUES      2160   \n160546    550461     21108   FAIRY CAKE FLANNEL ASSORTED COLOUR      3114   \n201149    554272     21977   PACK OF 60 PINK PAISLEY CAKE CASES      2700   \n206121    554868     22197                 SMALL POPCORN HOLDER      4300   \n220843    556231    85123A                                    ?      4000   \n263885    560040     23343                  came coded as 20713      3100   \n270885    560599     18007  ESSENTIAL BALM 3.5g TIN IN ENVELOPE      3186   \n291249    562439     84879        ASSORTED COLOUR BIRD ORNAMENT      2880   \n421601    573003     23084                   RABBIT NIGHT LIGHT      2400   \n421632    573008     84077    WORLD WAR 2 GLIDERS ASSTD DESIGNS      4800   \n433788    573995     16014          SMALL CHINESE STYLE SCISSOR      3000   \n437480    574294     21915               RED  HARMONICA IN BOX       2100   \n502122    578841     84826       ASSTD DESIGN 3D PAPER STICKERS     12540   \n511421    579498     23084                   RABBIT NIGHT LIGHT      2040   \n540421    581483     23843          PAPER CRAFT , LITTLE BIRDIE     80995   \n\n             InvoiceDate  UnitPrice  CustomerID         Country  \n4945    02-12-2010 17.38       0.18     16754.0  United Kingdom  \n32671   16-12-2010 10.35       0.94     16029.0  United Kingdom  \n52711   11-01-2011 12.55       2.10     15749.0  United Kingdom  \n61619   18-01-2011 10.01       1.04     12346.0  United Kingdom  \n74614   28-01-2011 12.03       0.00         NaN  United Kingdom  \n74615   28-01-2011 12.04       0.00         NaN  United Kingdom  \n80742   03-02-2011 10.50       0.21     16333.0  United Kingdom  \n87631   11-02-2011 11.22       0.94     16029.0  United Kingdom  \n91772   16-02-2011 12.10       0.06     14609.0  United Kingdom  \n97432   22-02-2011 10.43       0.82     18087.0  United Kingdom  \n115807  09-03-2011 16.35       0.00         NaN  United Kingdom  \n125282  20-03-2011 10.37       0.25     14101.0  United Kingdom  \n160546  18-04-2011 13.20       2.10     15749.0  United Kingdom  \n201149  23-05-2011 13.08       0.42     12901.0  United Kingdom  \n206121  27-05-2011 10.52       0.72     13135.0  United Kingdom  \n220843  09-06-2011 15.04       0.00         NaN  United Kingdom  \n263885  14-07-2011 14.28       0.00         NaN  United Kingdom  \n270885  19-07-2011 17.04       0.06     14609.0  United Kingdom  \n291249  04-08-2011 18.06       1.45     12931.0  United Kingdom  \n421601  27-10-2011 12.11       2.08     14646.0     Netherlands  \n421632  27-10-2011 12.26       0.21     12901.0  United Kingdom  \n433788  02-11-2011 11.24       0.32     16308.0  United Kingdom  \n437480  03-11-2011 15.47       1.06     16333.0  United Kingdom  \n502122  25-11-2011 15.57       0.00     13256.0  United Kingdom  \n511421  29-11-2011 15.52       1.79     12798.0           Japan  \n540421   09-12-2011 9.15       2.08     16446.0  United Kingdom  ",
      "text/html": "<div>\n<style scoped>\n    .dataframe tbody tr th:only-of-type {\n        vertical-align: middle;\n    }\n\n    .dataframe tbody tr th {\n        vertical-align: top;\n    }\n\n    .dataframe thead th {\n        text-align: right;\n    }\n</style>\n<table border=\"1\" class=\"dataframe\">\n  <thead>\n    <tr style=\"text-align: right;\">\n      <th></th>\n      <th>InvoiceNo</th>\n      <th>StockCode</th>\n      <th>Description</th>\n      <th>Quantity</th>\n      <th>InvoiceDate</th>\n      <th>UnitPrice</th>\n      <th>CustomerID</th>\n      <th>Country</th>\n    </tr>\n  </thead>\n  <tbody>\n    <tr>\n      <th>4945</th>\n      <td>536830</td>\n      <td>84077</td>\n      <td>WORLD WAR 2 GLIDERS ASSTD DESIGNS</td>\n      <td>2880</td>\n      <td>02-12-2010 17.38</td>\n      <td>0.18</td>\n      <td>16754.0</td>\n      <td>United Kingdom</td>\n    </tr>\n    <tr>\n      <th>32671</th>\n      <td>539101</td>\n      <td>22693</td>\n      <td>GROW A FLYTRAP OR SUNFLOWER IN TIN</td>\n      <td>2400</td>\n      <td>16-12-2010 10.35</td>\n      <td>0.94</td>\n      <td>16029.0</td>\n      <td>United Kingdom</td>\n    </tr>\n    <tr>\n      <th>52711</th>\n      <td>540815</td>\n      <td>21108</td>\n      <td>FAIRY CAKE FLANNEL ASSORTED COLOUR</td>\n      <td>3114</td>\n      <td>11-01-2011 12.55</td>\n      <td>2.10</td>\n      <td>15749.0</td>\n      <td>United Kingdom</td>\n    </tr>\n    <tr>\n      <th>61619</th>\n      <td>541431</td>\n      <td>23166</td>\n      <td>MEDIUM CERAMIC TOP STORAGE JAR</td>\n      <td>74215</td>\n      <td>18-01-2011 10.01</td>\n      <td>1.04</td>\n      <td>12346.0</td>\n      <td>United Kingdom</td>\n    </tr>\n    <tr>\n      <th>74614</th>\n      <td>542504</td>\n      <td>37413</td>\n      <td>NaN</td>\n      <td>5568</td>\n      <td>28-01-2011 12.03</td>\n      <td>0.00</td>\n      <td>NaN</td>\n      <td>United Kingdom</td>\n    </tr>\n    <tr>\n      <th>74615</th>\n      <td>542505</td>\n      <td>79063D</td>\n      <td>NaN</td>\n      <td>2560</td>\n      <td>28-01-2011 12.04</td>\n      <td>0.00</td>\n      <td>NaN</td>\n      <td>United Kingdom</td>\n    </tr>\n    <tr>\n      <th>80742</th>\n      <td>543057</td>\n      <td>84077</td>\n      <td>WORLD WAR 2 GLIDERS ASSTD DESIGNS</td>\n      <td>2592</td>\n      <td>03-02-2011 10.50</td>\n      <td>0.21</td>\n      <td>16333.0</td>\n      <td>United Kingdom</td>\n    </tr>\n    <tr>\n      <th>87631</th>\n      <td>543669</td>\n      <td>22693</td>\n      <td>GROW A FLYTRAP OR SUNFLOWER IN TIN</td>\n      <td>2400</td>\n      <td>11-02-2011 11.22</td>\n      <td>0.94</td>\n      <td>16029.0</td>\n      <td>United Kingdom</td>\n    </tr>\n    <tr>\n      <th>91772</th>\n      <td>544152</td>\n      <td>18007</td>\n      <td>ESSENTIAL BALM 3.5g TIN IN ENVELOPE</td>\n      <td>2400</td>\n      <td>16-02-2011 12.10</td>\n      <td>0.06</td>\n      <td>14609.0</td>\n      <td>United Kingdom</td>\n    </tr>\n    <tr>\n      <th>97432</th>\n      <td>544612</td>\n      <td>22053</td>\n      <td>EMPIRE DESIGN ROSETTE</td>\n      <td>3906</td>\n      <td>22-02-2011 10.43</td>\n      <td>0.82</td>\n      <td>18087.0</td>\n      <td>United Kingdom</td>\n    </tr>\n    <tr>\n      <th>115807</th>\n      <td>546139</td>\n      <td>84988</td>\n      <td>?</td>\n      <td>3000</td>\n      <td>09-03-2011 16.35</td>\n      <td>0.00</td>\n      <td>NaN</td>\n      <td>United Kingdom</td>\n    </tr>\n    <tr>\n      <th>125282</th>\n      <td>547037</td>\n      <td>21967</td>\n      <td>PACK OF 12 SKULL TISSUES</td>\n      <td>2160</td>\n      <td>20-03-2011 10.37</td>\n      <td>0.25</td>\n      <td>14101.0</td>\n      <td>United Kingdom</td>\n    </tr>\n    <tr>\n      <th>160546</th>\n      <td>550461</td>\n      <td>21108</td>\n      <td>FAIRY CAKE FLANNEL ASSORTED COLOUR</td>\n      <td>3114</td>\n      <td>18-04-2011 13.20</td>\n      <td>2.10</td>\n      <td>15749.0</td>\n      <td>United Kingdom</td>\n    </tr>\n    <tr>\n      <th>201149</th>\n      <td>554272</td>\n      <td>21977</td>\n      <td>PACK OF 60 PINK PAISLEY CAKE CASES</td>\n      <td>2700</td>\n      <td>23-05-2011 13.08</td>\n      <td>0.42</td>\n      <td>12901.0</td>\n      <td>United Kingdom</td>\n    </tr>\n    <tr>\n      <th>206121</th>\n      <td>554868</td>\n      <td>22197</td>\n      <td>SMALL POPCORN HOLDER</td>\n      <td>4300</td>\n      <td>27-05-2011 10.52</td>\n      <td>0.72</td>\n      <td>13135.0</td>\n      <td>United Kingdom</td>\n    </tr>\n    <tr>\n      <th>220843</th>\n      <td>556231</td>\n      <td>85123A</td>\n      <td>?</td>\n      <td>4000</td>\n      <td>09-06-2011 15.04</td>\n      <td>0.00</td>\n      <td>NaN</td>\n      <td>United Kingdom</td>\n    </tr>\n    <tr>\n      <th>263885</th>\n      <td>560040</td>\n      <td>23343</td>\n      <td>came coded as 20713</td>\n      <td>3100</td>\n      <td>14-07-2011 14.28</td>\n      <td>0.00</td>\n      <td>NaN</td>\n      <td>United Kingdom</td>\n    </tr>\n    <tr>\n      <th>270885</th>\n      <td>560599</td>\n      <td>18007</td>\n      <td>ESSENTIAL BALM 3.5g TIN IN ENVELOPE</td>\n      <td>3186</td>\n      <td>19-07-2011 17.04</td>\n      <td>0.06</td>\n      <td>14609.0</td>\n      <td>United Kingdom</td>\n    </tr>\n    <tr>\n      <th>291249</th>\n      <td>562439</td>\n      <td>84879</td>\n      <td>ASSORTED COLOUR BIRD ORNAMENT</td>\n      <td>2880</td>\n      <td>04-08-2011 18.06</td>\n      <td>1.45</td>\n      <td>12931.0</td>\n      <td>United Kingdom</td>\n    </tr>\n    <tr>\n      <th>421601</th>\n      <td>573003</td>\n      <td>23084</td>\n      <td>RABBIT NIGHT LIGHT</td>\n      <td>2400</td>\n      <td>27-10-2011 12.11</td>\n      <td>2.08</td>\n      <td>14646.0</td>\n      <td>Netherlands</td>\n    </tr>\n    <tr>\n      <th>421632</th>\n      <td>573008</td>\n      <td>84077</td>\n      <td>WORLD WAR 2 GLIDERS ASSTD DESIGNS</td>\n      <td>4800</td>\n      <td>27-10-2011 12.26</td>\n      <td>0.21</td>\n      <td>12901.0</td>\n      <td>United Kingdom</td>\n    </tr>\n    <tr>\n      <th>433788</th>\n      <td>573995</td>\n      <td>16014</td>\n      <td>SMALL CHINESE STYLE SCISSOR</td>\n      <td>3000</td>\n      <td>02-11-2011 11.24</td>\n      <td>0.32</td>\n      <td>16308.0</td>\n      <td>United Kingdom</td>\n    </tr>\n    <tr>\n      <th>437480</th>\n      <td>574294</td>\n      <td>21915</td>\n      <td>RED  HARMONICA IN BOX</td>\n      <td>2100</td>\n      <td>03-11-2011 15.47</td>\n      <td>1.06</td>\n      <td>16333.0</td>\n      <td>United Kingdom</td>\n    </tr>\n    <tr>\n      <th>502122</th>\n      <td>578841</td>\n      <td>84826</td>\n      <td>ASSTD DESIGN 3D PAPER STICKERS</td>\n      <td>12540</td>\n      <td>25-11-2011 15.57</td>\n      <td>0.00</td>\n      <td>13256.0</td>\n      <td>United Kingdom</td>\n    </tr>\n    <tr>\n      <th>511421</th>\n      <td>579498</td>\n      <td>23084</td>\n      <td>RABBIT NIGHT LIGHT</td>\n      <td>2040</td>\n      <td>29-11-2011 15.52</td>\n      <td>1.79</td>\n      <td>12798.0</td>\n      <td>Japan</td>\n    </tr>\n    <tr>\n      <th>540421</th>\n      <td>581483</td>\n      <td>23843</td>\n      <td>PAPER CRAFT , LITTLE BIRDIE</td>\n      <td>80995</td>\n      <td>09-12-2011 9.15</td>\n      <td>2.08</td>\n      <td>16446.0</td>\n      <td>United Kingdom</td>\n    </tr>\n  </tbody>\n</table>\n</div>"
     },
     "execution_count": 13,
     "metadata": {},
     "output_type": "execute_result"
    }
   ],
   "source": [
    "# Filtering\n",
    "# fetch all records where quantity > 2000 (we need only true records)\n",
    "print(df['Quantity'] > 2000)\n",
    "\n",
    "# use this condition inside df[] to get output rows\n",
    "df[df['Quantity'] > 2000]"
   ],
   "metadata": {
    "collapsed": false,
    "pycharm": {
     "name": "#%%\n"
    }
   }
  },
  {
   "cell_type": "markdown",
   "source": [
    "### OPerators\n",
    "\n",
    "for OR operator need to use symbol |\n",
    "\n",
    "Note<br>\n",
    "if multiple conditions in filter need to enclose each condition in () brackets.\n"
   ],
   "metadata": {
    "collapsed": false,
    "pycharm": {
     "name": "#%% md\n"
    }
   }
  },
  {
   "cell_type": "code",
   "execution_count": 28,
   "outputs": [
    {
     "data": {
      "text/plain": "       InvoiceNo StockCode                  Description  Quantity  \\\n19149     537841     16014  SMALL CHINESE STYLE SCISSOR      1000   \n52262     540699      POST                          NaN      1000   \n52710     540815     21175  GIN + TONIC DIET METAL SIGN      2000   \n130911    547519     16014  SMALL CHINESE STYLE SCISSOR      1000   \n136537    547966       DOT                          NaN      1000   \n160545    550461     21175  GIN + TONIC DIET METAL SIGN      2000   \n177702    552172     16014  SMALL CHINESE STYLE SCISSOR      2000   \n286765    562040     62018                    SOMBRERO       1000   \n311391    564272     16014  SMALL CHINESE STYLE SCISSOR      2000   \n319753    564871     21497    FANCY FONTS BIRTHDAY WRAP      1000   \n331716    566028     16014  SMALL CHINESE STYLE SCISSOR      1000   \n369675    569086     22197               POPCORN HOLDER      1000   \n380505    569815    85099B      JUMBO BAG RED RETROSPOT      1000   \n422750    573114     20713          wrongly coded 23343      1000   \n454472    575582    85099B      JUMBO BAG RED RETROSPOT      1000   \n488313    577810     22197               POPCORN HOLDER      1000   \n519822    580170     22197               POPCORN HOLDER      1000   \n\n             InvoiceDate  UnitPrice  CustomerID         Country  \n19149   08-12-2010 15.10       0.32     13848.0  United Kingdom  \n52262    11-01-2011 9.32       0.00         NaN  United Kingdom  \n52710   11-01-2011 12.55       1.85     15749.0  United Kingdom  \n130911  23-03-2011 14.46       0.32     16308.0  United Kingdom  \n136537  28-03-2011 15.49       0.00         NaN  United Kingdom  \n160545  18-04-2011 13.20       1.69     15749.0  United Kingdom  \n177702  06-05-2011 13.03       0.32     16308.0  United Kingdom  \n286765  02-08-2011 10.00       1.25     17553.0  United Kingdom  \n311391  24-08-2011 10.52       0.32     16308.0  United Kingdom  \n319753  31-08-2011 10.46       0.34     17949.0  United Kingdom  \n331716  08-09-2011 12.58       0.32     13848.0  United Kingdom  \n369675  30-09-2011 11.58       0.72     17949.0  United Kingdom  \n380505  06-10-2011 11.53       1.79     15838.0  United Kingdom  \n422750  27-10-2011 15.36       0.00         NaN  United Kingdom  \n454472  10-11-2011 11.55       1.79     16986.0  United Kingdom  \n488313   22-11-2011 8.44       0.72     17949.0  United Kingdom  \n519822  02-12-2011 11.39       0.72     17949.0  United Kingdom  ",
      "text/html": "<div>\n<style scoped>\n    .dataframe tbody tr th:only-of-type {\n        vertical-align: middle;\n    }\n\n    .dataframe tbody tr th {\n        vertical-align: top;\n    }\n\n    .dataframe thead th {\n        text-align: right;\n    }\n</style>\n<table border=\"1\" class=\"dataframe\">\n  <thead>\n    <tr style=\"text-align: right;\">\n      <th></th>\n      <th>InvoiceNo</th>\n      <th>StockCode</th>\n      <th>Description</th>\n      <th>Quantity</th>\n      <th>InvoiceDate</th>\n      <th>UnitPrice</th>\n      <th>CustomerID</th>\n      <th>Country</th>\n    </tr>\n  </thead>\n  <tbody>\n    <tr>\n      <th>19149</th>\n      <td>537841</td>\n      <td>16014</td>\n      <td>SMALL CHINESE STYLE SCISSOR</td>\n      <td>1000</td>\n      <td>08-12-2010 15.10</td>\n      <td>0.32</td>\n      <td>13848.0</td>\n      <td>United Kingdom</td>\n    </tr>\n    <tr>\n      <th>52262</th>\n      <td>540699</td>\n      <td>POST</td>\n      <td>NaN</td>\n      <td>1000</td>\n      <td>11-01-2011 9.32</td>\n      <td>0.00</td>\n      <td>NaN</td>\n      <td>United Kingdom</td>\n    </tr>\n    <tr>\n      <th>52710</th>\n      <td>540815</td>\n      <td>21175</td>\n      <td>GIN + TONIC DIET METAL SIGN</td>\n      <td>2000</td>\n      <td>11-01-2011 12.55</td>\n      <td>1.85</td>\n      <td>15749.0</td>\n      <td>United Kingdom</td>\n    </tr>\n    <tr>\n      <th>130911</th>\n      <td>547519</td>\n      <td>16014</td>\n      <td>SMALL CHINESE STYLE SCISSOR</td>\n      <td>1000</td>\n      <td>23-03-2011 14.46</td>\n      <td>0.32</td>\n      <td>16308.0</td>\n      <td>United Kingdom</td>\n    </tr>\n    <tr>\n      <th>136537</th>\n      <td>547966</td>\n      <td>DOT</td>\n      <td>NaN</td>\n      <td>1000</td>\n      <td>28-03-2011 15.49</td>\n      <td>0.00</td>\n      <td>NaN</td>\n      <td>United Kingdom</td>\n    </tr>\n    <tr>\n      <th>160545</th>\n      <td>550461</td>\n      <td>21175</td>\n      <td>GIN + TONIC DIET METAL SIGN</td>\n      <td>2000</td>\n      <td>18-04-2011 13.20</td>\n      <td>1.69</td>\n      <td>15749.0</td>\n      <td>United Kingdom</td>\n    </tr>\n    <tr>\n      <th>177702</th>\n      <td>552172</td>\n      <td>16014</td>\n      <td>SMALL CHINESE STYLE SCISSOR</td>\n      <td>2000</td>\n      <td>06-05-2011 13.03</td>\n      <td>0.32</td>\n      <td>16308.0</td>\n      <td>United Kingdom</td>\n    </tr>\n    <tr>\n      <th>286765</th>\n      <td>562040</td>\n      <td>62018</td>\n      <td>SOMBRERO</td>\n      <td>1000</td>\n      <td>02-08-2011 10.00</td>\n      <td>1.25</td>\n      <td>17553.0</td>\n      <td>United Kingdom</td>\n    </tr>\n    <tr>\n      <th>311391</th>\n      <td>564272</td>\n      <td>16014</td>\n      <td>SMALL CHINESE STYLE SCISSOR</td>\n      <td>2000</td>\n      <td>24-08-2011 10.52</td>\n      <td>0.32</td>\n      <td>16308.0</td>\n      <td>United Kingdom</td>\n    </tr>\n    <tr>\n      <th>319753</th>\n      <td>564871</td>\n      <td>21497</td>\n      <td>FANCY FONTS BIRTHDAY WRAP</td>\n      <td>1000</td>\n      <td>31-08-2011 10.46</td>\n      <td>0.34</td>\n      <td>17949.0</td>\n      <td>United Kingdom</td>\n    </tr>\n    <tr>\n      <th>331716</th>\n      <td>566028</td>\n      <td>16014</td>\n      <td>SMALL CHINESE STYLE SCISSOR</td>\n      <td>1000</td>\n      <td>08-09-2011 12.58</td>\n      <td>0.32</td>\n      <td>13848.0</td>\n      <td>United Kingdom</td>\n    </tr>\n    <tr>\n      <th>369675</th>\n      <td>569086</td>\n      <td>22197</td>\n      <td>POPCORN HOLDER</td>\n      <td>1000</td>\n      <td>30-09-2011 11.58</td>\n      <td>0.72</td>\n      <td>17949.0</td>\n      <td>United Kingdom</td>\n    </tr>\n    <tr>\n      <th>380505</th>\n      <td>569815</td>\n      <td>85099B</td>\n      <td>JUMBO BAG RED RETROSPOT</td>\n      <td>1000</td>\n      <td>06-10-2011 11.53</td>\n      <td>1.79</td>\n      <td>15838.0</td>\n      <td>United Kingdom</td>\n    </tr>\n    <tr>\n      <th>422750</th>\n      <td>573114</td>\n      <td>20713</td>\n      <td>wrongly coded 23343</td>\n      <td>1000</td>\n      <td>27-10-2011 15.36</td>\n      <td>0.00</td>\n      <td>NaN</td>\n      <td>United Kingdom</td>\n    </tr>\n    <tr>\n      <th>454472</th>\n      <td>575582</td>\n      <td>85099B</td>\n      <td>JUMBO BAG RED RETROSPOT</td>\n      <td>1000</td>\n      <td>10-11-2011 11.55</td>\n      <td>1.79</td>\n      <td>16986.0</td>\n      <td>United Kingdom</td>\n    </tr>\n    <tr>\n      <th>488313</th>\n      <td>577810</td>\n      <td>22197</td>\n      <td>POPCORN HOLDER</td>\n      <td>1000</td>\n      <td>22-11-2011 8.44</td>\n      <td>0.72</td>\n      <td>17949.0</td>\n      <td>United Kingdom</td>\n    </tr>\n    <tr>\n      <th>519822</th>\n      <td>580170</td>\n      <td>22197</td>\n      <td>POPCORN HOLDER</td>\n      <td>1000</td>\n      <td>02-12-2011 11.39</td>\n      <td>0.72</td>\n      <td>17949.0</td>\n      <td>United Kingdom</td>\n    </tr>\n  </tbody>\n</table>\n</div>"
     },
     "execution_count": 28,
     "metadata": {},
     "output_type": "execute_result"
    }
   ],
   "source": [
    "# fetch records where quantity is exact 1000 and 2000 (isin and or operator)\n",
    "\n",
    "# Note- if multiple conditions in filter need to enclose each condition in () brackets.\n",
    "df[(df['Quantity'] == 1000) | (df['Quantity'] == 2000)]\n"
   ],
   "metadata": {
    "collapsed": false,
    "pycharm": {
     "name": "#%%\n"
    }
   }
  },
  {
   "cell_type": "code",
   "execution_count": 33,
   "outputs": [
    {
     "name": "stdout",
     "output_type": "stream",
     "text": [
      "0         False\n",
      "1         False\n",
      "2         False\n",
      "3         False\n",
      "4         False\n",
      "          ...  \n",
      "541904    False\n",
      "541905    False\n",
      "541906    False\n",
      "541907    False\n",
      "541908    False\n",
      "Name: Quantity, Length: 541909, dtype: bool\n"
     ]
    }
   ],
   "source": [
    "# fetch records where quantity is exact 1000 and 2000 (isin and or operator)\n",
    "# isin operator will take a list as input\n",
    "\n",
    "print(df['Quantity'].isin([1000,2000]))\n",
    "\n",
    "df_sub = df[df['Quantity'].isin([1000,2000])]"
   ],
   "metadata": {
    "collapsed": false,
    "pycharm": {
     "name": "#%%\n"
    }
   }
  },
  {
   "cell_type": "code",
   "execution_count": 34,
   "outputs": [
    {
     "data": {
      "text/plain": "(17, 8)"
     },
     "execution_count": 34,
     "metadata": {},
     "output_type": "execute_result"
    }
   ],
   "source": [
    "df_sub.shape"
   ],
   "metadata": {
    "collapsed": false,
    "pycharm": {
     "name": "#%%\n"
    }
   }
  },
  {
   "cell_type": "code",
   "execution_count": 35,
   "outputs": [],
   "source": [
    "# read file into df using read_csv and store file in df using to_csv\n",
    "df_sub.to_csv('df_sub.csv')   # contains only filtered records"
   ],
   "metadata": {
    "collapsed": false,
    "pycharm": {
     "name": "#%%\n"
    }
   }
  },
  {
   "cell_type": "markdown",
   "source": [
    "### loc is label based and iloc is index based.\n",
    "\n",
    "### Ques-Fetch product description and quantity where quantity is greater than 3000 (loc)\n"
   ],
   "metadata": {
    "collapsed": false,
    "pycharm": {
     "name": "#%% md\n"
    }
   }
  },
  {
   "cell_type": "code",
   "execution_count": 44,
   "outputs": [
    {
     "name": "stdout",
     "output_type": "stream",
     "text": [
      "                                Description  Quantity\n",
      "52711    FAIRY CAKE FLANNEL ASSORTED COLOUR      3114\n",
      "61619        MEDIUM CERAMIC TOP STORAGE JAR     74215\n",
      "74614                                   NaN      5568\n",
      "97432                 EMPIRE DESIGN ROSETTE      3906\n",
      "160546   FAIRY CAKE FLANNEL ASSORTED COLOUR      3114\n",
      "206121                 SMALL POPCORN HOLDER      4300\n",
      "220843                                    ?      4000\n",
      "263885                  came coded as 20713      3100\n",
      "270885  ESSENTIAL BALM 3.5g TIN IN ENVELOPE      3186\n",
      "421632    WORLD WAR 2 GLIDERS ASSTD DESIGNS      4800\n",
      "502122       ASSTD DESIGN 3D PAPER STICKERS     12540\n",
      "540421          PAPER CRAFT , LITTLE BIRDIE     80995\n"
     ]
    },
    {
     "data": {
      "text/plain": "                                Description  Quantity\n52711    FAIRY CAKE FLANNEL ASSORTED COLOUR      3114\n61619        MEDIUM CERAMIC TOP STORAGE JAR     74215\n74614                                   NaN      5568\n97432                 EMPIRE DESIGN ROSETTE      3906\n160546   FAIRY CAKE FLANNEL ASSORTED COLOUR      3114\n206121                 SMALL POPCORN HOLDER      4300\n220843                                    ?      4000\n263885                  came coded as 20713      3100\n270885  ESSENTIAL BALM 3.5g TIN IN ENVELOPE      3186\n421632    WORLD WAR 2 GLIDERS ASSTD DESIGNS      4800\n502122       ASSTD DESIGN 3D PAPER STICKERS     12540\n540421          PAPER CRAFT , LITTLE BIRDIE     80995",
      "text/html": "<div>\n<style scoped>\n    .dataframe tbody tr th:only-of-type {\n        vertical-align: middle;\n    }\n\n    .dataframe tbody tr th {\n        vertical-align: top;\n    }\n\n    .dataframe thead th {\n        text-align: right;\n    }\n</style>\n<table border=\"1\" class=\"dataframe\">\n  <thead>\n    <tr style=\"text-align: right;\">\n      <th></th>\n      <th>Description</th>\n      <th>Quantity</th>\n    </tr>\n  </thead>\n  <tbody>\n    <tr>\n      <th>52711</th>\n      <td>FAIRY CAKE FLANNEL ASSORTED COLOUR</td>\n      <td>3114</td>\n    </tr>\n    <tr>\n      <th>61619</th>\n      <td>MEDIUM CERAMIC TOP STORAGE JAR</td>\n      <td>74215</td>\n    </tr>\n    <tr>\n      <th>74614</th>\n      <td>NaN</td>\n      <td>5568</td>\n    </tr>\n    <tr>\n      <th>97432</th>\n      <td>EMPIRE DESIGN ROSETTE</td>\n      <td>3906</td>\n    </tr>\n    <tr>\n      <th>160546</th>\n      <td>FAIRY CAKE FLANNEL ASSORTED COLOUR</td>\n      <td>3114</td>\n    </tr>\n    <tr>\n      <th>206121</th>\n      <td>SMALL POPCORN HOLDER</td>\n      <td>4300</td>\n    </tr>\n    <tr>\n      <th>220843</th>\n      <td>?</td>\n      <td>4000</td>\n    </tr>\n    <tr>\n      <th>263885</th>\n      <td>came coded as 20713</td>\n      <td>3100</td>\n    </tr>\n    <tr>\n      <th>270885</th>\n      <td>ESSENTIAL BALM 3.5g TIN IN ENVELOPE</td>\n      <td>3186</td>\n    </tr>\n    <tr>\n      <th>421632</th>\n      <td>WORLD WAR 2 GLIDERS ASSTD DESIGNS</td>\n      <td>4800</td>\n    </tr>\n    <tr>\n      <th>502122</th>\n      <td>ASSTD DESIGN 3D PAPER STICKERS</td>\n      <td>12540</td>\n    </tr>\n    <tr>\n      <th>540421</th>\n      <td>PAPER CRAFT , LITTLE BIRDIE</td>\n      <td>80995</td>\n    </tr>\n  </tbody>\n</table>\n</div>"
     },
     "execution_count": 44,
     "metadata": {},
     "output_type": "execute_result"
    }
   ],
   "source": [
    "# Method 1  #first slicing df & then out of those select only 2 columns\n",
    "a = df[df['Quantity'] > 3000][['Description','Quantity']]\n",
    "print(a)\n",
    "\n",
    "# Method 2  #using loc, 1st argument is condition & 2nd argument is col's that r required\n",
    "df.loc[df['Quantity'] > 3000,['Description','Quantity']]"
   ],
   "metadata": {
    "collapsed": false,
    "pycharm": {
     "name": "#%%\n"
    }
   }
  },
  {
   "cell_type": "code",
   "execution_count": null,
   "outputs": [],
   "source": [],
   "metadata": {
    "collapsed": false,
    "pycharm": {
     "name": "#%%\n"
    }
   }
  }
 ],
 "metadata": {
  "kernelspec": {
   "display_name": "Python 3",
   "language": "python",
   "name": "python3"
  },
  "language_info": {
   "codemirror_mode": {
    "name": "ipython",
    "version": 2
   },
   "file_extension": ".py",
   "mimetype": "text/x-python",
   "name": "python",
   "nbconvert_exporter": "python",
   "pygments_lexer": "ipython2",
   "version": "2.7.6"
  }
 },
 "nbformat": 4,
 "nbformat_minor": 0
}
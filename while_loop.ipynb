{
 "cells": [
  {
   "cell_type": "markdown",
   "metadata": {
    "collapsed": true,
    "pycharm": {
     "name": "#%% md\n"
    }
   },
   "source": [
    "## 1. While Loop to find the sum and product of first 10 natural numbers"
   ]
  },
  {
   "cell_type": "code",
   "execution_count": 5,
   "outputs": [
    {
     "name": "stdout",
     "output_type": "stream",
     "text": [
      "Sum of no's after iteration  1 is  1\n",
      "Sum of no's after iteration  2 is  3\n",
      "Sum of no's after iteration  3 is  6\n",
      "Sum of no's after iteration  4 is  10\n",
      "Sum of no's after iteration  5 is  15\n",
      "Sum of no's after iteration  6 is  21\n",
      "Sum of no's after iteration  7 is  28\n",
      "Sum of no's after iteration  8 is  36\n",
      "Sum of no's after iteration  9 is  45\n",
      "Sum of no's after iteration  10 is  55\n",
      "Total first 10 natural numbers :  55\n"
     ]
    }
   ],
   "source": [
    "sum_n = 0\n",
    "i = 1\n",
    "while i < 11:\n",
    "    sum_n = sum_n + i\n",
    "    print(\"Sum of no's after iteration \", i, \"is \", sum_n)\n",
    "    i = i+1\n",
    "print('Total first 10 natural numbers : ',sum_n)"
   ],
   "metadata": {
    "collapsed": false,
    "pycharm": {
     "name": "#%%\n"
    }
   }
  },
  {
   "cell_type": "code",
   "execution_count": 4,
   "outputs": [
    {
     "name": "stdout",
     "output_type": "stream",
     "text": [
      "Product of no's after iteration  1 is  1\n",
      "Product of no's after iteration  2 is  2\n",
      "Product of no's after iteration  3 is  6\n",
      "Product of no's after iteration  4 is  24\n",
      "Product of no's after iteration  5 is  120\n",
      "Product of no's after iteration  6 is  720\n",
      "Product of no's after iteration  7 is  5040\n",
      "Product of no's after iteration  8 is  40320\n",
      "Product of no's after iteration  9 is  362880\n",
      "Product of no's after iteration  10 is  3628800\n",
      "Product first 10 natural numbers:  3628800\n"
     ]
    }
   ],
   "source": [
    "product_n = 1\n",
    "i = 1\n",
    "while i < 11:\n",
    "    product_n = product_n*i\n",
    "    print(\"Product of no's after iteration \", i, \"is \", product_n)\n",
    "    i = i+1\n",
    "print('Product first 10 natural numbers: ',product_n)"
   ],
   "metadata": {
    "collapsed": false,
    "pycharm": {
     "name": "#%%\n"
    }
   }
  },
  {
   "cell_type": "markdown",
   "source": [
    "## 2. While loop to find sum of elements in a list"
   ],
   "metadata": {
    "collapsed": false,
    "pycharm": {
     "name": "#%% md\n"
    }
   }
  },
  {
   "cell_type": "code",
   "execution_count": 3,
   "outputs": [
    {
     "name": "stdout",
     "output_type": "stream",
     "text": [
      "length of list is 5\n",
      "Sum of num in list is 150\n"
     ]
    }
   ],
   "source": [
    "lista = [10,20,30,40,50]\n",
    "\n",
    "i = 0\n",
    "sum1 = 0\n",
    "listlen = len(lista)\n",
    "print('length of list is', listlen)\n",
    "\n",
    "while i < listlen:\n",
    "    sum1 = sum1 + lista[i]\n",
    "    i = i+1\n",
    "print('Sum of num in list is', sum1)"
   ],
   "metadata": {
    "collapsed": false,
    "pycharm": {
     "name": "#%%\n"
    }
   }
  },
  {
   "cell_type": "code",
   "execution_count": null,
   "outputs": [],
   "source": [],
   "metadata": {
    "collapsed": false,
    "pycharm": {
     "name": "#%%\n"
    }
   }
  }
 ],
 "metadata": {
  "kernelspec": {
   "display_name": "Python 3",
   "language": "python",
   "name": "python3"
  },
  "language_info": {
   "codemirror_mode": {
    "name": "ipython",
    "version": 2
   },
   "file_extension": ".py",
   "mimetype": "text/x-python",
   "name": "python",
   "nbconvert_exporter": "python",
   "pygments_lexer": "ipython2",
   "version": "2.7.6"
  }
 },
 "nbformat": 4,
 "nbformat_minor": 0
}
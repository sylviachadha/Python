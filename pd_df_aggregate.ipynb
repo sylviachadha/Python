{
 "cells": [
  {
   "cell_type": "markdown",
   "source": [
    "## Data Aggregation using Pandas\n",
    "## In this way using below functions, pandas help us to get insights about our data.\n",
    "\n",
    "1. unique()\n",
    "2. value_counts()\n",
    "3. df.describe() - whole dataset\n",
    "4. numerical summation functions mean(), median(), sum() - for columns\n",
    "5. groupby()\n",
    "6. pivot_table()"
   ],
   "metadata": {
    "collapsed": false,
    "pycharm": {
     "name": "#%% md\n"
    }
   }
  },
  {
   "cell_type": "code",
   "execution_count": 1,
   "outputs": [
    {
     "name": "stdout",
     "output_type": "stream",
     "text": [
      "<class 'pandas.core.frame.DataFrame'>\n"
     ]
    },
    {
     "data": {
      "text/plain": "  InvoiceNo StockCode                          Description  Quantity  \\\n0    536365    85123A   WHITE HANGING HEART T-LIGHT HOLDER         6   \n1    536365     71053                  WHITE METAL LANTERN         6   \n2    536365    84406B       CREAM CUPID HEARTS COAT HANGER         8   \n3    536365    84029G  KNITTED UNION FLAG HOT WATER BOTTLE         6   \n4    536365    84029E       RED WOOLLY HOTTIE WHITE HEART.         6   \n\n       InvoiceDate  UnitPrice  CustomerID         Country  \n0  01-12-2010 8.26       2.55     17850.0  United Kingdom  \n1  01-12-2010 8.26       3.39     17850.0  United Kingdom  \n2  01-12-2010 8.26       2.75     17850.0  United Kingdom  \n3  01-12-2010 8.26       3.39     17850.0  United Kingdom  \n4  01-12-2010 8.26       3.39     17850.0  United Kingdom  ",
      "text/html": "<div>\n<style scoped>\n    .dataframe tbody tr th:only-of-type {\n        vertical-align: middle;\n    }\n\n    .dataframe tbody tr th {\n        vertical-align: top;\n    }\n\n    .dataframe thead th {\n        text-align: right;\n    }\n</style>\n<table border=\"1\" class=\"dataframe\">\n  <thead>\n    <tr style=\"text-align: right;\">\n      <th></th>\n      <th>InvoiceNo</th>\n      <th>StockCode</th>\n      <th>Description</th>\n      <th>Quantity</th>\n      <th>InvoiceDate</th>\n      <th>UnitPrice</th>\n      <th>CustomerID</th>\n      <th>Country</th>\n    </tr>\n  </thead>\n  <tbody>\n    <tr>\n      <th>0</th>\n      <td>536365</td>\n      <td>85123A</td>\n      <td>WHITE HANGING HEART T-LIGHT HOLDER</td>\n      <td>6</td>\n      <td>01-12-2010 8.26</td>\n      <td>2.55</td>\n      <td>17850.0</td>\n      <td>United Kingdom</td>\n    </tr>\n    <tr>\n      <th>1</th>\n      <td>536365</td>\n      <td>71053</td>\n      <td>WHITE METAL LANTERN</td>\n      <td>6</td>\n      <td>01-12-2010 8.26</td>\n      <td>3.39</td>\n      <td>17850.0</td>\n      <td>United Kingdom</td>\n    </tr>\n    <tr>\n      <th>2</th>\n      <td>536365</td>\n      <td>84406B</td>\n      <td>CREAM CUPID HEARTS COAT HANGER</td>\n      <td>8</td>\n      <td>01-12-2010 8.26</td>\n      <td>2.75</td>\n      <td>17850.0</td>\n      <td>United Kingdom</td>\n    </tr>\n    <tr>\n      <th>3</th>\n      <td>536365</td>\n      <td>84029G</td>\n      <td>KNITTED UNION FLAG HOT WATER BOTTLE</td>\n      <td>6</td>\n      <td>01-12-2010 8.26</td>\n      <td>3.39</td>\n      <td>17850.0</td>\n      <td>United Kingdom</td>\n    </tr>\n    <tr>\n      <th>4</th>\n      <td>536365</td>\n      <td>84029E</td>\n      <td>RED WOOLLY HOTTIE WHITE HEART.</td>\n      <td>6</td>\n      <td>01-12-2010 8.26</td>\n      <td>3.39</td>\n      <td>17850.0</td>\n      <td>United Kingdom</td>\n    </tr>\n  </tbody>\n</table>\n</div>"
     },
     "execution_count": 1,
     "metadata": {},
     "output_type": "execute_result"
    }
   ],
   "source": [
    "# Load data\n",
    "import numpy as np\n",
    "import pandas as pd\n",
    "\n",
    "df = pd.read_csv('online_retail.csv')\n",
    "print(type(df))\n",
    "\n",
    "# preview your data\n",
    "df.head()"
   ],
   "metadata": {
    "collapsed": false,
    "pycharm": {
     "name": "#%%\n"
    }
   }
  },
  {
   "cell_type": "markdown",
   "source": [
    "### Aggregation for single column"
   ],
   "metadata": {
    "collapsed": false,
    "pycharm": {
     "name": "#%% md\n"
    }
   }
  },
  {
   "cell_type": "code",
   "execution_count": 3,
   "outputs": [
    {
     "name": "stdout",
     "output_type": "stream",
     "text": [
      "\n",
      "total unique items 4224\n"
     ]
    }
   ],
   "source": [
    "# find unique products in data\n",
    "(df['Description'].unique())\n",
    "\n",
    "# display in form of list\n",
    "items = list(df['Description'].unique())\n",
    "#print(items)    # separated by a comma\n",
    "print('\\ntotal unique items',len(items))"
   ],
   "metadata": {
    "collapsed": false,
    "pycharm": {
     "name": "#%%\n"
    }
   }
  },
  {
   "cell_type": "code",
   "execution_count": 4,
   "outputs": [
    {
     "name": "stdout",
     "output_type": "stream",
     "text": [
      "['United Kingdom', 'France', 'Australia', 'Netherlands', 'Germany', 'Norway', 'EIRE', 'Switzerland', 'Spain', 'Poland', 'Portugal', 'Italy', 'Belgium', 'Lithuania', 'Japan', 'Iceland', 'Channel Islands', 'Denmark', 'Cyprus', 'Sweden', 'Austria', 'Israel', 'Finland', 'Bahrain', 'Greece', 'Hong Kong', 'Singapore', 'Lebanon', 'United Arab Emirates', 'Saudi Arabia', 'Czech Republic', 'Canada', 'Unspecified', 'Brazil', 'USA', 'European Community', 'Malta', 'RSA']\n",
      "\n",
      " Total unique countries 38\n"
     ]
    }
   ],
   "source": [
    "# find unique countries\n",
    "\n",
    "df['Country'].unique()\n",
    "# change to list\n",
    "countries = list(df['Country'].unique())\n",
    "print(countries)\n",
    "print('\\n Total unique countries', len(countries))"
   ],
   "metadata": {
    "collapsed": false,
    "pycharm": {
     "name": "#%%\n"
    }
   }
  },
  {
   "cell_type": "code",
   "execution_count": 5,
   "outputs": [
    {
     "name": "stdout",
     "output_type": "stream",
     "text": [
      "total unique customer 4373\n"
     ]
    }
   ],
   "source": [
    "# Find total no. of customers by finding unique id's of customers\n",
    "\n",
    "customers = list(df['CustomerID'].unique())\n",
    "print('total unique customer', len(customers))"
   ],
   "metadata": {
    "collapsed": false,
    "pycharm": {
     "name": "#%%\n"
    }
   }
  },
  {
   "cell_type": "code",
   "execution_count": 6,
   "outputs": [
    {
     "name": "stdout",
     "output_type": "stream",
     "text": [
      "United Kingdom          495478\n",
      "Germany                   9495\n",
      "France                    8557\n",
      "EIRE                      8196\n",
      "Spain                     2533\n",
      "Netherlands               2371\n",
      "Belgium                   2069\n",
      "Switzerland               2002\n",
      "Portugal                  1519\n",
      "Australia                 1259\n",
      "Norway                    1086\n",
      "Italy                      803\n",
      "Channel Islands            758\n",
      "Finland                    695\n",
      "Cyprus                     622\n",
      "Sweden                     462\n",
      "Unspecified                446\n",
      "Austria                    401\n",
      "Denmark                    389\n",
      "Japan                      358\n",
      "Poland                     341\n",
      "Israel                     297\n",
      "USA                        291\n",
      "Hong Kong                  288\n",
      "Singapore                  229\n",
      "Iceland                    182\n",
      "Canada                     151\n",
      "Greece                     146\n",
      "Malta                      127\n",
      "United Arab Emirates        68\n",
      "European Community          61\n",
      "RSA                         58\n",
      "Lebanon                     45\n",
      "Lithuania                   35\n",
      "Brazil                      32\n",
      "Czech Republic              30\n",
      "Bahrain                     19\n",
      "Saudi Arabia                10\n",
      "Name: Country, dtype: int64\n"
     ]
    }
   ],
   "source": [
    "# If you want to know unique items along with their counts (transactions) can use value_counts() function.\n",
    "\n",
    "# e.g how many orders from each unique country\n",
    "print(df['Country'].value_counts())"
   ],
   "metadata": {
    "collapsed": false,
    "pycharm": {
     "name": "#%%\n"
    }
   }
  },
  {
   "cell_type": "code",
   "execution_count": 9,
   "outputs": [
    {
     "name": "stdout",
     "output_type": "stream",
     "text": [
      "median 3.0\n",
      "median 3.0\n",
      "mean/avg quantity 9.55224954743324\n",
      "std 218.08115784986612\n",
      "total quantity 5176450\n"
     ]
    }
   ],
   "source": [
    "# calculate total, mean and median of quantity\n",
    "# although u can use numpy mean, median but here v r learning pandas df so these\n",
    "# operations median, mean can be directly applied on df column.\n",
    "\n",
    "# using pandas\n",
    "print('median', df['Quantity'].median())\n",
    "# using numpy\n",
    "print('median', np.median(df['Quantity']))\n",
    "print('mean/avg quantity', df['Quantity'].mean())\n",
    "print('std', df['Quantity'].std())\n",
    "print('total quantity', df['Quantity'].sum())"
   ],
   "metadata": {
    "collapsed": false,
    "pycharm": {
     "name": "#%%\n"
    }
   }
  },
  {
   "cell_type": "markdown",
   "source": [
    "### Aggregation for multiple columns"
   ],
   "metadata": {
    "collapsed": false,
    "pycharm": {
     "name": "#%% md\n"
    }
   }
  },
  {
   "cell_type": "code",
   "execution_count": 14,
   "outputs": [
    {
     "name": "stdout",
     "output_type": "stream",
     "text": [
      "medians for multiple columns\n",
      " Quantity     3.00\n",
      "UnitPrice    2.08\n",
      "dtype: float64\n",
      "\n",
      "mean for multiple columns\n",
      " Quantity     9.552250\n",
      "UnitPrice    4.611114\n",
      "dtype: float64\n"
     ]
    }
   ],
   "source": [
    "# calculate median for unit price and quantity\n",
    "\n",
    "cols = ['Quantity','UnitPrice']\n",
    "print('medians for multiple columns\\n',df[cols].median())\n",
    "print('\\nmean for multiple columns\\n',df[cols].mean())"
   ],
   "metadata": {
    "collapsed": false,
    "pycharm": {
     "name": "#%%\n"
    }
   }
  },
  {
   "cell_type": "code",
   "execution_count": 15,
   "outputs": [],
   "source": [
    "# adding 1 column to dataframe\n",
    "df['invoiceAmount'] = df['Quantity']*df['UnitPrice']"
   ],
   "metadata": {
    "collapsed": false,
    "pycharm": {
     "name": "#%%\n"
    }
   }
  },
  {
   "cell_type": "code",
   "execution_count": 16,
   "outputs": [
    {
     "data": {
      "text/plain": "  InvoiceNo StockCode                          Description  Quantity  \\\n0    536365    85123A   WHITE HANGING HEART T-LIGHT HOLDER         6   \n1    536365     71053                  WHITE METAL LANTERN         6   \n2    536365    84406B       CREAM CUPID HEARTS COAT HANGER         8   \n3    536365    84029G  KNITTED UNION FLAG HOT WATER BOTTLE         6   \n4    536365    84029E       RED WOOLLY HOTTIE WHITE HEART.         6   \n\n       InvoiceDate  UnitPrice  CustomerID         Country  invoiceAmount  \n0  01-12-2010 8.26       2.55     17850.0  United Kingdom          15.30  \n1  01-12-2010 8.26       3.39     17850.0  United Kingdom          20.34  \n2  01-12-2010 8.26       2.75     17850.0  United Kingdom          22.00  \n3  01-12-2010 8.26       3.39     17850.0  United Kingdom          20.34  \n4  01-12-2010 8.26       3.39     17850.0  United Kingdom          20.34  ",
      "text/html": "<div>\n<style scoped>\n    .dataframe tbody tr th:only-of-type {\n        vertical-align: middle;\n    }\n\n    .dataframe tbody tr th {\n        vertical-align: top;\n    }\n\n    .dataframe thead th {\n        text-align: right;\n    }\n</style>\n<table border=\"1\" class=\"dataframe\">\n  <thead>\n    <tr style=\"text-align: right;\">\n      <th></th>\n      <th>InvoiceNo</th>\n      <th>StockCode</th>\n      <th>Description</th>\n      <th>Quantity</th>\n      <th>InvoiceDate</th>\n      <th>UnitPrice</th>\n      <th>CustomerID</th>\n      <th>Country</th>\n      <th>invoiceAmount</th>\n    </tr>\n  </thead>\n  <tbody>\n    <tr>\n      <th>0</th>\n      <td>536365</td>\n      <td>85123A</td>\n      <td>WHITE HANGING HEART T-LIGHT HOLDER</td>\n      <td>6</td>\n      <td>01-12-2010 8.26</td>\n      <td>2.55</td>\n      <td>17850.0</td>\n      <td>United Kingdom</td>\n      <td>15.30</td>\n    </tr>\n    <tr>\n      <th>1</th>\n      <td>536365</td>\n      <td>71053</td>\n      <td>WHITE METAL LANTERN</td>\n      <td>6</td>\n      <td>01-12-2010 8.26</td>\n      <td>3.39</td>\n      <td>17850.0</td>\n      <td>United Kingdom</td>\n      <td>20.34</td>\n    </tr>\n    <tr>\n      <th>2</th>\n      <td>536365</td>\n      <td>84406B</td>\n      <td>CREAM CUPID HEARTS COAT HANGER</td>\n      <td>8</td>\n      <td>01-12-2010 8.26</td>\n      <td>2.75</td>\n      <td>17850.0</td>\n      <td>United Kingdom</td>\n      <td>22.00</td>\n    </tr>\n    <tr>\n      <th>3</th>\n      <td>536365</td>\n      <td>84029G</td>\n      <td>KNITTED UNION FLAG HOT WATER BOTTLE</td>\n      <td>6</td>\n      <td>01-12-2010 8.26</td>\n      <td>3.39</td>\n      <td>17850.0</td>\n      <td>United Kingdom</td>\n      <td>20.34</td>\n    </tr>\n    <tr>\n      <th>4</th>\n      <td>536365</td>\n      <td>84029E</td>\n      <td>RED WOOLLY HOTTIE WHITE HEART.</td>\n      <td>6</td>\n      <td>01-12-2010 8.26</td>\n      <td>3.39</td>\n      <td>17850.0</td>\n      <td>United Kingdom</td>\n      <td>20.34</td>\n    </tr>\n  </tbody>\n</table>\n</div>"
     },
     "execution_count": 16,
     "metadata": {},
     "output_type": "execute_result"
    }
   ],
   "source": [
    "df.head()"
   ],
   "metadata": {
    "collapsed": false,
    "pycharm": {
     "name": "#%%\n"
    }
   }
  },
  {
   "cell_type": "markdown",
   "source": [
    "### Using groupby clause\n",
    "it needs some function with which will aggregating the data e.g. sum,mean etc"
   ],
   "metadata": {
    "collapsed": false,
    "pycharm": {
     "name": "#%% md\n"
    }
   }
  },
  {
   "cell_type": "code",
   "execution_count": 23,
   "outputs": [
    {
     "data": {
      "text/plain": "                                Quantity  UnitPrice  CustomerID  invoiceAmount\nDescription                                                                   \n 4 PURPLE FLOCK DINNER CANDLES       144     100.67    631941.0         290.80\n 50'S CHRISTMAS GIFT BAG LARGE      1913     185.28   1687133.0        2341.13\n DOLLY GIRL BEAKER                  2448     271.38   2072298.0        2882.50\n I LOVE LONDON MINI BACKPACK         389     405.80   1089559.0        1628.17\n I LOVE LONDON MINI RUCKSACK           1       4.15     14646.0           4.15\n...                                  ...        ...         ...            ...\nwrongly marked carton 22804         -256       0.00         0.0           0.00\nwrongly marked. 23343 in box       -3100       0.00         0.0           0.00\nwrongly sold (22719) barcode         170       0.00         0.0           0.00\nwrongly sold as sets                -600       0.00         0.0           0.00\nwrongly sold sets                   -975       0.00         0.0           0.00\n\n[4223 rows x 4 columns]",
      "text/html": "<div>\n<style scoped>\n    .dataframe tbody tr th:only-of-type {\n        vertical-align: middle;\n    }\n\n    .dataframe tbody tr th {\n        vertical-align: top;\n    }\n\n    .dataframe thead th {\n        text-align: right;\n    }\n</style>\n<table border=\"1\" class=\"dataframe\">\n  <thead>\n    <tr style=\"text-align: right;\">\n      <th></th>\n      <th>Quantity</th>\n      <th>UnitPrice</th>\n      <th>CustomerID</th>\n      <th>invoiceAmount</th>\n    </tr>\n    <tr>\n      <th>Description</th>\n      <th></th>\n      <th></th>\n      <th></th>\n      <th></th>\n    </tr>\n  </thead>\n  <tbody>\n    <tr>\n      <th>4 PURPLE FLOCK DINNER CANDLES</th>\n      <td>144</td>\n      <td>100.67</td>\n      <td>631941.0</td>\n      <td>290.80</td>\n    </tr>\n    <tr>\n      <th>50'S CHRISTMAS GIFT BAG LARGE</th>\n      <td>1913</td>\n      <td>185.28</td>\n      <td>1687133.0</td>\n      <td>2341.13</td>\n    </tr>\n    <tr>\n      <th>DOLLY GIRL BEAKER</th>\n      <td>2448</td>\n      <td>271.38</td>\n      <td>2072298.0</td>\n      <td>2882.50</td>\n    </tr>\n    <tr>\n      <th>I LOVE LONDON MINI BACKPACK</th>\n      <td>389</td>\n      <td>405.80</td>\n      <td>1089559.0</td>\n      <td>1628.17</td>\n    </tr>\n    <tr>\n      <th>I LOVE LONDON MINI RUCKSACK</th>\n      <td>1</td>\n      <td>4.15</td>\n      <td>14646.0</td>\n      <td>4.15</td>\n    </tr>\n    <tr>\n      <th>...</th>\n      <td>...</td>\n      <td>...</td>\n      <td>...</td>\n      <td>...</td>\n    </tr>\n    <tr>\n      <th>wrongly marked carton 22804</th>\n      <td>-256</td>\n      <td>0.00</td>\n      <td>0.0</td>\n      <td>0.00</td>\n    </tr>\n    <tr>\n      <th>wrongly marked. 23343 in box</th>\n      <td>-3100</td>\n      <td>0.00</td>\n      <td>0.0</td>\n      <td>0.00</td>\n    </tr>\n    <tr>\n      <th>wrongly sold (22719) barcode</th>\n      <td>170</td>\n      <td>0.00</td>\n      <td>0.0</td>\n      <td>0.00</td>\n    </tr>\n    <tr>\n      <th>wrongly sold as sets</th>\n      <td>-600</td>\n      <td>0.00</td>\n      <td>0.0</td>\n      <td>0.00</td>\n    </tr>\n    <tr>\n      <th>wrongly sold sets</th>\n      <td>-975</td>\n      <td>0.00</td>\n      <td>0.0</td>\n      <td>0.00</td>\n    </tr>\n  </tbody>\n</table>\n<p>4223 rows × 4 columns</p>\n</div>"
     },
     "execution_count": 23,
     "metadata": {},
     "output_type": "execute_result"
    }
   ],
   "source": [
    "# group by clause\n",
    "# to find for every item what is total invoice_amount/sales\n",
    "## value_counts can give for every item what is count(number of txn's) but not total amt\n",
    "# for such cases u can use groupby()\n",
    "\n",
    "df.groupby(by='Description').sum()"
   ],
   "metadata": {
    "collapsed": false,
    "pycharm": {
     "name": "#%%\n"
    }
   }
  },
  {
   "cell_type": "code",
   "execution_count": 24,
   "outputs": [
    {
     "data": {
      "text/plain": "Description\n 4 PURPLE FLOCK DINNER CANDLES     290.80\n 50'S CHRISTMAS GIFT BAG LARGE    2341.13\n DOLLY GIRL BEAKER                2882.50\n I LOVE LONDON MINI BACKPACK      1628.17\n I LOVE LONDON MINI RUCKSACK         4.15\n                                   ...   \nwrongly marked carton 22804          0.00\nwrongly marked. 23343 in box         0.00\nwrongly sold (22719) barcode         0.00\nwrongly sold as sets                 0.00\nwrongly sold sets                    0.00\nName: invoiceAmount, Length: 4223, dtype: float64"
     },
     "execution_count": 24,
     "metadata": {},
     "output_type": "execute_result"
    }
   ],
   "source": [
    "df.groupby(by='Description').sum()['invoiceAmount']"
   ],
   "metadata": {
    "collapsed": false,
    "pycharm": {
     "name": "#%%\n"
    }
   }
  },
  {
   "cell_type": "markdown",
   "source": [
    "### Using Pivot table\n",
    "find country wise total invoice amount\n",
    "Note-\n",
    "groupby or pivot table, in some applications either one can be used.\n",
    "pivot tables are more flexible.\n",
    "\n",
    "So technique used to summarize data by transferring rows to columns is pivot_table. (example below)"
   ],
   "metadata": {
    "collapsed": false,
    "pycharm": {
     "name": "#%% md\n"
    }
   }
  },
  {
   "cell_type": "code",
   "execution_count": 31,
   "outputs": [
    {
     "data": {
      "text/plain": "Country        Australia   Austria  Bahrain   Belgium  Brazil   Canada  \\\ninvoiceAmount  137077.27  10154.32    548.4  40910.96  1143.6  3666.38   \n\nCountry        Channel Islands    Cyprus  Czech Republic   Denmark  ...  \\\ninvoiceAmount         20086.29  12946.29          707.72  18768.14  ...   \n\nCountry            RSA  Saudi Arabia  Singapore     Spain    Sweden  \\\ninvoiceAmount  1002.31        131.17    9120.39  54774.58  36595.91   \n\nCountry        Switzerland      USA  United Arab Emirates  United Kingdom  \\\ninvoiceAmount     56385.35  1730.92               1902.28     8187806.364   \n\nCountry        Unspecified  \ninvoiceAmount      4749.79  \n\n[1 rows x 38 columns]",
      "text/html": "<div>\n<style scoped>\n    .dataframe tbody tr th:only-of-type {\n        vertical-align: middle;\n    }\n\n    .dataframe tbody tr th {\n        vertical-align: top;\n    }\n\n    .dataframe thead th {\n        text-align: right;\n    }\n</style>\n<table border=\"1\" class=\"dataframe\">\n  <thead>\n    <tr style=\"text-align: right;\">\n      <th>Country</th>\n      <th>Australia</th>\n      <th>Austria</th>\n      <th>Bahrain</th>\n      <th>Belgium</th>\n      <th>Brazil</th>\n      <th>Canada</th>\n      <th>Channel Islands</th>\n      <th>Cyprus</th>\n      <th>Czech Republic</th>\n      <th>Denmark</th>\n      <th>...</th>\n      <th>RSA</th>\n      <th>Saudi Arabia</th>\n      <th>Singapore</th>\n      <th>Spain</th>\n      <th>Sweden</th>\n      <th>Switzerland</th>\n      <th>USA</th>\n      <th>United Arab Emirates</th>\n      <th>United Kingdom</th>\n      <th>Unspecified</th>\n    </tr>\n  </thead>\n  <tbody>\n    <tr>\n      <th>invoiceAmount</th>\n      <td>137077.27</td>\n      <td>10154.32</td>\n      <td>548.4</td>\n      <td>40910.96</td>\n      <td>1143.6</td>\n      <td>3666.38</td>\n      <td>20086.29</td>\n      <td>12946.29</td>\n      <td>707.72</td>\n      <td>18768.14</td>\n      <td>...</td>\n      <td>1002.31</td>\n      <td>131.17</td>\n      <td>9120.39</td>\n      <td>54774.58</td>\n      <td>36595.91</td>\n      <td>56385.35</td>\n      <td>1730.92</td>\n      <td>1902.28</td>\n      <td>8187806.364</td>\n      <td>4749.79</td>\n    </tr>\n  </tbody>\n</table>\n<p>1 rows × 38 columns</p>\n</div>"
     },
     "execution_count": 31,
     "metadata": {},
     "output_type": "execute_result"
    }
   ],
   "source": [
    "df.pivot_table(columns='Country',values='invoiceAmount',aggfunc='sum')\n",
    "## here columns synonym to by in groupby\n"
   ],
   "metadata": {
    "collapsed": false,
    "pycharm": {
     "name": "#%%\n"
    }
   }
  },
  {
   "cell_type": "code",
   "execution_count": null,
   "outputs": [],
   "source": [],
   "metadata": {
    "collapsed": false,
    "pycharm": {
     "name": "#%%\n"
    }
   }
  }
 ],
 "metadata": {
  "kernelspec": {
   "display_name": "Python 3",
   "language": "python",
   "name": "python3"
  },
  "language_info": {
   "codemirror_mode": {
    "name": "ipython",
    "version": 2
   },
   "file_extension": ".py",
   "mimetype": "text/x-python",
   "name": "python",
   "nbconvert_exporter": "python",
   "pygments_lexer": "ipython2",
   "version": "2.7.6"
  }
 },
 "nbformat": 4,
 "nbformat_minor": 0
}
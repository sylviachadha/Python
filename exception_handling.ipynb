{
 "cells": [
  {
   "cell_type": "markdown",
   "metadata": {
    "collapsed": true,
    "pycharm": {
     "name": "#%% md\n"
    }
   },
   "source": [
    "## Exception Handling\n",
    "### used in cases where u have error but still want to continue execution. helps to give proper error msg to user so user can rectify in future iterations."
   ]
  },
  {
   "cell_type": "code",
   "execution_count": 1,
   "outputs": [
    {
     "name": "stdout",
     "output_type": "stream",
     "text": [
      "0.5\n",
      "0.3333333333333333\n",
      "0.25\n",
      "0.125\n"
     ]
    }
   ],
   "source": [
    "import sys\n",
    "numbers = [2,3,4,8]\n",
    "\n",
    "# to print reciprocals of this list\n",
    "for i in numbers:\n",
    "    print(1/i)"
   ],
   "metadata": {
    "collapsed": false,
    "pycharm": {
     "name": "#%%\n"
    }
   }
  },
  {
   "cell_type": "code",
   "execution_count": 2,
   "outputs": [
    {
     "name": "stdout",
     "output_type": "stream",
     "text": [
      "0.5\n",
      "0.3333333333333333\n"
     ]
    },
    {
     "ename": "ZeroDivisionError",
     "evalue": "division by zero",
     "output_type": "error",
     "traceback": [
      "\u001B[0;31m---------------------------------------------------------------------------\u001B[0m",
      "\u001B[0;31mZeroDivisionError\u001B[0m                         Traceback (most recent call last)",
      "\u001B[0;32m/var/folders/1j/6bqwtp0x00z_279498pht7ym0000gn/T/ipykernel_4292/2500775193.py\u001B[0m in \u001B[0;36m<module>\u001B[0;34m\u001B[0m\n\u001B[1;32m      3\u001B[0m \u001B[0;34m\u001B[0m\u001B[0m\n\u001B[1;32m      4\u001B[0m \u001B[0;32mfor\u001B[0m \u001B[0mi\u001B[0m \u001B[0;32min\u001B[0m \u001B[0mnumbers\u001B[0m\u001B[0;34m:\u001B[0m\u001B[0;34m\u001B[0m\u001B[0;34m\u001B[0m\u001B[0m\n\u001B[0;32m----> 5\u001B[0;31m     \u001B[0mprint\u001B[0m\u001B[0;34m(\u001B[0m\u001B[0;36m1\u001B[0m\u001B[0;34m/\u001B[0m\u001B[0mi\u001B[0m\u001B[0;34m)\u001B[0m\u001B[0;34m\u001B[0m\u001B[0;34m\u001B[0m\u001B[0m\n\u001B[0m",
      "\u001B[0;31mZeroDivisionError\u001B[0m: division by zero"
     ]
    }
   ],
   "source": [
    "# Case 1 - Now if suppose there is a 0 in this list\n",
    "numbers = [2,3,0,4,8]\n",
    "\n",
    "for i in numbers:\n",
    "    print(1/i)"
   ],
   "metadata": {
    "collapsed": false,
    "pycharm": {
     "name": "#%%\n"
    }
   }
  },
  {
   "cell_type": "code",
   "execution_count": 4,
   "outputs": [
    {
     "name": "stdout",
     "output_type": "stream",
     "text": [
      "0.5\n",
      "0.3333333333333333\n",
      "reciprocal can't be calculated for 0\n",
      "0.25\n",
      "0.125\n"
     ]
    }
   ],
   "source": [
    "# Case 2 - Now above code with exception handling\n",
    "# write statement which can generate an error in (try) clause & if try clause is true i.e. error is generated, then statement in except clause will be executed.\n",
    "\n",
    "numbers = [2,3,0,4,8]\n",
    "\n",
    "for i in numbers:\n",
    "    try:\n",
    "        print(1/i)\n",
    "    except:\n",
    "        print(\"reciprocal can't be calculated for\",i)\n",
    "\n",
    "# when exception handling was not present, it broke the loop, did not calculate reciprocals for numbers which were after the error entry."
   ],
   "metadata": {
    "collapsed": false,
    "pycharm": {
     "name": "#%%\n"
    }
   }
  },
  {
   "cell_type": "code",
   "execution_count": 7,
   "outputs": [
    {
     "name": "stdout",
     "output_type": "stream",
     "text": [
      "0.5\n",
      "0.3333333333333333\n",
      "reciprocal can't be calculated for 0 || <class 'ZeroDivisionError'>\n",
      "0.25\n",
      "0.125\n",
      "reciprocal can't be calculated for text || <class 'TypeError'>\n"
     ]
    }
   ],
   "source": [
    "# Case 3 - In above case of error, apart from user defined msg u can also print system error (the actual error which system is generating) e.g. ZeroDivisionError, TypeError\n",
    "\n",
    "numbers = [2,3,0,4,8,\"text\"]\n",
    "\n",
    "for i in numbers:\n",
    "    try:\n",
    "        print(1/i)\n",
    "    except:\n",
    "        print(\"reciprocal can't be calculated for\",i, '||', sys.exc_info()[0])"
   ],
   "metadata": {
    "collapsed": false,
    "pycharm": {
     "name": "#%%\n"
    }
   }
  },
  {
   "cell_type": "code",
   "execution_count": null,
   "outputs": [],
   "source": [],
   "metadata": {
    "collapsed": false,
    "pycharm": {
     "name": "#%%\n"
    }
   }
  }
 ],
 "metadata": {
  "kernelspec": {
   "display_name": "Python 3",
   "language": "python",
   "name": "python3"
  },
  "language_info": {
   "codemirror_mode": {
    "name": "ipython",
    "version": 2
   },
   "file_extension": ".py",
   "mimetype": "text/x-python",
   "name": "python",
   "nbconvert_exporter": "python",
   "pygments_lexer": "ipython2",
   "version": "2.7.6"
  }
 },
 "nbformat": 4,
 "nbformat_minor": 0
}
{
 "cells": [
  {
   "cell_type": "markdown",
   "metadata": {
    "collapsed": true,
    "pycharm": {
     "name": "#%% md\n"
    }
   },
   "source": [
    "## NumPy - Numerical Python"
   ]
  },
  {
   "cell_type": "code",
   "execution_count": 1,
   "outputs": [
    {
     "data": {
      "text/plain": "'1.21.2'"
     },
     "execution_count": 1,
     "metadata": {},
     "output_type": "execute_result"
    }
   ],
   "source": [
    "import numpy as np\n",
    "np.__version__          # need to check version cz some functionality depreciated\n"
   ],
   "metadata": {
    "collapsed": false,
    "pycharm": {
     "name": "#%%\n"
    }
   }
  },
  {
   "cell_type": "markdown",
   "source": [
    "## Properties of numpy arrays\n",
    "1. It can be n-dimensional array.\n",
    "2. It is homogenous array. (either all integers/all floating point not mixed).\n",
    "3. It is indexed by a tuple and non -ve integers."
   ],
   "metadata": {
    "collapsed": false,
    "pycharm": {
     "name": "#%% md\n"
    }
   }
  },
  {
   "cell_type": "markdown",
   "source": [
    "## Data types supported by numpy arrays-\n",
    "1. Integers\n",
    "2. Float   ## default type\n",
    "3. Complex\n",
    "4. Boolean"
   ],
   "metadata": {
    "collapsed": false,
    "pycharm": {
     "name": "#%% md\n"
    }
   }
  },
  {
   "cell_type": "markdown",
   "source": [
    "## Bits and Bytes\n",
    "At the smallest scale in the computer, information is stored as bits and bytes.\n",
    "So, bits and bytes are both units of data.\n",
    "One byte is equivalent to eight bits. A bit is considered to be the smallest unit of data measurement. A bit can be either 0 or 1."
   ],
   "metadata": {
    "collapsed": false,
    "pycharm": {
     "name": "#%% md\n"
    }
   }
  },
  {
   "cell_type": "markdown",
   "source": [
    "## Why we use Numpy instead of python lists ?\n",
    "### Lists are native to python, we do no use any library but numpy array we import np\n",
    "1. Less memory consumption   # mainly cz numpy homogenous\n",
    "2. Faster operations  # cz of less memory & way they r structured\n",
    "3. Easier to use for numerical computations.  # has most functions built-in"
   ],
   "metadata": {
    "collapsed": false,
    "pycharm": {
     "name": "#%% md\n"
    }
   }
  },
  {
   "cell_type": "markdown",
   "source": [
    "## Prove advantages of Numpy array over lists\n",
    "### Proof 1 - Memory consumption.\n",
    "We make a list and array of 1 million integers and check size of each."
   ],
   "metadata": {
    "collapsed": false,
    "pycharm": {
     "name": "#%% md\n"
    }
   }
  },
  {
   "cell_type": "code",
   "execution_count": 76,
   "outputs": [
    {
     "name": "stdout",
     "output_type": "stream",
     "text": [
      "<class 'list'>\n",
      "<class 'list'>\n",
      "<class 'numpy.ndarray'> \n",
      "\n",
      "size of list1 8e-05 mb\n",
      "size of list2 9.00012 mb\n",
      "size of array 4.000104 mb\n"
     ]
    }
   ],
   "source": [
    "from sys import getsizeof\n",
    "\n",
    "list_1 = [range(1000000)]  # do not use square brackets, use list keyword to create list\n",
    "list_2 = list(range(1000000))  # if no lower limit specified in range, by default start with 0\n",
    "array_1 = np.array(range(0,1000000),dtype='int32')  # int64=8mb, int32=4mb, int16=2mb\n",
    "# for 1 million number range int32 ok\n",
    "\n",
    "print(type(list_1))\n",
    "print(type(list_2))\n",
    "print(type(array_1),'\\n')\n",
    "\n",
    "print('size of list1', getsizeof(list_1)/1000000,\"mb\")\n",
    "print('size of list2', getsizeof(list_2)/1000000,\"mb\")\n",
    "print('size of array', getsizeof(array_1)/1000000,\"mb\")"
   ],
   "metadata": {
    "collapsed": false,
    "pycharm": {
     "name": "#%%\n"
    }
   }
  },
  {
   "cell_type": "code",
   "execution_count": 70,
   "outputs": [
    {
     "data": {
      "text/plain": "[range(0, 1000000)]"
     },
     "execution_count": 70,
     "metadata": {},
     "output_type": "execute_result"
    }
   ],
   "source": [
    "list_1"
   ],
   "metadata": {
    "collapsed": false,
    "pycharm": {
     "name": "#%%\n"
    }
   }
  },
  {
   "cell_type": "code",
   "execution_count": 71,
   "outputs": [
    {
     "name": "stdout",
     "output_type": "stream",
     "text": [
      "[0, 1, 2, 3, 4, 5, 6, 7, 8, 9]\n"
     ]
    }
   ],
   "source": [
    "list_2\n",
    "n=10\n",
    "print(list_2[:10])     # print first 10 no's"
   ],
   "metadata": {
    "collapsed": false,
    "pycharm": {
     "name": "#%%\n"
    }
   }
  },
  {
   "cell_type": "code",
   "execution_count": 72,
   "outputs": [
    {
     "data": {
      "text/plain": "array([0, 1, 2, 3, 4, 5, 6, 7, 8, 9], dtype=int32)"
     },
     "execution_count": 72,
     "metadata": {},
     "output_type": "execute_result"
    }
   ],
   "source": [
    "array_1\n",
    "array_1[:10]     # print first 10 no's"
   ],
   "metadata": {
    "collapsed": false,
    "pycharm": {
     "name": "#%%\n"
    }
   }
  },
  {
   "cell_type": "markdown",
   "source": [
    "### Proof 2 - Faster Operations\n",
    "\n",
    "Create a list & array of 1 million no's & perform operation of adding a scalar to each number in a list or array."
   ],
   "metadata": {
    "collapsed": false,
    "pycharm": {
     "name": "#%% md\n"
    }
   }
  },
  {
   "cell_type": "code",
   "execution_count": 73,
   "outputs": [
    {
     "name": "stdout",
     "output_type": "stream",
     "text": [
      "list before [0, 1, 2, 3, 4, 5, 6, 7, 8, 9]\n",
      "list after [5, 6, 7, 8, 9, 10, 11, 12, 13, 14]\n",
      "time taken for list 0.082 seconds\n",
      "\n",
      "array before [0 1 2 3 4 5 6 7 8 9]\n",
      "array after [ 5  6  7  8  9 10 11 12 13 14]\n",
      "time taken for array 0.001 seconds\n"
     ]
    }
   ],
   "source": [
    "from time import time  # gives current system time in seconds\n",
    "list_num = list(range(1000000))\n",
    "print('list before',list_num[:10])\n",
    "\n",
    "# LIST\n",
    "start = time()\n",
    "for i in list_num:\n",
    "    list_num[i]  = i + 5\n",
    "end = time()\n",
    "print('list after',list_num[:10])\n",
    "print('time taken for list',round(end-start,3),'seconds\\n')\n",
    "\n",
    "# ARRAY\n",
    "array_num = np.array(range(1000000))\n",
    "print('array before',array_num[:10])\n",
    "start1 = time()\n",
    "array_num = array_num + 5\n",
    "\n",
    "end1 = time()\n",
    "print('array after',array_num[:10])\n",
    "print('time taken for array',round(end1-start1,3),'seconds')"
   ],
   "metadata": {
    "collapsed": false,
    "pycharm": {
     "name": "#%%\n"
    }
   }
  },
  {
   "cell_type": "markdown",
   "source": [
    "### Proof 3 - check for speed by calculating dot product of two lists and arrays (1 million each numbers) and ease of use of numpy for numerical computations\n",
    "### This is more intensive computation/operation than adding a scalar to each number."
   ],
   "metadata": {
    "collapsed": false,
    "pycharm": {
     "name": "#%% md\n"
    }
   }
  },
  {
   "cell_type": "code",
   "execution_count": 74,
   "outputs": [
    {
     "name": "stdout",
     "output_type": "stream",
     "text": [
      "dot product for list 333332833333500000\n",
      "time taken for list 0.194 seconds\n",
      "\n",
      "dot product for array 333332833333500000\n",
      "time taken for array 0.001 seconds\n",
      "\n"
     ]
    }
   ],
   "source": [
    "# Dot product will multiply 1 million no's with 1 million no's & calculate their sum\n",
    "\n",
    "lista = list(range(1000000))\n",
    "listb = list(range(1000000))\n",
    "\n",
    "dot = 0\n",
    "start = time()\n",
    "for i,j in zip(lista,listb):\n",
    "    ans = lista[i] * listb[j]\n",
    "    dot = dot + ans\n",
    "end = time()\n",
    "print('dot product for list', dot)\n",
    "print('time taken for list',round(end-start,3),'seconds\\n')\n",
    "\n",
    "\n",
    "array_a = np.array(range(1000000),dtype='int64')\n",
    "array_b = np.array(range(1000000),dtype='int64')\n",
    "\n",
    "start1 = time()\n",
    "dot_array = np.dot(array_a, array_b)\n",
    "end1 = time()\n",
    "\n",
    "print('dot product for array', dot_array)\n",
    "print('time taken for array',round(end1-start1,3),'seconds\\n')\n"
   ],
   "metadata": {
    "collapsed": false,
    "pycharm": {
     "name": "#%%\n"
    }
   }
  },
  {
   "cell_type": "code",
   "execution_count": 74,
   "outputs": [],
   "source": [],
   "metadata": {
    "collapsed": false,
    "pycharm": {
     "name": "#%%\n"
    }
   }
  }
 ],
 "metadata": {
  "kernelspec": {
   "display_name": "Python 3",
   "language": "python",
   "name": "python3"
  },
  "language_info": {
   "codemirror_mode": {
    "name": "ipython",
    "version": 2
   },
   "file_extension": ".py",
   "mimetype": "text/x-python",
   "name": "python",
   "nbconvert_exporter": "python",
   "pygments_lexer": "ipython2",
   "version": "2.7.6"
  }
 },
 "nbformat": 4,
 "nbformat_minor": 0
}
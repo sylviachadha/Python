{
 "cells": [
  {
   "cell_type": "markdown",
   "id": "0720f5f5",
   "metadata": {},
   "source": [
    "# SET"
   ]
  },
  {
   "cell_type": "markdown",
   "id": "789e2671",
   "metadata": {},
   "source": [
    "    A set is an unordered collection of items. \n",
    "    Every set element is unique (no duplicates) and must be immutable (cannot be changed).\n",
    "    However, a set itself is mutable. We can add or remove items from it.\n",
    "    Sets can also be used to perform mathematical set operations like union, intersection etc."
   ]
  },
  {
   "cell_type": "markdown",
   "id": "e5e42443",
   "metadata": {},
   "source": [
    "* Creating an empty set is a bit different because empty curly {} braces are also used to create a dictionary as well. \n",
    "* Python provides the set() method used without an argument to create an empty set."
   ]
  },
  {
   "cell_type": "code",
   "execution_count": 1,
   "id": "d7b350d6",
   "metadata": {},
   "outputs": [
    {
     "name": "stdout",
     "output_type": "stream",
     "text": [
      "<class 'dict'>\n",
      "<class 'set'>\n"
     ]
    }
   ],
   "source": [
    "# Empty curly braces will create dictionary  \n",
    "set3 = {}            # misleading as creating dictionary but naming set\n",
    "print(type(set3))  \n",
    "      \n",
    "# Empty set using set() function  \n",
    "set4 = set()  \n",
    "print(type(set4)) "
   ]
  },
  {
   "cell_type": "markdown",
   "id": "6f0c4c97",
   "metadata": {},
   "source": [
    "## Properties of Sets"
   ]
  },
  {
   "cell_type": "code",
   "execution_count": 2,
   "id": "417132c3",
   "metadata": {},
   "outputs": [
    {
     "name": "stdout",
     "output_type": "stream",
     "text": [
      "{1, 2, 3, 4, 6}\n",
      "{1, 2, 3, 4}\n",
      "{1, 2.3, 3.4, 1.1, 'bing', 'Ring', 'String'}\n"
     ]
    }
   ],
   "source": [
    "# Set is a data type \n",
    "# It is an unordered collection of unique items.\n",
    "# Examples\n",
    "s1={3,1,4,2,6}   # earlier dictionaries also unordered like so random display like sets\n",
    "s2={1,2,3,4,4,4,4} # sets do not print duplicate elements.\n",
    "s3={1,1.1,2.3,3.4,'String', 'Ring', 'bing'} ## sets do not follow any order\n",
    "print(s1) \n",
    "print(s2) \n",
    "print(s3) # unordered collection \n",
    "\n"
   ]
  },
  {
   "cell_type": "code",
   "execution_count": 4,
   "id": "0447b441",
   "metadata": {},
   "outputs": [
    {
     "ename": "TypeError",
     "evalue": "'set' object is not subscriptable",
     "output_type": "error",
     "traceback": [
      "\u001b[0;31m---------------------------------------------------------------------------\u001b[0m",
      "\u001b[0;31mTypeError\u001b[0m                                 Traceback (most recent call last)",
      "\u001b[0;32m/var/folders/1j/6bqwtp0x00z_279498pht7ym0000gn/T/ipykernel_66026/2482588861.py\u001b[0m in \u001b[0;36m<module>\u001b[0;34m\u001b[0m\n\u001b[0;32m----> 1\u001b[0;31m \u001b[0mprint\u001b[0m\u001b[0;34m(\u001b[0m\u001b[0ms1\u001b[0m\u001b[0;34m[\u001b[0m\u001b[0;36m0\u001b[0m\u001b[0;34m]\u001b[0m\u001b[0;34m)\u001b[0m  \u001b[0;31m# Since sets are unordered u cannot access them by index.\u001b[0m\u001b[0;34m\u001b[0m\u001b[0;34m\u001b[0m\u001b[0m\n\u001b[0m\u001b[1;32m      2\u001b[0m \u001b[0;34m\u001b[0m\u001b[0m\n\u001b[1;32m      3\u001b[0m \u001b[0;31m### The above command will raise an error\u001b[0m\u001b[0;34m\u001b[0m\u001b[0;34m\u001b[0m\u001b[0;34m\u001b[0m\u001b[0m\n",
      "\u001b[0;31mTypeError\u001b[0m: 'set' object is not subscriptable"
     ]
    }
   ],
   "source": [
    "print(s1[0])  # Since sets are unordered u cannot access them by index.\n",
    "\n",
    "### The above command will raise an error"
   ]
  },
  {
   "cell_type": "markdown",
   "id": "b1cc5377",
   "metadata": {},
   "source": [
    "## Accessing Set"
   ]
  },
  {
   "cell_type": "code",
   "execution_count": 6,
   "id": "312ed876",
   "metadata": {},
   "outputs": [
    {
     "name": "stdout",
     "output_type": "stream",
     "text": [
      "False\n",
      "True\n"
     ]
    }
   ],
   "source": [
    "# accessing an element from set\n",
    "s1 = {3,1,4,2,6}\n",
    "print(21 in s1)\n",
    "print(1 in s1)\n"
   ]
  },
  {
   "cell_type": "markdown",
   "id": "d1a939ad",
   "metadata": {},
   "source": [
    "## Removing an element"
   ]
  },
  {
   "cell_type": "code",
   "execution_count": 9,
   "id": "0a89ad7d",
   "metadata": {},
   "outputs": [
    {
     "name": "stdout",
     "output_type": "stream",
     "text": [
      "3\n",
      "{4, 6}\n"
     ]
    }
   ],
   "source": [
    "# To remove element (pop picks any 1 random element from set & removes it)\n",
    "print(s1.pop())\n",
    "print(s1)"
   ]
  },
  {
   "cell_type": "markdown",
   "id": "fffd38b3",
   "metadata": {},
   "source": [
    "### Using sets to remove the duplicate elements of a list, this is one use of set\n",
    "### count() can tell how many times element repeated"
   ]
  },
  {
   "cell_type": "code",
   "execution_count": 16,
   "id": "80ea1480",
   "metadata": {},
   "outputs": [
    {
     "name": "stdout",
     "output_type": "stream",
     "text": [
      "the given list: [1, 2, 3, 4, 5, 6, 7, 7, 7, 6, 5, 5, 8, 2, 4, 5, 2] and length of list1 is: 17\n",
      "total no of 5's in list are 4\n",
      "list after removing duplicates: [1, 2, 3, 4, 5, 6, 7, 8] and length of list2 is 8\n"
     ]
    }
   ],
   "source": [
    "list1 = [1,2,3,4,5,6,7,7,7,6,5,5,8,2,4,5,2]\n",
    "# list can have duplicate elements\n",
    "print(\"the given list:\", list1, \"and length of list1 is:\", len(list1))\n",
    "print(\"total no of 5's in list are\",list1.count(5))\n",
    "\n",
    "\n",
    "# sets do not display duplicate values\n",
    "list2 = list(set(list1)) \n",
    "\n",
    "print(\"list after removing duplicates:\",list2, \"and length of list2 is\", len(list2))"
   ]
  },
  {
   "cell_type": "markdown",
   "id": "232c9c7d",
   "metadata": {},
   "source": [
    "### Some built-in functions"
   ]
  },
  {
   "cell_type": "code",
   "execution_count": 18,
   "id": "edff0e2f",
   "metadata": {},
   "outputs": [
    {
     "name": "stdout",
     "output_type": "stream",
     "text": [
      "{1, 2, 3, 4, 5}\n",
      "{1, 2, 3, 5}\n"
     ]
    }
   ],
   "source": [
    "# discard an element\n",
    "s1={1,2,3,4,4,5}\n",
    "print(s1)    # {1,2,3,4,5}\n",
    "\n",
    "s1.discard(4) # s1.discard(4) will not give error. Elements of set r not mutable but set\n",
    "print(s1)     # is mutable hence possible to discard elements from set.\n",
    "\n",
    "# We discard by value, cant do by index cz sets are not ordered data structure,order is not preserved\n",
    "# They display output randomly shuffled."
   ]
  },
  {
   "cell_type": "code",
   "execution_count": 20,
   "id": "36380299",
   "metadata": {},
   "outputs": [
    {
     "name": "stdout",
     "output_type": "stream",
     "text": [
      "{1, 2, 3, 4, 5, 8}\n"
     ]
    }
   ],
   "source": [
    "# add an element (set elements r unique hence will not be repeated)\n",
    "s1.add(4)\n",
    "s1.add(8)\n",
    "s1.add(5)\n",
    "print(s1)"
   ]
  },
  {
   "cell_type": "markdown",
   "id": "60442eb7",
   "metadata": {},
   "source": [
    "### Python Set Mathematical Operations\n",
    "    Sets can be used to carry out mathematical set operations like union, intersection, difference and symmetric difference. We can do this with operators or methods."
   ]
  },
  {
   "attachments": {
    "image.png": {
     "image/png": "[encoded data removed]"
    }
   },
   "cell_type": "markdown",
   "id": "6ae63f08",
   "metadata": {},
   "source": [
    "![image.png](attachment:image.png)"
   ]
  },
  {
   "cell_type": "code",
   "execution_count": 21,
   "id": "858657ff",
   "metadata": {},
   "outputs": [
    {
     "name": "stdout",
     "output_type": "stream",
     "text": [
      "union of set A and B is {1, 2, 3, 4, 5, 6}\n",
      "intersection of sets A and B is {3, 4}\n",
      "{5, 6}\n",
      "{1, 2, 5, 6}\n"
     ]
    }
   ],
   "source": [
    "# Set union and intersection\n",
    "# initialize A and B\n",
    "A = {1, 2, 3, 4}\n",
    "B = {3, 4, 5, 6}\n",
    "\n",
    "# use | operator for union # union will give all the elements without repitation\n",
    "print(\"union of set A and B is\", A | B)           # {1,2,3,4,5,6}\n",
    "print(\"intersection of sets A and B is\", A & B)   # {3,4}\n",
    "print(B - A)                                      # {5,6}\n",
    "print(B ^ A)                                      # {5,6,1,2}"
   ]
  },
  {
   "cell_type": "markdown",
   "id": "c134e57a",
   "metadata": {},
   "source": [
    "Symmetric Difference of A and B is a set of elements in A and B but not in both (excluding the intersection).\n",
    "Symmetric difference is performed using ^ operator. Same can be accomplished using the method symmetric_difference()."
   ]
  }
 ],
 "metadata": {
  "kernelspec": {
   "display_name": "Python 3 (ipykernel)",
   "language": "python",
   "name": "python3"
  },
  "language_info": {
   "codemirror_mode": {
    "name": "ipython",
    "version": 3
   },
   "file_extension": ".py",
   "mimetype": "text/x-python",
   "name": "python",
   "nbconvert_exporter": "python",
   "pygments_lexer": "ipython3",
   "version": "3.7.7"
  }
 },
 "nbformat": 4,
 "nbformat_minor": 5
}

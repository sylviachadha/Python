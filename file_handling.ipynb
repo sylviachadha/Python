{
 "cells": [
  {
   "cell_type": "markdown",
   "metadata": {
    "collapsed": true,
    "pycharm": {
     "name": "#%% md\n"
    }
   },
   "source": [
    "## File Handling"
   ]
  },
  {
   "cell_type": "markdown",
   "source": [
    "### Modes of files\n",
    "#### r - reading\n",
    "#### w - writing\n",
    "#### a - appending\n",
    "#### r+ - both reading & writing"
   ],
   "metadata": {
    "collapsed": false,
    "pycharm": {
     "name": "#%% md\n"
    }
   }
  },
  {
   "cell_type": "markdown",
   "source": [
    "Note-\n",
    "In write mode it checks if file already existing, writes on that file, if not existing, it will create the file first."
   ],
   "metadata": {
    "collapsed": false,
    "pycharm": {
     "name": "#%% md\n"
    }
   }
  },
  {
   "cell_type": "code",
   "execution_count": 19,
   "outputs": [],
   "source": [
    "with open('text_file.txt',\"w\") as f:  # 1. open file in particular mode, add an alias\n",
    "    f.write(\"this is my 1st line\\n\")  # 2. perform operations\n",
    "    f.write(\"hi\\n\")\n",
    "    f.write(\"we will add many more lines\\n\")\n",
    "\n",
    "f.close()                             # 3. close the file. if not close will still be in                                             memory & cause problems if larger files."
   ],
   "metadata": {
    "collapsed": false,
    "pycharm": {
     "name": "#%%\n"
    }
   }
  },
  {
   "cell_type": "code",
   "execution_count": 26,
   "outputs": [
    {
     "data": {
      "text/plain": "'this is my 1st line\\nhi\\nwe will add many more lines\\n'"
     },
     "execution_count": 26,
     "metadata": {},
     "output_type": "execute_result"
    }
   ],
   "source": [
    "f = open('text_file.txt',\"r\")\n",
    "\n",
    "f.read()"
   ],
   "metadata": {
    "collapsed": false,
    "pycharm": {
     "name": "#%%\n"
    }
   }
  },
  {
   "cell_type": "code",
   "execution_count": 27,
   "outputs": [],
   "source": [
    "f.close()"
   ],
   "metadata": {
    "collapsed": false,
    "pycharm": {
     "name": "#%%\n"
    }
   }
  },
  {
   "cell_type": "code",
   "execution_count": 22,
   "outputs": [
    {
     "name": "stdout",
     "output_type": "stream",
     "text": [
      "this is my 1st line\n",
      "hi\n",
      "we will add many more lines\n",
      "\n"
     ]
    }
   ],
   "source": [
    "f = open('text_file.txt',\"r\")\n",
    "print(f.read())\n",
    "f.close()"
   ],
   "metadata": {
    "collapsed": false,
    "pycharm": {
     "name": "#%%\n"
    }
   }
  },
  {
   "cell_type": "code",
   "execution_count": 23,
   "outputs": [
    {
     "name": "stdout",
     "output_type": "stream",
     "text": [
      "this is my\n"
     ]
    }
   ],
   "source": [
    "# read only first 10 characters of file\n",
    "f = open('text_file.txt',\"r\")\n",
    "print(f.read(10))\n",
    "f.close()"
   ],
   "metadata": {
    "collapsed": false,
    "pycharm": {
     "name": "#%%\n"
    }
   }
  },
  {
   "cell_type": "code",
   "execution_count": 24,
   "outputs": [
    {
     "name": "stdout",
     "output_type": "stream",
     "text": [
      "['this is my 1st line\\n', 'hi\\n', 'we will add many more lines\\n']\n"
     ]
    }
   ],
   "source": [
    "# f.readlines() gives list iterable as output.\n",
    "\n",
    "f = open(\"text_file.txt\",\"r\")\n",
    "print(f.readlines())                 # this gives LIST as o/p - inside square brackets\n",
    "f.close()"
   ],
   "metadata": {
    "collapsed": false,
    "pycharm": {
     "name": "#%%\n"
    }
   }
  },
  {
   "cell_type": "code",
   "execution_count": 25,
   "outputs": [
    {
     "name": "stdout",
     "output_type": "stream",
     "text": [
      "this is my 1st line\n",
      "\n",
      "hi\n",
      "\n",
      "we will add many more lines\n",
      "\n"
     ]
    }
   ],
   "source": [
    "# use for loop to read file - for this we need iterable & here f.readlines() gives list iterable as output.\n",
    "f = open(\"text_file.txt\",\"r\")\n",
    "for i in f.readlines():      # will iterate through list which is o/p of f.readlines()\n",
    "    print(i)\n",
    "f.close()"
   ],
   "metadata": {
    "collapsed": false,
    "pycharm": {
     "name": "#%%\n"
    }
   }
  },
  {
   "cell_type": "code",
   "execution_count": null,
   "outputs": [],
   "source": [],
   "metadata": {
    "collapsed": false,
    "pycharm": {
     "name": "#%%\n"
    }
   }
  }
 ],
 "metadata": {
  "kernelspec": {
   "display_name": "Python 3",
   "language": "python",
   "name": "python3"
  },
  "language_info": {
   "codemirror_mode": {
    "name": "ipython",
    "version": 2
   },
   "file_extension": ".py",
   "mimetype": "text/x-python",
   "name": "python",
   "nbconvert_exporter": "python",
   "pygments_lexer": "ipython2",
   "version": "2.7.6"
  }
 },
 "nbformat": 4,
 "nbformat_minor": 0
}
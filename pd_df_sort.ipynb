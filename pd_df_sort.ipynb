{
 "cells": [
  {
   "cell_type": "markdown",
   "metadata": {
    "collapsed": true,
    "pycharm": {
     "name": "#%% md\n"
    }
   },
   "source": [
    "## Sorting Pandas Dataframe"
   ]
  },
  {
   "cell_type": "code",
   "execution_count": 1,
   "outputs": [
    {
     "name": "stdout",
     "output_type": "stream",
     "text": [
      "<class 'pandas.core.frame.DataFrame'>\n"
     ]
    },
    {
     "data": {
      "text/plain": "  InvoiceNo StockCode                          Description  Quantity  \\\n0    536365    85123A   WHITE HANGING HEART T-LIGHT HOLDER         6   \n1    536365     71053                  WHITE METAL LANTERN         6   \n2    536365    84406B       CREAM CUPID HEARTS COAT HANGER         8   \n3    536365    84029G  KNITTED UNION FLAG HOT WATER BOTTLE         6   \n4    536365    84029E       RED WOOLLY HOTTIE WHITE HEART.         6   \n\n       InvoiceDate  UnitPrice  CustomerID         Country  \n0  01-12-2010 8.26       2.55     17850.0  United Kingdom  \n1  01-12-2010 8.26       3.39     17850.0  United Kingdom  \n2  01-12-2010 8.26       2.75     17850.0  United Kingdom  \n3  01-12-2010 8.26       3.39     17850.0  United Kingdom  \n4  01-12-2010 8.26       3.39     17850.0  United Kingdom  ",
      "text/html": "<div>\n<style scoped>\n    .dataframe tbody tr th:only-of-type {\n        vertical-align: middle;\n    }\n\n    .dataframe tbody tr th {\n        vertical-align: top;\n    }\n\n    .dataframe thead th {\n        text-align: right;\n    }\n</style>\n<table border=\"1\" class=\"dataframe\">\n  <thead>\n    <tr style=\"text-align: right;\">\n      <th></th>\n      <th>InvoiceNo</th>\n      <th>StockCode</th>\n      <th>Description</th>\n      <th>Quantity</th>\n      <th>InvoiceDate</th>\n      <th>UnitPrice</th>\n      <th>CustomerID</th>\n      <th>Country</th>\n    </tr>\n  </thead>\n  <tbody>\n    <tr>\n      <th>0</th>\n      <td>536365</td>\n      <td>85123A</td>\n      <td>WHITE HANGING HEART T-LIGHT HOLDER</td>\n      <td>6</td>\n      <td>01-12-2010 8.26</td>\n      <td>2.55</td>\n      <td>17850.0</td>\n      <td>United Kingdom</td>\n    </tr>\n    <tr>\n      <th>1</th>\n      <td>536365</td>\n      <td>71053</td>\n      <td>WHITE METAL LANTERN</td>\n      <td>6</td>\n      <td>01-12-2010 8.26</td>\n      <td>3.39</td>\n      <td>17850.0</td>\n      <td>United Kingdom</td>\n    </tr>\n    <tr>\n      <th>2</th>\n      <td>536365</td>\n      <td>84406B</td>\n      <td>CREAM CUPID HEARTS COAT HANGER</td>\n      <td>8</td>\n      <td>01-12-2010 8.26</td>\n      <td>2.75</td>\n      <td>17850.0</td>\n      <td>United Kingdom</td>\n    </tr>\n    <tr>\n      <th>3</th>\n      <td>536365</td>\n      <td>84029G</td>\n      <td>KNITTED UNION FLAG HOT WATER BOTTLE</td>\n      <td>6</td>\n      <td>01-12-2010 8.26</td>\n      <td>3.39</td>\n      <td>17850.0</td>\n      <td>United Kingdom</td>\n    </tr>\n    <tr>\n      <th>4</th>\n      <td>536365</td>\n      <td>84029E</td>\n      <td>RED WOOLLY HOTTIE WHITE HEART.</td>\n      <td>6</td>\n      <td>01-12-2010 8.26</td>\n      <td>3.39</td>\n      <td>17850.0</td>\n      <td>United Kingdom</td>\n    </tr>\n  </tbody>\n</table>\n</div>"
     },
     "execution_count": 1,
     "metadata": {},
     "output_type": "execute_result"
    }
   ],
   "source": [
    "# Load data\n",
    "import numpy as np\n",
    "import pandas as pd\n",
    "\n",
    "df = pd.read_csv('online_retail.csv')\n",
    "print(type(df))\n",
    "\n",
    "# preview your data\n",
    "df.head()"
   ],
   "metadata": {
    "collapsed": false,
    "pycharm": {
     "name": "#%%\n"
    }
   }
  },
  {
   "cell_type": "code",
   "execution_count": 2,
   "outputs": [],
   "source": [
    "df['invoiceAmount'] = df['Quantity']*df['UnitPrice']\n",
    "df['tax'] = (0.8*df['invoiceAmount'])  # 8% tax rate of invoiceAmount"
   ],
   "metadata": {
    "collapsed": false,
    "pycharm": {
     "name": "#%%\n"
    }
   }
  },
  {
   "cell_type": "code",
   "execution_count": 3,
   "outputs": [
    {
     "data": {
      "text/plain": "  InvoiceNo StockCode                          Description  Quantity  \\\n0    536365    85123A   WHITE HANGING HEART T-LIGHT HOLDER         6   \n1    536365     71053                  WHITE METAL LANTERN         6   \n2    536365    84406B       CREAM CUPID HEARTS COAT HANGER         8   \n3    536365    84029G  KNITTED UNION FLAG HOT WATER BOTTLE         6   \n4    536365    84029E       RED WOOLLY HOTTIE WHITE HEART.         6   \n\n       InvoiceDate  UnitPrice  CustomerID         Country  invoiceAmount  \\\n0  01-12-2010 8.26       2.55     17850.0  United Kingdom          15.30   \n1  01-12-2010 8.26       3.39     17850.0  United Kingdom          20.34   \n2  01-12-2010 8.26       2.75     17850.0  United Kingdom          22.00   \n3  01-12-2010 8.26       3.39     17850.0  United Kingdom          20.34   \n4  01-12-2010 8.26       3.39     17850.0  United Kingdom          20.34   \n\n      tax  \n0  12.240  \n1  16.272  \n2  17.600  \n3  16.272  \n4  16.272  ",
      "text/html": "<div>\n<style scoped>\n    .dataframe tbody tr th:only-of-type {\n        vertical-align: middle;\n    }\n\n    .dataframe tbody tr th {\n        vertical-align: top;\n    }\n\n    .dataframe thead th {\n        text-align: right;\n    }\n</style>\n<table border=\"1\" class=\"dataframe\">\n  <thead>\n    <tr style=\"text-align: right;\">\n      <th></th>\n      <th>InvoiceNo</th>\n      <th>StockCode</th>\n      <th>Description</th>\n      <th>Quantity</th>\n      <th>InvoiceDate</th>\n      <th>UnitPrice</th>\n      <th>CustomerID</th>\n      <th>Country</th>\n      <th>invoiceAmount</th>\n      <th>tax</th>\n    </tr>\n  </thead>\n  <tbody>\n    <tr>\n      <th>0</th>\n      <td>536365</td>\n      <td>85123A</td>\n      <td>WHITE HANGING HEART T-LIGHT HOLDER</td>\n      <td>6</td>\n      <td>01-12-2010 8.26</td>\n      <td>2.55</td>\n      <td>17850.0</td>\n      <td>United Kingdom</td>\n      <td>15.30</td>\n      <td>12.240</td>\n    </tr>\n    <tr>\n      <th>1</th>\n      <td>536365</td>\n      <td>71053</td>\n      <td>WHITE METAL LANTERN</td>\n      <td>6</td>\n      <td>01-12-2010 8.26</td>\n      <td>3.39</td>\n      <td>17850.0</td>\n      <td>United Kingdom</td>\n      <td>20.34</td>\n      <td>16.272</td>\n    </tr>\n    <tr>\n      <th>2</th>\n      <td>536365</td>\n      <td>84406B</td>\n      <td>CREAM CUPID HEARTS COAT HANGER</td>\n      <td>8</td>\n      <td>01-12-2010 8.26</td>\n      <td>2.75</td>\n      <td>17850.0</td>\n      <td>United Kingdom</td>\n      <td>22.00</td>\n      <td>17.600</td>\n    </tr>\n    <tr>\n      <th>3</th>\n      <td>536365</td>\n      <td>84029G</td>\n      <td>KNITTED UNION FLAG HOT WATER BOTTLE</td>\n      <td>6</td>\n      <td>01-12-2010 8.26</td>\n      <td>3.39</td>\n      <td>17850.0</td>\n      <td>United Kingdom</td>\n      <td>20.34</td>\n      <td>16.272</td>\n    </tr>\n    <tr>\n      <th>4</th>\n      <td>536365</td>\n      <td>84029E</td>\n      <td>RED WOOLLY HOTTIE WHITE HEART.</td>\n      <td>6</td>\n      <td>01-12-2010 8.26</td>\n      <td>3.39</td>\n      <td>17850.0</td>\n      <td>United Kingdom</td>\n      <td>20.34</td>\n      <td>16.272</td>\n    </tr>\n  </tbody>\n</table>\n</div>"
     },
     "execution_count": 3,
     "metadata": {},
     "output_type": "execute_result"
    }
   ],
   "source": [
    "df.head()"
   ],
   "metadata": {
    "collapsed": false,
    "pycharm": {
     "name": "#%%\n"
    }
   }
  },
  {
   "cell_type": "markdown",
   "source": [
    "## Sorting data by single column"
   ],
   "metadata": {
    "collapsed": false,
    "pycharm": {
     "name": "#%% md\n"
    }
   }
  },
  {
   "cell_type": "code",
   "execution_count": 12,
   "outputs": [
    {
     "data": {
      "text/plain": "       InvoiceNo  StockCode                     Description  Quantity  \\\n540421    581483      23843     PAPER CRAFT , LITTLE BIRDIE     80995   \n61619     541431      23166  MEDIUM CERAMIC TOP STORAGE JAR     74215   \n222680    556444      22502  PICNIC BASKET WICKER 60 PIECES        60   \n15017     537632  AMAZONFEE                      AMAZON FEE         1   \n299982   A563185          B                 Adjust bad debt         1   \n...          ...        ...                             ...       ...   \n43702    C540117  AMAZONFEE                      AMAZON FEE        -1   \n524602   C580605  AMAZONFEE                      AMAZON FEE        -1   \n222681   C556445          M                          Manual        -1   \n61624    C541433      23166  MEDIUM CERAMIC TOP STORAGE JAR    -74215   \n540422   C581484      23843     PAPER CRAFT , LITTLE BIRDIE    -80995   \n\n             InvoiceDate  UnitPrice  CustomerID         Country  \\\n540421   09-12-2011 9.15       2.08     16446.0  United Kingdom   \n61619   18-01-2011 10.01       1.04     12346.0  United Kingdom   \n222680  10-06-2011 15.28     649.50     15098.0  United Kingdom   \n15017   07-12-2010 15.08   13541.33         NaN  United Kingdom   \n299982  12-08-2011 14.50   11062.06         NaN  United Kingdom   \n...                  ...        ...         ...             ...   \n43702    05-01-2011 9.55   16888.02         NaN  United Kingdom   \n524602  05-12-2011 11.36   17836.46         NaN  United Kingdom   \n222681  10-06-2011 15.31   38970.00     15098.0  United Kingdom   \n61624   18-01-2011 10.17       1.04     12346.0  United Kingdom   \n540422   09-12-2011 9.27       2.08     16446.0  United Kingdom   \n\n        invoiceAmount         tax  \n540421      168469.60  134775.680  \n61619        77183.60   61746.880  \n222680       38970.00   31176.000  \n15017        13541.33   10833.064  \n299982       11062.06    8849.648  \n...               ...         ...  \n43702       -16888.02  -13510.416  \n524602      -17836.46  -14269.168  \n222681      -38970.00  -31176.000  \n61624       -77183.60  -61746.880  \n540422     -168469.60 -134775.680  \n\n[541909 rows x 10 columns]",
      "text/html": "<div>\n<style scoped>\n    .dataframe tbody tr th:only-of-type {\n        vertical-align: middle;\n    }\n\n    .dataframe tbody tr th {\n        vertical-align: top;\n    }\n\n    .dataframe thead th {\n        text-align: right;\n    }\n</style>\n<table border=\"1\" class=\"dataframe\">\n  <thead>\n    <tr style=\"text-align: right;\">\n      <th></th>\n      <th>InvoiceNo</th>\n      <th>StockCode</th>\n      <th>Description</th>\n      <th>Quantity</th>\n      <th>InvoiceDate</th>\n      <th>UnitPrice</th>\n      <th>CustomerID</th>\n      <th>Country</th>\n      <th>invoiceAmount</th>\n      <th>tax</th>\n    </tr>\n  </thead>\n  <tbody>\n    <tr>\n      <th>540421</th>\n      <td>581483</td>\n      <td>23843</td>\n      <td>PAPER CRAFT , LITTLE BIRDIE</td>\n      <td>80995</td>\n      <td>09-12-2011 9.15</td>\n      <td>2.08</td>\n      <td>16446.0</td>\n      <td>United Kingdom</td>\n      <td>168469.60</td>\n      <td>134775.680</td>\n    </tr>\n    <tr>\n      <th>61619</th>\n      <td>541431</td>\n      <td>23166</td>\n      <td>MEDIUM CERAMIC TOP STORAGE JAR</td>\n      <td>74215</td>\n      <td>18-01-2011 10.01</td>\n      <td>1.04</td>\n      <td>12346.0</td>\n      <td>United Kingdom</td>\n      <td>77183.60</td>\n      <td>61746.880</td>\n    </tr>\n    <tr>\n      <th>222680</th>\n      <td>556444</td>\n      <td>22502</td>\n      <td>PICNIC BASKET WICKER 60 PIECES</td>\n      <td>60</td>\n      <td>10-06-2011 15.28</td>\n      <td>649.50</td>\n      <td>15098.0</td>\n      <td>United Kingdom</td>\n      <td>38970.00</td>\n      <td>31176.000</td>\n    </tr>\n    <tr>\n      <th>15017</th>\n      <td>537632</td>\n      <td>AMAZONFEE</td>\n      <td>AMAZON FEE</td>\n      <td>1</td>\n      <td>07-12-2010 15.08</td>\n      <td>13541.33</td>\n      <td>NaN</td>\n      <td>United Kingdom</td>\n      <td>13541.33</td>\n      <td>10833.064</td>\n    </tr>\n    <tr>\n      <th>299982</th>\n      <td>A563185</td>\n      <td>B</td>\n      <td>Adjust bad debt</td>\n      <td>1</td>\n      <td>12-08-2011 14.50</td>\n      <td>11062.06</td>\n      <td>NaN</td>\n      <td>United Kingdom</td>\n      <td>11062.06</td>\n      <td>8849.648</td>\n    </tr>\n    <tr>\n      <th>...</th>\n      <td>...</td>\n      <td>...</td>\n      <td>...</td>\n      <td>...</td>\n      <td>...</td>\n      <td>...</td>\n      <td>...</td>\n      <td>...</td>\n      <td>...</td>\n      <td>...</td>\n    </tr>\n    <tr>\n      <th>43702</th>\n      <td>C540117</td>\n      <td>AMAZONFEE</td>\n      <td>AMAZON FEE</td>\n      <td>-1</td>\n      <td>05-01-2011 9.55</td>\n      <td>16888.02</td>\n      <td>NaN</td>\n      <td>United Kingdom</td>\n      <td>-16888.02</td>\n      <td>-13510.416</td>\n    </tr>\n    <tr>\n      <th>524602</th>\n      <td>C580605</td>\n      <td>AMAZONFEE</td>\n      <td>AMAZON FEE</td>\n      <td>-1</td>\n      <td>05-12-2011 11.36</td>\n      <td>17836.46</td>\n      <td>NaN</td>\n      <td>United Kingdom</td>\n      <td>-17836.46</td>\n      <td>-14269.168</td>\n    </tr>\n    <tr>\n      <th>222681</th>\n      <td>C556445</td>\n      <td>M</td>\n      <td>Manual</td>\n      <td>-1</td>\n      <td>10-06-2011 15.31</td>\n      <td>38970.00</td>\n      <td>15098.0</td>\n      <td>United Kingdom</td>\n      <td>-38970.00</td>\n      <td>-31176.000</td>\n    </tr>\n    <tr>\n      <th>61624</th>\n      <td>C541433</td>\n      <td>23166</td>\n      <td>MEDIUM CERAMIC TOP STORAGE JAR</td>\n      <td>-74215</td>\n      <td>18-01-2011 10.17</td>\n      <td>1.04</td>\n      <td>12346.0</td>\n      <td>United Kingdom</td>\n      <td>-77183.60</td>\n      <td>-61746.880</td>\n    </tr>\n    <tr>\n      <th>540422</th>\n      <td>C581484</td>\n      <td>23843</td>\n      <td>PAPER CRAFT , LITTLE BIRDIE</td>\n      <td>-80995</td>\n      <td>09-12-2011 9.27</td>\n      <td>2.08</td>\n      <td>16446.0</td>\n      <td>United Kingdom</td>\n      <td>-168469.60</td>\n      <td>-134775.680</td>\n    </tr>\n  </tbody>\n</table>\n<p>541909 rows × 10 columns</p>\n</div>"
     },
     "execution_count": 12,
     "metadata": {},
     "output_type": "execute_result"
    }
   ],
   "source": [
    "# sort df by invoiceAmount\n",
    "\n",
    "df.sort_values('invoiceAmount',ascending=False,axis=0)   # by default ascending=True\n",
    "\n",
    "# axis=0 means u move across rows so can perform operation on column, here sort\n",
    "# this will not reflect in original df, this is just an o/p of this method.\n",
    "# in case u do inplace=true, this statement will not give o/p here but reflect in original df when u print it.\n",
    "# Generally avoid inplace=true\n"
   ],
   "metadata": {
    "collapsed": false,
    "pycharm": {
     "name": "#%%\n"
    }
   }
  },
  {
   "cell_type": "markdown",
   "source": [
    "## Sorting data by multiple column - need to pass list for multiple col's\n",
    "remember default parameters for these sort command like ascending etc and to take care of whether to not use or use inplace command"
   ],
   "metadata": {
    "collapsed": false,
    "pycharm": {
     "name": "#%% md\n"
    }
   }
  },
  {
   "cell_type": "code",
   "execution_count": 21,
   "outputs": [
    {
     "data": {
      "text/plain": "       InvoiceNo StockCode                    Description  Quantity  \\\n321304    565145     22492        MINI PAINT SET VINTAGE       1152   \n468139    576394     23084             RABBIT NIGHT LIGHT       960   \n321303    565145     21915         RED  HARMONICA IN BOX        720   \n193922    553546     15036      ASSORTED COLOURS SILK FAN       600   \n45536     540267     22492        MINI PAINT SET VINTAGE        576   \n...          ...       ...                            ...       ...   \n323444    565303     21558  SKULL LUNCH BOX WITH CUTLERY          1   \n323447    565303     22196   SMALL HEART MEASURING SPOONS         1   \n323451    565303     23084             RABBIT NIGHT LIGHT         1   \n323452    565303     22549               PICTURE DOMINOES         1   \n323457    565303     23127      FELTCRAFT GIRL NICOLE KIT         1   \n\n             InvoiceDate  UnitPrice  CustomerID      Country  invoiceAmount  \\\n321304  01-09-2011 13.50       0.55     12415.0    Australia         633.60   \n468139  15-11-2011 10.32       1.79     12415.0    Australia        1718.40   \n321303  01-09-2011 13.50       1.06     12415.0    Australia         763.20   \n193922  17-05-2011 15.42       0.72     12415.0    Australia         432.00   \n45536   06-01-2011 11.12       0.55     12415.0    Australia         316.80   \n...                  ...        ...         ...          ...            ...   \n323444  02-09-2011 12.17       2.55         NaN  Unspecified           2.55   \n323447  02-09-2011 12.17       0.85         NaN  Unspecified           0.85   \n323451  02-09-2011 12.17       2.08         NaN  Unspecified           2.08   \n323452  02-09-2011 12.17       1.45         NaN  Unspecified           1.45   \n323457  02-09-2011 12.17       4.95         NaN  Unspecified           4.95   \n\n             tax  \n321304   506.880  \n468139  1374.720  \n321303   610.560  \n193922   345.600  \n45536    253.440  \n...          ...  \n323444     2.040  \n323447     0.680  \n323451     1.664  \n323452     1.160  \n323457     3.960  \n\n[541909 rows x 10 columns]",
      "text/html": "<div>\n<style scoped>\n    .dataframe tbody tr th:only-of-type {\n        vertical-align: middle;\n    }\n\n    .dataframe tbody tr th {\n        vertical-align: top;\n    }\n\n    .dataframe thead th {\n        text-align: right;\n    }\n</style>\n<table border=\"1\" class=\"dataframe\">\n  <thead>\n    <tr style=\"text-align: right;\">\n      <th></th>\n      <th>InvoiceNo</th>\n      <th>StockCode</th>\n      <th>Description</th>\n      <th>Quantity</th>\n      <th>InvoiceDate</th>\n      <th>UnitPrice</th>\n      <th>CustomerID</th>\n      <th>Country</th>\n      <th>invoiceAmount</th>\n      <th>tax</th>\n    </tr>\n  </thead>\n  <tbody>\n    <tr>\n      <th>321304</th>\n      <td>565145</td>\n      <td>22492</td>\n      <td>MINI PAINT SET VINTAGE</td>\n      <td>1152</td>\n      <td>01-09-2011 13.50</td>\n      <td>0.55</td>\n      <td>12415.0</td>\n      <td>Australia</td>\n      <td>633.60</td>\n      <td>506.880</td>\n    </tr>\n    <tr>\n      <th>468139</th>\n      <td>576394</td>\n      <td>23084</td>\n      <td>RABBIT NIGHT LIGHT</td>\n      <td>960</td>\n      <td>15-11-2011 10.32</td>\n      <td>1.79</td>\n      <td>12415.0</td>\n      <td>Australia</td>\n      <td>1718.40</td>\n      <td>1374.720</td>\n    </tr>\n    <tr>\n      <th>321303</th>\n      <td>565145</td>\n      <td>21915</td>\n      <td>RED  HARMONICA IN BOX</td>\n      <td>720</td>\n      <td>01-09-2011 13.50</td>\n      <td>1.06</td>\n      <td>12415.0</td>\n      <td>Australia</td>\n      <td>763.20</td>\n      <td>610.560</td>\n    </tr>\n    <tr>\n      <th>193922</th>\n      <td>553546</td>\n      <td>15036</td>\n      <td>ASSORTED COLOURS SILK FAN</td>\n      <td>600</td>\n      <td>17-05-2011 15.42</td>\n      <td>0.72</td>\n      <td>12415.0</td>\n      <td>Australia</td>\n      <td>432.00</td>\n      <td>345.600</td>\n    </tr>\n    <tr>\n      <th>45536</th>\n      <td>540267</td>\n      <td>22492</td>\n      <td>MINI PAINT SET VINTAGE</td>\n      <td>576</td>\n      <td>06-01-2011 11.12</td>\n      <td>0.55</td>\n      <td>12415.0</td>\n      <td>Australia</td>\n      <td>316.80</td>\n      <td>253.440</td>\n    </tr>\n    <tr>\n      <th>...</th>\n      <td>...</td>\n      <td>...</td>\n      <td>...</td>\n      <td>...</td>\n      <td>...</td>\n      <td>...</td>\n      <td>...</td>\n      <td>...</td>\n      <td>...</td>\n      <td>...</td>\n    </tr>\n    <tr>\n      <th>323444</th>\n      <td>565303</td>\n      <td>21558</td>\n      <td>SKULL LUNCH BOX WITH CUTLERY</td>\n      <td>1</td>\n      <td>02-09-2011 12.17</td>\n      <td>2.55</td>\n      <td>NaN</td>\n      <td>Unspecified</td>\n      <td>2.55</td>\n      <td>2.040</td>\n    </tr>\n    <tr>\n      <th>323447</th>\n      <td>565303</td>\n      <td>22196</td>\n      <td>SMALL HEART MEASURING SPOONS</td>\n      <td>1</td>\n      <td>02-09-2011 12.17</td>\n      <td>0.85</td>\n      <td>NaN</td>\n      <td>Unspecified</td>\n      <td>0.85</td>\n      <td>0.680</td>\n    </tr>\n    <tr>\n      <th>323451</th>\n      <td>565303</td>\n      <td>23084</td>\n      <td>RABBIT NIGHT LIGHT</td>\n      <td>1</td>\n      <td>02-09-2011 12.17</td>\n      <td>2.08</td>\n      <td>NaN</td>\n      <td>Unspecified</td>\n      <td>2.08</td>\n      <td>1.664</td>\n    </tr>\n    <tr>\n      <th>323452</th>\n      <td>565303</td>\n      <td>22549</td>\n      <td>PICTURE DOMINOES</td>\n      <td>1</td>\n      <td>02-09-2011 12.17</td>\n      <td>1.45</td>\n      <td>NaN</td>\n      <td>Unspecified</td>\n      <td>1.45</td>\n      <td>1.160</td>\n    </tr>\n    <tr>\n      <th>323457</th>\n      <td>565303</td>\n      <td>23127</td>\n      <td>FELTCRAFT GIRL NICOLE KIT</td>\n      <td>1</td>\n      <td>02-09-2011 12.17</td>\n      <td>4.95</td>\n      <td>NaN</td>\n      <td>Unspecified</td>\n      <td>4.95</td>\n      <td>3.960</td>\n    </tr>\n  </tbody>\n</table>\n<p>541909 rows × 10 columns</p>\n</div>"
     },
     "execution_count": 21,
     "metadata": {},
     "output_type": "execute_result"
    }
   ],
   "source": [
    "cols = ['Country','Quantity']  # arranging country in asc and Quantity in desc order\n",
    "df.sort_values(cols,ascending=[True, False])"
   ],
   "metadata": {
    "collapsed": false,
    "pycharm": {
     "name": "#%%\n"
    }
   }
  },
  {
   "cell_type": "code",
   "execution_count": 19,
   "outputs": [
    {
     "data": {
      "text/plain": "       InvoiceNo StockCode                          Description  Quantity  \\\n0         536365    85123A   WHITE HANGING HEART T-LIGHT HOLDER         6   \n1         536365     71053                  WHITE METAL LANTERN         6   \n2         536365    84406B       CREAM CUPID HEARTS COAT HANGER         8   \n3         536365    84029G  KNITTED UNION FLAG HOT WATER BOTTLE         6   \n4         536365    84029E       RED WOOLLY HOTTIE WHITE HEART.         6   \n...          ...       ...                                  ...       ...   \n541904    581587     22613          PACK OF 20 SPACEBOY NAPKINS        12   \n541905    581587     22899         CHILDREN'S APRON DOLLY GIRL          6   \n541906    581587     23254        CHILDRENS CUTLERY DOLLY GIRL          4   \n541907    581587     23255      CHILDRENS CUTLERY CIRCUS PARADE         4   \n541908    581587     22138        BAKING SET 9 PIECE RETROSPOT          3   \n\n             InvoiceDate  UnitPrice  CustomerID         Country  \\\n0        01-12-2010 8.26       2.55     17850.0  United Kingdom   \n1        01-12-2010 8.26       3.39     17850.0  United Kingdom   \n2        01-12-2010 8.26       2.75     17850.0  United Kingdom   \n3        01-12-2010 8.26       3.39     17850.0  United Kingdom   \n4        01-12-2010 8.26       3.39     17850.0  United Kingdom   \n...                  ...        ...         ...             ...   \n541904  09-12-2011 12.50       0.85     12680.0          France   \n541905  09-12-2011 12.50       2.10     12680.0          France   \n541906  09-12-2011 12.50       4.15     12680.0          France   \n541907  09-12-2011 12.50       4.15     12680.0          France   \n541908  09-12-2011 12.50       4.95     12680.0          France   \n\n        invoiceAmount     tax  \n0               15.30  12.240  \n1               20.34  16.272  \n2               22.00  17.600  \n3               20.34  16.272  \n4               20.34  16.272  \n...               ...     ...  \n541904          10.20   8.160  \n541905          12.60  10.080  \n541906          16.60  13.280  \n541907          16.60  13.280  \n541908          14.85  11.880  \n\n[541909 rows x 10 columns]",
      "text/html": "<div>\n<style scoped>\n    .dataframe tbody tr th:only-of-type {\n        vertical-align: middle;\n    }\n\n    .dataframe tbody tr th {\n        vertical-align: top;\n    }\n\n    .dataframe thead th {\n        text-align: right;\n    }\n</style>\n<table border=\"1\" class=\"dataframe\">\n  <thead>\n    <tr style=\"text-align: right;\">\n      <th></th>\n      <th>InvoiceNo</th>\n      <th>StockCode</th>\n      <th>Description</th>\n      <th>Quantity</th>\n      <th>InvoiceDate</th>\n      <th>UnitPrice</th>\n      <th>CustomerID</th>\n      <th>Country</th>\n      <th>invoiceAmount</th>\n      <th>tax</th>\n    </tr>\n  </thead>\n  <tbody>\n    <tr>\n      <th>0</th>\n      <td>536365</td>\n      <td>85123A</td>\n      <td>WHITE HANGING HEART T-LIGHT HOLDER</td>\n      <td>6</td>\n      <td>01-12-2010 8.26</td>\n      <td>2.55</td>\n      <td>17850.0</td>\n      <td>United Kingdom</td>\n      <td>15.30</td>\n      <td>12.240</td>\n    </tr>\n    <tr>\n      <th>1</th>\n      <td>536365</td>\n      <td>71053</td>\n      <td>WHITE METAL LANTERN</td>\n      <td>6</td>\n      <td>01-12-2010 8.26</td>\n      <td>3.39</td>\n      <td>17850.0</td>\n      <td>United Kingdom</td>\n      <td>20.34</td>\n      <td>16.272</td>\n    </tr>\n    <tr>\n      <th>2</th>\n      <td>536365</td>\n      <td>84406B</td>\n      <td>CREAM CUPID HEARTS COAT HANGER</td>\n      <td>8</td>\n      <td>01-12-2010 8.26</td>\n      <td>2.75</td>\n      <td>17850.0</td>\n      <td>United Kingdom</td>\n      <td>22.00</td>\n      <td>17.600</td>\n    </tr>\n    <tr>\n      <th>3</th>\n      <td>536365</td>\n      <td>84029G</td>\n      <td>KNITTED UNION FLAG HOT WATER BOTTLE</td>\n      <td>6</td>\n      <td>01-12-2010 8.26</td>\n      <td>3.39</td>\n      <td>17850.0</td>\n      <td>United Kingdom</td>\n      <td>20.34</td>\n      <td>16.272</td>\n    </tr>\n    <tr>\n      <th>4</th>\n      <td>536365</td>\n      <td>84029E</td>\n      <td>RED WOOLLY HOTTIE WHITE HEART.</td>\n      <td>6</td>\n      <td>01-12-2010 8.26</td>\n      <td>3.39</td>\n      <td>17850.0</td>\n      <td>United Kingdom</td>\n      <td>20.34</td>\n      <td>16.272</td>\n    </tr>\n    <tr>\n      <th>...</th>\n      <td>...</td>\n      <td>...</td>\n      <td>...</td>\n      <td>...</td>\n      <td>...</td>\n      <td>...</td>\n      <td>...</td>\n      <td>...</td>\n      <td>...</td>\n      <td>...</td>\n    </tr>\n    <tr>\n      <th>541904</th>\n      <td>581587</td>\n      <td>22613</td>\n      <td>PACK OF 20 SPACEBOY NAPKINS</td>\n      <td>12</td>\n      <td>09-12-2011 12.50</td>\n      <td>0.85</td>\n      <td>12680.0</td>\n      <td>France</td>\n      <td>10.20</td>\n      <td>8.160</td>\n    </tr>\n    <tr>\n      <th>541905</th>\n      <td>581587</td>\n      <td>22899</td>\n      <td>CHILDREN'S APRON DOLLY GIRL</td>\n      <td>6</td>\n      <td>09-12-2011 12.50</td>\n      <td>2.10</td>\n      <td>12680.0</td>\n      <td>France</td>\n      <td>12.60</td>\n      <td>10.080</td>\n    </tr>\n    <tr>\n      <th>541906</th>\n      <td>581587</td>\n      <td>23254</td>\n      <td>CHILDRENS CUTLERY DOLLY GIRL</td>\n      <td>4</td>\n      <td>09-12-2011 12.50</td>\n      <td>4.15</td>\n      <td>12680.0</td>\n      <td>France</td>\n      <td>16.60</td>\n      <td>13.280</td>\n    </tr>\n    <tr>\n      <th>541907</th>\n      <td>581587</td>\n      <td>23255</td>\n      <td>CHILDRENS CUTLERY CIRCUS PARADE</td>\n      <td>4</td>\n      <td>09-12-2011 12.50</td>\n      <td>4.15</td>\n      <td>12680.0</td>\n      <td>France</td>\n      <td>16.60</td>\n      <td>13.280</td>\n    </tr>\n    <tr>\n      <th>541908</th>\n      <td>581587</td>\n      <td>22138</td>\n      <td>BAKING SET 9 PIECE RETROSPOT</td>\n      <td>3</td>\n      <td>09-12-2011 12.50</td>\n      <td>4.95</td>\n      <td>12680.0</td>\n      <td>France</td>\n      <td>14.85</td>\n      <td>11.880</td>\n    </tr>\n  </tbody>\n</table>\n<p>541909 rows × 10 columns</p>\n</div>"
     },
     "execution_count": 19,
     "metadata": {},
     "output_type": "execute_result"
    }
   ],
   "source": [
    "df.sort_index()"
   ],
   "metadata": {
    "collapsed": false,
    "pycharm": {
     "name": "#%%\n"
    }
   }
  },
  {
   "cell_type": "markdown",
   "source": [
    "## 2 major sort functions\n",
    "sort_values() : You use this to sort the Pandas DataFrame by one or more columns.<br>\n",
    "sort_index() : You use this to sort the Pandas DataFrame by the row index"
   ],
   "metadata": {
    "collapsed": false,
    "pycharm": {
     "name": "#%% md\n"
    }
   }
  },
  {
   "cell_type": "code",
   "execution_count": null,
   "outputs": [],
   "source": [],
   "metadata": {
    "collapsed": false,
    "pycharm": {
     "name": "#%%\n"
    }
   }
  }
 ],
 "metadata": {
  "kernelspec": {
   "display_name": "Python 3",
   "language": "python",
   "name": "python3"
  },
  "language_info": {
   "codemirror_mode": {
    "name": "ipython",
    "version": 2
   },
   "file_extension": ".py",
   "mimetype": "text/x-python",
   "name": "python",
   "nbconvert_exporter": "python",
   "pygments_lexer": "ipython2",
   "version": "2.7.6"
  }
 },
 "nbformat": 4,
 "nbformat_minor": 0
}
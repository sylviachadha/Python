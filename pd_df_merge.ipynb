{
 "cells": [
  {
   "cell_type": "markdown",
   "metadata": {
    "collapsed": true,
    "pycharm": {
     "name": "#%% md\n"
    }
   },
   "source": [
    "## Merging Data in Pandas\n",
    "\n",
    "Generally data will be scattered. It will be into multiple files or multiple tables & u may need to merge this into a single df. e.g might have 1 table for 1 date & need to analyse a month's data so need to merge 30 files cz u need all data together cz analysis is for a month."
   ]
  },
  {
   "cell_type": "markdown",
   "source": [
    "## Concatenate vs Merge\n",
    "Concatenate, when 2 df everything same i.e. all columns etc and u just need to add data.\n",
    "Merge, when we have 2 different dataframes & we might be interested in their elements based on column col's/ indices"
   ],
   "metadata": {
    "collapsed": false,
    "pycharm": {
     "name": "#%% md\n"
    }
   }
  },
  {
   "cell_type": "markdown",
   "source": [
    "### 1. Concatenate"
   ],
   "metadata": {
    "collapsed": false,
    "pycharm": {
     "name": "#%% md\n"
    }
   }
  },
  {
   "cell_type": "code",
   "execution_count": 36,
   "outputs": [
    {
     "data": {
      "text/plain": "   product_code product_desc\n0           101       laptop\n1           102           pc\n2           103         ipad\n3           104        watch",
      "text/html": "<div>\n<style scoped>\n    .dataframe tbody tr th:only-of-type {\n        vertical-align: middle;\n    }\n\n    .dataframe tbody tr th {\n        vertical-align: top;\n    }\n\n    .dataframe thead th {\n        text-align: right;\n    }\n</style>\n<table border=\"1\" class=\"dataframe\">\n  <thead>\n    <tr style=\"text-align: right;\">\n      <th></th>\n      <th>product_code</th>\n      <th>product_desc</th>\n    </tr>\n  </thead>\n  <tbody>\n    <tr>\n      <th>0</th>\n      <td>101</td>\n      <td>laptop</td>\n    </tr>\n    <tr>\n      <th>1</th>\n      <td>102</td>\n      <td>pc</td>\n    </tr>\n    <tr>\n      <th>2</th>\n      <td>103</td>\n      <td>ipad</td>\n    </tr>\n    <tr>\n      <th>3</th>\n      <td>104</td>\n      <td>watch</td>\n    </tr>\n  </tbody>\n</table>\n</div>"
     },
     "execution_count": 36,
     "metadata": {},
     "output_type": "execute_result"
    }
   ],
   "source": [
    "# Generally dict we have {keya:valuea, keyb:valueb} but you can also have valuea as\n",
    "# list itself instead of single value.\n",
    "\n",
    "import pandas as pd\n",
    "df_product = pd.DataFrame({'product_code':[101,102,103,104],\n",
    "                           'product_desc':['laptop','pc','ipad','watch']})\n",
    "df_product"
   ],
   "metadata": {
    "collapsed": false,
    "pycharm": {
     "name": "#%%\n"
    }
   }
  },
  {
   "cell_type": "code",
   "execution_count": 37,
   "outputs": [],
   "source": [
    "df_product1 = pd.DataFrame({'product_code':[105,106,107],\n",
    "                           'product_desc':['speaker','ups','camera']})"
   ],
   "metadata": {
    "collapsed": false,
    "pycharm": {
     "name": "#%%\n"
    }
   }
  },
  {
   "cell_type": "code",
   "execution_count": 38,
   "outputs": [
    {
     "data": {
      "text/plain": "   product_code product_desc\n0           105      speaker\n1           106          ups\n2           107       camera",
      "text/html": "<div>\n<style scoped>\n    .dataframe tbody tr th:only-of-type {\n        vertical-align: middle;\n    }\n\n    .dataframe tbody tr th {\n        vertical-align: top;\n    }\n\n    .dataframe thead th {\n        text-align: right;\n    }\n</style>\n<table border=\"1\" class=\"dataframe\">\n  <thead>\n    <tr style=\"text-align: right;\">\n      <th></th>\n      <th>product_code</th>\n      <th>product_desc</th>\n    </tr>\n  </thead>\n  <tbody>\n    <tr>\n      <th>0</th>\n      <td>105</td>\n      <td>speaker</td>\n    </tr>\n    <tr>\n      <th>1</th>\n      <td>106</td>\n      <td>ups</td>\n    </tr>\n    <tr>\n      <th>2</th>\n      <td>107</td>\n      <td>camera</td>\n    </tr>\n  </tbody>\n</table>\n</div>"
     },
     "execution_count": 38,
     "metadata": {},
     "output_type": "execute_result"
    }
   ],
   "source": [
    "df_product1"
   ],
   "metadata": {
    "collapsed": false,
    "pycharm": {
     "name": "#%%\n"
    }
   }
  },
  {
   "cell_type": "code",
   "execution_count": 39,
   "outputs": [],
   "source": [
    "# need to create a master list of all these products\n",
    "df_master = pd.concat([df_product,df_product1])"
   ],
   "metadata": {
    "collapsed": false,
    "pycharm": {
     "name": "#%%\n"
    }
   }
  },
  {
   "cell_type": "code",
   "execution_count": 40,
   "outputs": [
    {
     "data": {
      "text/plain": "   product_code product_desc\n0           101       laptop\n1           102           pc\n2           103         ipad\n3           104        watch\n0           105      speaker\n1           106          ups\n2           107       camera",
      "text/html": "<div>\n<style scoped>\n    .dataframe tbody tr th:only-of-type {\n        vertical-align: middle;\n    }\n\n    .dataframe tbody tr th {\n        vertical-align: top;\n    }\n\n    .dataframe thead th {\n        text-align: right;\n    }\n</style>\n<table border=\"1\" class=\"dataframe\">\n  <thead>\n    <tr style=\"text-align: right;\">\n      <th></th>\n      <th>product_code</th>\n      <th>product_desc</th>\n    </tr>\n  </thead>\n  <tbody>\n    <tr>\n      <th>0</th>\n      <td>101</td>\n      <td>laptop</td>\n    </tr>\n    <tr>\n      <th>1</th>\n      <td>102</td>\n      <td>pc</td>\n    </tr>\n    <tr>\n      <th>2</th>\n      <td>103</td>\n      <td>ipad</td>\n    </tr>\n    <tr>\n      <th>3</th>\n      <td>104</td>\n      <td>watch</td>\n    </tr>\n    <tr>\n      <th>0</th>\n      <td>105</td>\n      <td>speaker</td>\n    </tr>\n    <tr>\n      <th>1</th>\n      <td>106</td>\n      <td>ups</td>\n    </tr>\n    <tr>\n      <th>2</th>\n      <td>107</td>\n      <td>camera</td>\n    </tr>\n  </tbody>\n</table>\n</div>"
     },
     "execution_count": 40,
     "metadata": {},
     "output_type": "execute_result"
    }
   ],
   "source": [
    "df_master"
   ],
   "metadata": {
    "collapsed": false,
    "pycharm": {
     "name": "#%%\n"
    }
   }
  },
  {
   "cell_type": "code",
   "execution_count": 41,
   "outputs": [
    {
     "data": {
      "text/plain": "   product_code product_desc\n0           101       laptop\n1           102           pc\n2           103         ipad\n3           104        watch\n4           105      speaker\n5           106          ups\n6           107       camera",
      "text/html": "<div>\n<style scoped>\n    .dataframe tbody tr th:only-of-type {\n        vertical-align: middle;\n    }\n\n    .dataframe tbody tr th {\n        vertical-align: top;\n    }\n\n    .dataframe thead th {\n        text-align: right;\n    }\n</style>\n<table border=\"1\" class=\"dataframe\">\n  <thead>\n    <tr style=\"text-align: right;\">\n      <th></th>\n      <th>product_code</th>\n      <th>product_desc</th>\n    </tr>\n  </thead>\n  <tbody>\n    <tr>\n      <th>0</th>\n      <td>101</td>\n      <td>laptop</td>\n    </tr>\n    <tr>\n      <th>1</th>\n      <td>102</td>\n      <td>pc</td>\n    </tr>\n    <tr>\n      <th>2</th>\n      <td>103</td>\n      <td>ipad</td>\n    </tr>\n    <tr>\n      <th>3</th>\n      <td>104</td>\n      <td>watch</td>\n    </tr>\n    <tr>\n      <th>4</th>\n      <td>105</td>\n      <td>speaker</td>\n    </tr>\n    <tr>\n      <th>5</th>\n      <td>106</td>\n      <td>ups</td>\n    </tr>\n    <tr>\n      <th>6</th>\n      <td>107</td>\n      <td>camera</td>\n    </tr>\n  </tbody>\n</table>\n</div>"
     },
     "execution_count": 41,
     "metadata": {},
     "output_type": "execute_result"
    }
   ],
   "source": [
    "# In concatenation, index not proper for concatenated dataset above.\n",
    "# use ignore_index=True. it will ignore index from original df & apply its own index.\n",
    "df_master1 = pd.concat([df_product,df_product1],ignore_index=True)\n",
    "df_master1"
   ],
   "metadata": {
    "collapsed": false,
    "pycharm": {
     "name": "#%%\n"
    }
   }
  },
  {
   "cell_type": "markdown",
   "source": [
    "### 2. Merging\n",
    "To combine data on common columns or indices\n",
    "\n",
    "1. Inner Join - gives u entries which are common b/w 2 dataframes.\n",
    "2. Left Outer Join - common entries + left df entries\n",
    "3. Right Outer Join - common entries + right df entries\n",
    "4. Full Outer Join - all entries from both dataframe"
   ],
   "metadata": {
    "collapsed": false,
    "pycharm": {
     "name": "#%% md\n"
    }
   }
  },
  {
   "cell_type": "code",
   "execution_count": 42,
   "outputs": [
    {
     "data": {
      "text/plain": "   product_code  invoice_amount\n0           101             600\n1           101             900\n2           104             899\n3           107             700",
      "text/html": "<div>\n<style scoped>\n    .dataframe tbody tr th:only-of-type {\n        vertical-align: middle;\n    }\n\n    .dataframe tbody tr th {\n        vertical-align: top;\n    }\n\n    .dataframe thead th {\n        text-align: right;\n    }\n</style>\n<table border=\"1\" class=\"dataframe\">\n  <thead>\n    <tr style=\"text-align: right;\">\n      <th></th>\n      <th>product_code</th>\n      <th>invoice_amount</th>\n    </tr>\n  </thead>\n  <tbody>\n    <tr>\n      <th>0</th>\n      <td>101</td>\n      <td>600</td>\n    </tr>\n    <tr>\n      <th>1</th>\n      <td>101</td>\n      <td>900</td>\n    </tr>\n    <tr>\n      <th>2</th>\n      <td>104</td>\n      <td>899</td>\n    </tr>\n    <tr>\n      <th>3</th>\n      <td>107</td>\n      <td>700</td>\n    </tr>\n  </tbody>\n</table>\n</div>"
     },
     "execution_count": 42,
     "metadata": {},
     "output_type": "execute_result"
    }
   ],
   "source": [
    "df_invoice = pd.DataFrame({'product_code':[101,101,104,107],\n",
    "                           'invoice_amount':[600,900,899,700]})\n",
    "df_invoice"
   ],
   "metadata": {
    "collapsed": false,
    "pycharm": {
     "name": "#%%\n"
    }
   }
  },
  {
   "cell_type": "markdown",
   "source": [
    "### Inner join"
   ],
   "metadata": {
    "collapsed": false,
    "pycharm": {
     "name": "#%% md\n"
    }
   }
  },
  {
   "cell_type": "code",
   "execution_count": 43,
   "outputs": [
    {
     "data": {
      "text/plain": "   product_code  invoice_amount product_desc\n0           101             600       laptop\n1           101             900       laptop\n2           104             899        watch",
      "text/html": "<div>\n<style scoped>\n    .dataframe tbody tr th:only-of-type {\n        vertical-align: middle;\n    }\n\n    .dataframe tbody tr th {\n        vertical-align: top;\n    }\n\n    .dataframe thead th {\n        text-align: right;\n    }\n</style>\n<table border=\"1\" class=\"dataframe\">\n  <thead>\n    <tr style=\"text-align: right;\">\n      <th></th>\n      <th>product_code</th>\n      <th>invoice_amount</th>\n      <th>product_desc</th>\n    </tr>\n  </thead>\n  <tbody>\n    <tr>\n      <th>0</th>\n      <td>101</td>\n      <td>600</td>\n      <td>laptop</td>\n    </tr>\n    <tr>\n      <th>1</th>\n      <td>101</td>\n      <td>900</td>\n      <td>laptop</td>\n    </tr>\n    <tr>\n      <th>2</th>\n      <td>104</td>\n      <td>899</td>\n      <td>watch</td>\n    </tr>\n  </tbody>\n</table>\n</div>"
     },
     "execution_count": 43,
     "metadata": {},
     "output_type": "execute_result"
    }
   ],
   "source": [
    "# Now we also want product description corresponding to our products.\n",
    "# We can take up description from another df which is product_code.\n",
    "# left_on and right_on parameters can be used if col name is different in two dataframes (column on which u need to merge) although content is same.\n",
    "\n",
    "df_invoice.merge(right=df_product,how='inner',on='product_code')\n",
    "# df which u write with merge() command is taken left df by default.\n",
    "# then in (right=) u need to specify 2nd dataframe with which u need to merge."
   ],
   "metadata": {
    "collapsed": false,
    "pycharm": {
     "name": "#%%\n"
    }
   }
  },
  {
   "cell_type": "markdown",
   "source": [
    "Note- The 107 product_code entry is present in df_invoice but not present in resultant df above after merge because we have used inner join.(only product codes common entries in both tables will be displayed)"
   ],
   "metadata": {
    "collapsed": false,
    "pycharm": {
     "name": "#%% md\n"
    }
   }
  },
  {
   "cell_type": "markdown",
   "source": [
    "### Left Join"
   ],
   "metadata": {
    "collapsed": false,
    "pycharm": {
     "name": "#%% md\n"
    }
   }
  },
  {
   "cell_type": "code",
   "execution_count": 44,
   "outputs": [
    {
     "data": {
      "text/plain": "   product_code  invoice_amount product_desc\n0           101             600       laptop\n1           101             900       laptop\n2           104             899        watch\n3           107             700          NaN",
      "text/html": "<div>\n<style scoped>\n    .dataframe tbody tr th:only-of-type {\n        vertical-align: middle;\n    }\n\n    .dataframe tbody tr th {\n        vertical-align: top;\n    }\n\n    .dataframe thead th {\n        text-align: right;\n    }\n</style>\n<table border=\"1\" class=\"dataframe\">\n  <thead>\n    <tr style=\"text-align: right;\">\n      <th></th>\n      <th>product_code</th>\n      <th>invoice_amount</th>\n      <th>product_desc</th>\n    </tr>\n  </thead>\n  <tbody>\n    <tr>\n      <th>0</th>\n      <td>101</td>\n      <td>600</td>\n      <td>laptop</td>\n    </tr>\n    <tr>\n      <th>1</th>\n      <td>101</td>\n      <td>900</td>\n      <td>laptop</td>\n    </tr>\n    <tr>\n      <th>2</th>\n      <td>104</td>\n      <td>899</td>\n      <td>watch</td>\n    </tr>\n    <tr>\n      <th>3</th>\n      <td>107</td>\n      <td>700</td>\n      <td>NaN</td>\n    </tr>\n  </tbody>\n</table>\n</div>"
     },
     "execution_count": 44,
     "metadata": {},
     "output_type": "execute_result"
    }
   ],
   "source": [
    "df_invoice.merge(right=df_product,how='left',on='product_code')\n",
    "# common + left table entries"
   ],
   "metadata": {
    "collapsed": false,
    "pycharm": {
     "name": "#%%\n"
    }
   }
  },
  {
   "cell_type": "markdown",
   "source": [
    "### Right Join"
   ],
   "metadata": {
    "collapsed": false,
    "pycharm": {
     "name": "#%% md\n"
    }
   }
  },
  {
   "cell_type": "code",
   "execution_count": 46,
   "outputs": [
    {
     "data": {
      "text/plain": "   product_code  invoice_amount product_desc\n0           101           600.0       laptop\n1           101           900.0       laptop\n2           102             NaN           pc\n3           103             NaN         ipad\n4           104           899.0        watch",
      "text/html": "<div>\n<style scoped>\n    .dataframe tbody tr th:only-of-type {\n        vertical-align: middle;\n    }\n\n    .dataframe tbody tr th {\n        vertical-align: top;\n    }\n\n    .dataframe thead th {\n        text-align: right;\n    }\n</style>\n<table border=\"1\" class=\"dataframe\">\n  <thead>\n    <tr style=\"text-align: right;\">\n      <th></th>\n      <th>product_code</th>\n      <th>invoice_amount</th>\n      <th>product_desc</th>\n    </tr>\n  </thead>\n  <tbody>\n    <tr>\n      <th>0</th>\n      <td>101</td>\n      <td>600.0</td>\n      <td>laptop</td>\n    </tr>\n    <tr>\n      <th>1</th>\n      <td>101</td>\n      <td>900.0</td>\n      <td>laptop</td>\n    </tr>\n    <tr>\n      <th>2</th>\n      <td>102</td>\n      <td>NaN</td>\n      <td>pc</td>\n    </tr>\n    <tr>\n      <th>3</th>\n      <td>103</td>\n      <td>NaN</td>\n      <td>ipad</td>\n    </tr>\n    <tr>\n      <th>4</th>\n      <td>104</td>\n      <td>899.0</td>\n      <td>watch</td>\n    </tr>\n  </tbody>\n</table>\n</div>"
     },
     "execution_count": 46,
     "metadata": {},
     "output_type": "execute_result"
    }
   ],
   "source": [
    "df_invoice.merge(right=df_product,how='right',on='product_code')\n",
    "# common + right table entries"
   ],
   "metadata": {
    "collapsed": false,
    "pycharm": {
     "name": "#%%\n"
    }
   }
  },
  {
   "cell_type": "markdown",
   "source": [
    "### Full Outer Join"
   ],
   "metadata": {
    "collapsed": false,
    "pycharm": {
     "name": "#%% md\n"
    }
   }
  },
  {
   "cell_type": "code",
   "execution_count": 48,
   "outputs": [
    {
     "data": {
      "text/plain": "   product_code  invoice_amount product_desc\n0           101           600.0       laptop\n1           101           900.0       laptop\n2           104           899.0        watch\n3           107           700.0          NaN\n4           102             NaN           pc\n5           103             NaN         ipad",
      "text/html": "<div>\n<style scoped>\n    .dataframe tbody tr th:only-of-type {\n        vertical-align: middle;\n    }\n\n    .dataframe tbody tr th {\n        vertical-align: top;\n    }\n\n    .dataframe thead th {\n        text-align: right;\n    }\n</style>\n<table border=\"1\" class=\"dataframe\">\n  <thead>\n    <tr style=\"text-align: right;\">\n      <th></th>\n      <th>product_code</th>\n      <th>invoice_amount</th>\n      <th>product_desc</th>\n    </tr>\n  </thead>\n  <tbody>\n    <tr>\n      <th>0</th>\n      <td>101</td>\n      <td>600.0</td>\n      <td>laptop</td>\n    </tr>\n    <tr>\n      <th>1</th>\n      <td>101</td>\n      <td>900.0</td>\n      <td>laptop</td>\n    </tr>\n    <tr>\n      <th>2</th>\n      <td>104</td>\n      <td>899.0</td>\n      <td>watch</td>\n    </tr>\n    <tr>\n      <th>3</th>\n      <td>107</td>\n      <td>700.0</td>\n      <td>NaN</td>\n    </tr>\n    <tr>\n      <th>4</th>\n      <td>102</td>\n      <td>NaN</td>\n      <td>pc</td>\n    </tr>\n    <tr>\n      <th>5</th>\n      <td>103</td>\n      <td>NaN</td>\n      <td>ipad</td>\n    </tr>\n  </tbody>\n</table>\n</div>"
     },
     "execution_count": 48,
     "metadata": {},
     "output_type": "execute_result"
    }
   ],
   "source": [
    "df_invoice.merge(right=df_product,how='outer',on='product_code')"
   ],
   "metadata": {
    "collapsed": false,
    "pycharm": {
     "name": "#%%\n"
    }
   }
  },
  {
   "cell_type": "code",
   "execution_count": null,
   "outputs": [],
   "source": [],
   "metadata": {
    "collapsed": false,
    "pycharm": {
     "name": "#%%\n"
    }
   }
  }
 ],
 "metadata": {
  "kernelspec": {
   "display_name": "Python 3",
   "language": "python",
   "name": "python3"
  },
  "language_info": {
   "codemirror_mode": {
    "name": "ipython",
    "version": 2
   },
   "file_extension": ".py",
   "mimetype": "text/x-python",
   "name": "python",
   "nbconvert_exporter": "python",
   "pygments_lexer": "ipython2",
   "version": "2.7.6"
  }
 },
 "nbformat": 4,
 "nbformat_minor": 0
}
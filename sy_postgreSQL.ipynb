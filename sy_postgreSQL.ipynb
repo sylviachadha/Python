{
 "cells": [
  {
   "cell_type": "markdown",
   "id": "d3b8a966",
   "metadata": {},
   "source": [
    "# PostgreSQL with Python and psycopg2"
   ]
  },
  {
   "cell_type": "code",
   "execution_count": 1,
   "id": "ca9c3892",
   "metadata": {},
   "outputs": [],
   "source": [
    "# pip install psycopg2-binary"
   ]
  },
  {
   "cell_type": "code",
   "execution_count": 2,
   "id": "a87f7999",
   "metadata": {},
   "outputs": [],
   "source": [
    "import psycopg2 as pg2"
   ]
  },
  {
   "cell_type": "code",
   "execution_count": 3,
   "id": "ac5cd04e",
   "metadata": {},
   "outputs": [],
   "source": [
    "# connection to postgreSQL database named dvdrental\n",
    "\n",
    "conn = pg2.connect(database='dvdrental', user='postgres', password='password')"
   ]
  },
  {
   "cell_type": "code",
   "execution_count": 4,
   "id": "4ef0e807",
   "metadata": {},
   "outputs": [],
   "source": [
    "# retrieve cursor (cursor is a control structure that enables traversal over records in a db) \n",
    "\n",
    "cur = conn.cursor()"
   ]
  },
  {
   "cell_type": "code",
   "execution_count": 5,
   "id": "16be765e",
   "metadata": {},
   "outputs": [],
   "source": [
    "# With the cursor u can execute sql queries\n",
    "\n",
    "cur.execute('SELECT * FROM payment')"
   ]
  },
  {
   "cell_type": "code",
   "execution_count": 6,
   "id": "f2402a86",
   "metadata": {},
   "outputs": [
    {
     "data": {
      "text/plain": [
       "(17503,\n",
       " 341,\n",
       " 2,\n",
       " 1520,\n",
       " Decimal('7.99'),\n",
       " datetime.datetime(2007, 2, 15, 22, 25, 46, 996577))"
      ]
     },
     "execution_count": 6,
     "metadata": {},
     "output_type": "execute_result"
    }
   ],
   "source": [
    "cur.fetchone()    # fetches 1st record/row of data"
   ]
  },
  {
   "cell_type": "code",
   "execution_count": 7,
   "id": "6a747614",
   "metadata": {},
   "outputs": [
    {
     "data": {
      "text/plain": [
       "[(17504,\n",
       "  341,\n",
       "  1,\n",
       "  1778,\n",
       "  Decimal('1.99'),\n",
       "  datetime.datetime(2007, 2, 16, 17, 23, 14, 996577)),\n",
       " (17505,\n",
       "  341,\n",
       "  1,\n",
       "  1849,\n",
       "  Decimal('7.99'),\n",
       "  datetime.datetime(2007, 2, 16, 22, 41, 45, 996577)),\n",
       " (17506,\n",
       "  341,\n",
       "  2,\n",
       "  2829,\n",
       "  Decimal('2.99'),\n",
       "  datetime.datetime(2007, 2, 19, 19, 39, 56, 996577))]"
      ]
     },
     "execution_count": 7,
     "metadata": {},
     "output_type": "execute_result"
    }
   ],
   "source": [
    "cur.fetchmany(3)"
   ]
  },
  {
   "cell_type": "code",
   "execution_count": 8,
   "id": "7b0405e4",
   "metadata": {},
   "outputs": [],
   "source": [
    "# cur.fetchall()"
   ]
  },
  {
   "cell_type": "code",
   "execution_count": 9,
   "id": "0dedb561",
   "metadata": {},
   "outputs": [],
   "source": [
    "data = cur.fetchmany(3)"
   ]
  },
  {
   "cell_type": "code",
   "execution_count": 10,
   "id": "70d3cef7",
   "metadata": {},
   "outputs": [
    {
     "data": {
      "text/plain": [
       "(17507,\n",
       " 341,\n",
       " 2,\n",
       " 3130,\n",
       " Decimal('7.99'),\n",
       " datetime.datetime(2007, 2, 20, 17, 31, 48, 996577))"
      ]
     },
     "execution_count": 10,
     "metadata": {},
     "output_type": "execute_result"
    }
   ],
   "source": [
    "data[0]"
   ]
  },
  {
   "cell_type": "code",
   "execution_count": 11,
   "id": "16355dd0",
   "metadata": {},
   "outputs": [
    {
     "data": {
      "text/plain": [
       "Decimal('7.99')"
      ]
     },
     "execution_count": 11,
     "metadata": {},
     "output_type": "execute_result"
    }
   ],
   "source": [
    "data[0][4]"
   ]
  },
  {
   "cell_type": "code",
   "execution_count": 12,
   "id": "62597b1d",
   "metadata": {},
   "outputs": [
    {
     "data": {
      "text/plain": [
       "datetime.datetime(2007, 2, 20, 17, 31, 48, 996577)"
      ]
     },
     "execution_count": 12,
     "metadata": {},
     "output_type": "execute_result"
    }
   ],
   "source": [
    "data[0][5]"
   ]
  },
  {
   "cell_type": "code",
   "execution_count": 13,
   "id": "c8d3b877",
   "metadata": {},
   "outputs": [],
   "source": [
    "conn.close()"
   ]
  },
  {
   "cell_type": "code",
   "execution_count": null,
   "id": "93244d9a",
   "metadata": {},
   "outputs": [],
   "source": []
  }
 ],
 "metadata": {
  "kernelspec": {
   "display_name": "Python 3 (ipykernel)",
   "language": "python",
   "name": "python3"
  },
  "language_info": {
   "codemirror_mode": {
    "name": "ipython",
    "version": 3
   },
   "file_extension": ".py",
   "mimetype": "text/x-python",
   "name": "python",
   "nbconvert_exporter": "python",
   "pygments_lexer": "ipython3",
   "version": "3.8.18"
  }
 },
 "nbformat": 4,
 "nbformat_minor": 5
}

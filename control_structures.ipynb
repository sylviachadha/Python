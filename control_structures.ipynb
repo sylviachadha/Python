{
 "cells": [
  {
   "cell_type": "markdown",
   "metadata": {
    "collapsed": true,
    "pycharm": {
     "name": "#%% md\n"
    }
   },
   "source": [
    "## Python CONTROL STRUCTURES (building blocks of programming)\n",
    "#### There are two basic aspects of computer programming: data and instructions . To work with data, you need to understand variables and data types; to work with instructions, you need to understand control structures (flow of control i.e. decision making) and control statements (continue, break, pass)\n",
    "\n",
    "## Three kinds of control structures- SEQUENTIAL, SELECTION (IF-ELSE), REPETITION (LOOPS)\n",
    "#### 1. SELECTION, conditional branching which we use for choosing between two or more paths - if,else.elif\n",
    "#### 2. REPETITION, Loops that are used to iterate through multiple values/objects and repeatedly run specific code blocks - for, while loop\n",
    "#### 3. Branching/control Statements, which are used to alter the flow of control in loops - break, exit,continue, pass"
   ]
  },
  {
   "cell_type": "markdown",
   "source": [
    "## Conditions     (indentation is important)"
   ],
   "metadata": {
    "collapsed": false,
    "pycharm": {
     "name": "#%% md\n"
    }
   }
  },
  {
   "cell_type": "code",
   "execution_count": 2,
   "outputs": [
    {
     "name": "stdout",
     "output_type": "stream",
     "text": [
      "student has passed exam\n"
     ]
    }
   ],
   "source": [
    "marks = 65\n",
    "\n",
    "if marks >= 40:\n",
    "    print('student has passed exam')"
   ],
   "metadata": {
    "collapsed": false,
    "pycharm": {
     "name": "#%%\n"
    }
   }
  },
  {
   "cell_type": "code",
   "execution_count": 5,
   "outputs": [],
   "source": [
    "marks = 20\n",
    "\n",
    "if marks >= 40:\n",
    "    print('student has passed exam')   # no output in this case as if not true"
   ],
   "metadata": {
    "collapsed": false,
    "pycharm": {
     "name": "#%%\n"
    }
   }
  },
  {
   "cell_type": "code",
   "execution_count": 7,
   "outputs": [
    {
     "name": "stdout",
     "output_type": "stream",
     "text": [
      "student has failed exam\n"
     ]
    }
   ],
   "source": [
    "marks = 20\n",
    "\n",
    "if marks >= 40:\n",
    "    print('student has passed exam')\n",
    "else:\n",
    "    print('student has failed exam')"
   ],
   "metadata": {
    "collapsed": false,
    "pycharm": {
     "name": "#%%\n"
    }
   }
  },
  {
   "cell_type": "code",
   "execution_count": 9,
   "outputs": [
    {
     "name": "stdout",
     "output_type": "stream",
     "text": [
      "grade is second class\n"
     ]
    }
   ],
   "source": [
    "# define grade for student\n",
    "\n",
    "# once it has found a true condition it will not go ahead & check remaining conditions,\n",
    "# it will execute only one of these multiple conditions. if all conditions false, last else block executed.\n",
    "\n",
    "marks = 56\n",
    "\n",
    "if marks > 75:\n",
    "    print(\"grade is distinction\")\n",
    "elif marks >= 65:\n",
    "    print(\"grade is first class\")\n",
    "elif marks >= 55:\n",
    "    print(\"grade is second class\")\n",
    "elif marks >= 40:\n",
    "    print(\"grade is Pass class\")\n",
    "else:\n",
    "    print(\"student has failed exam\")"
   ],
   "metadata": {
    "collapsed": false,
    "pycharm": {
     "name": "#%%\n"
    }
   }
  },
  {
   "cell_type": "markdown",
   "source": [
    "## Loops - for and while loops in python\n",
    "### Execute a piece of code repeatedly until a condition is satisfied"
   ],
   "metadata": {
    "collapsed": false,
    "pycharm": {
     "name": "#%% md\n"
    }
   }
  },
  {
   "cell_type": "markdown",
   "source": [
    "### for loop"
   ],
   "metadata": {
    "collapsed": false,
    "pycharm": {
     "name": "#%% md\n"
    }
   }
  },
  {
   "cell_type": "code",
   "execution_count": 14,
   "outputs": [
    {
     "name": "stdout",
     "output_type": "stream",
     "text": [
      "1 tesla\n",
      "2 ford\n",
      "3 gm\n",
      "4 toyota\n",
      "5 honda\n"
     ]
    }
   ],
   "source": [
    "# for loop\n",
    "car_companies = ['tesla','ford','gm','toyota','honda']\n",
    "\n",
    "counter = 1\n",
    "for c in car_companies:      # for (every element) in car_companies, any alias u can\n",
    "    print(counter, c)        # put for (every element), here alias put is c\n",
    "    counter = counter + 1"
   ],
   "metadata": {
    "collapsed": false,
    "pycharm": {
     "name": "#%%\n"
    }
   }
  },
  {
   "cell_type": "code",
   "execution_count": 16,
   "outputs": [
    {
     "name": "stdout",
     "output_type": "stream",
     "text": [
      "0\n",
      "1\n",
      "2\n",
      "3\n",
      "4\n",
      "5\n",
      "6\n",
      "7\n",
      "8\n",
      "9\n"
     ]
    }
   ],
   "source": [
    "# range function\n",
    "\n",
    "for i in range(0,10):   # upper bound not included & range function parameters separate by ,\n",
    "    print(i)"
   ],
   "metadata": {
    "collapsed": false,
    "pycharm": {
     "name": "#%%\n"
    }
   }
  },
  {
   "cell_type": "code",
   "execution_count": 18,
   "outputs": [
    {
     "name": "stdout",
     "output_type": "stream",
     "text": [
      "3 * 1 = 3\n",
      "3 * 2 = 6\n",
      "3 * 3 = 9\n",
      "3 * 4 = 12\n",
      "3 * 5 = 15\n",
      "3 * 6 = 18\n",
      "3 * 7 = 21\n",
      "3 * 8 = 24\n",
      "3 * 9 = 27\n",
      "3 * 10 = 30\n",
      "5 * 1 = 5\n",
      "5 * 2 = 10\n",
      "5 * 3 = 15\n",
      "5 * 4 = 20\n",
      "5 * 5 = 25\n",
      "5 * 6 = 30\n",
      "5 * 7 = 35\n",
      "5 * 8 = 40\n",
      "5 * 9 = 45\n",
      "5 * 10 = 50\n"
     ]
    }
   ],
   "source": [
    "# nested for loop to print tables # max 2 or 3 nesting levels ok\n",
    "\n",
    "tables = [3,5]\n",
    "\n",
    "for i in tables:                      # outside loop\n",
    "    for num in range(1,11):           # inside loop\n",
    "        print(i,'*',num,'=',i*num)\n",
    "# full inner loop will get executed first before it goes to 2nd iteration of outer loop\n"
   ],
   "metadata": {
    "collapsed": false,
    "pycharm": {
     "name": "#%%\n"
    }
   }
  },
  {
   "cell_type": "markdown",
   "source": [
    "### while loop\n",
    "### in this there are no defined num of steps/iterations as in for loop where for loop is used to iterate over a collection. while loop is used when we need to run a loop until a condition is true/false"
   ],
   "metadata": {
    "collapsed": false,
    "pycharm": {
     "name": "#%% md\n"
    }
   }
  },
  {
   "cell_type": "code",
   "execution_count": 19,
   "outputs": [
    {
     "name": "stdout",
     "output_type": "stream",
     "text": [
      "10\n",
      "5.0\n",
      "2.5\n"
     ]
    }
   ],
   "source": [
    "i = 10\n",
    "\n",
    "# divide i by 2 till i>2\n",
    "while i > 2:\n",
    "    print(i)\n",
    "    i = i/2"
   ],
   "metadata": {
    "collapsed": false,
    "pycharm": {
     "name": "#%%\n"
    }
   }
  },
  {
   "cell_type": "code",
   "execution_count": null,
   "outputs": [],
   "source": [],
   "metadata": {
    "collapsed": false,
    "pycharm": {
     "name": "#%%\n"
    }
   }
  }
 ],
 "metadata": {
  "kernelspec": {
   "display_name": "Python 3",
   "language": "python",
   "name": "python3"
  },
  "language_info": {
   "codemirror_mode": {
    "name": "ipython",
    "version": 2
   },
   "file_extension": ".py",
   "mimetype": "text/x-python",
   "name": "python",
   "nbconvert_exporter": "python",
   "pygments_lexer": "ipython2",
   "version": "2.7.6"
  }
 },
 "nbformat": 4,
 "nbformat_minor": 0
}
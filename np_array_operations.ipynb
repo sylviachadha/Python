{
 "cells": [
  {
   "cell_type": "markdown",
   "metadata": {
    "collapsed": true,
    "pycharm": {
     "name": "#%% md\n"
    }
   },
   "source": [
    "## Array Operations\n",
    "\n",
    "In numpy, arithmetic operations are always applied element wise. It will effect every element of array."
   ]
  },
  {
   "cell_type": "code",
   "execution_count": 1,
   "outputs": [
    {
     "data": {
      "text/plain": "numpy.ndarray"
     },
     "execution_count": 1,
     "metadata": {},
     "output_type": "execute_result"
    }
   ],
   "source": [
    "import numpy as np\n",
    "\n",
    "data = np.loadtxt(fname='/Users/sylvia/Desktop/IITR/python/Data/patient_data.csv',delimiter=',')\n",
    "type(data)"
   ],
   "metadata": {
    "collapsed": false,
    "pycharm": {
     "name": "#%%\n"
    }
   }
  },
  {
   "cell_type": "code",
   "execution_count": 2,
   "outputs": [
    {
     "name": "stdout",
     "output_type": "stream",
     "text": [
      "[ 0.  0.  1.  3.  1.  2.  4.  7.  8.  3.  3.  3. 10.  5.  7.  4.  7.  7.\n",
      " 12. 18.  6. 13. 11. 11.  7.  7.  4.  6.  8.  8.  4.  4.  5.  7.  3.  4.\n",
      "  2.  3.  0.  0.]\n"
     ]
    },
    {
     "data": {
      "text/plain": "numpy.ndarray"
     },
     "execution_count": 2,
     "metadata": {},
     "output_type": "execute_result"
    }
   ],
   "source": [
    "patient_1 = data[0,]\n",
    "print(patient_1)\n",
    "type(patient_1)"
   ],
   "metadata": {
    "collapsed": false,
    "pycharm": {
     "name": "#%%\n"
    }
   }
  },
  {
   "cell_type": "markdown",
   "source": [
    "## Basic Mathematical functions"
   ],
   "metadata": {
    "collapsed": false,
    "pycharm": {
     "name": "#%% md\n"
    }
   }
  },
  {
   "cell_type": "code",
   "execution_count": 6,
   "outputs": [
    {
     "name": "stdout",
     "output_type": "stream",
     "text": [
      "addition\n",
      " [ 2.  2.  3.  5.  3.  4.  6.  9. 10.  5.  5.  5. 12.  7.  9.  6.  9.  9.\n",
      " 14. 20.  8. 15. 13. 13.  9.  9.  6.  8. 10. 10.  6.  6.  7.  9.  5.  6.\n",
      "  4.  5.  2.  2.]\n",
      "subtraction\n",
      " [-2. -2. -1.  1. -1.  0.  2.  5.  6.  1.  1.  1.  8.  3.  5.  2.  5.  5.\n",
      " 10. 16.  4. 11.  9.  9.  5.  5.  2.  4.  6.  6.  2.  2.  3.  5.  1.  2.\n",
      "  0.  1. -2. -2.]\n",
      "multiply\n",
      " [ 0.  0.  2.  6.  2.  4.  8. 14. 16.  6.  6.  6. 20. 10. 14.  8. 14. 14.\n",
      " 24. 36. 12. 26. 22. 22. 14. 14.  8. 12. 16. 16.  8.  8. 10. 14.  6.  8.\n",
      "  4.  6.  0.  0.]\n",
      "divide\n",
      " [0.  0.  0.5 1.5 0.5 1.  2.  3.5 4.  1.5 1.5 1.5 5.  2.5 3.5 2.  3.5 3.5\n",
      " 6.  9.  3.  6.5 5.5 5.5 3.5 3.5 2.  3.  4.  4.  2.  2.  2.5 3.5 1.5 2.\n",
      " 1.  1.5 0.  0. ]\n"
     ]
    }
   ],
   "source": [
    "# Mathematical operations, original array will remain unchanged.\n",
    "\n",
    "# 1. addition\n",
    "print('addition\\n',patient_1+2)\n",
    "\n",
    "# 2. subtraction\n",
    "print('subtraction\\n',patient_1-2)\n",
    "\n",
    "# 3. multiplication\n",
    "print('multiply\\n',patient_1*2)\n",
    "\n",
    "# 4. division\n",
    "print('divide\\n',patient_1/2)\n"
   ],
   "metadata": {
    "collapsed": false,
    "pycharm": {
     "name": "#%%\n"
    }
   }
  },
  {
   "cell_type": "markdown",
   "source": [
    "## Linear Algebra Functions - We can do matrix calculations\n",
    "### Matrix multiplication\n",
    "Matrix multiplication is complicated cz we need to be aware of dimensions as well."
   ],
   "metadata": {
    "collapsed": false,
    "pycharm": {
     "name": "#%% md\n"
    }
   }
  },
  {
   "cell_type": "code",
   "execution_count": 13,
   "outputs": [
    {
     "name": "stdout",
     "output_type": "stream",
     "text": [
      "[[1. 1. 1.]\n",
      " [1. 1. 1.]] \n",
      "\n",
      " [[2 2]\n",
      " [2 2]\n",
      " [2 2]]\n"
     ]
    }
   ],
   "source": [
    "a = np.ones((2,3))\n",
    "b = np.full(shape=(3,2),fill_value=2)\n",
    "print(a,'\\n\\n',b)"
   ],
   "metadata": {
    "collapsed": false,
    "pycharm": {
     "name": "#%%\n"
    }
   }
  },
  {
   "cell_type": "code",
   "execution_count": 15,
   "outputs": [
    {
     "name": "stdout",
     "output_type": "stream",
     "text": [
      "[[6. 6.]\n",
      " [6. 6.]]\n"
     ]
    }
   ],
   "source": [
    "m_mul = np.matmul(a,b)\n",
    "print(m_mul)"
   ],
   "metadata": {
    "collapsed": false,
    "pycharm": {
     "name": "#%%\n"
    }
   }
  },
  {
   "cell_type": "markdown",
   "source": [
    "### Determinant"
   ],
   "metadata": {
    "collapsed": false,
    "pycharm": {
     "name": "#%% md\n"
    }
   }
  },
  {
   "cell_type": "code",
   "execution_count": 17,
   "outputs": [
    {
     "name": "stdout",
     "output_type": "stream",
     "text": [
      "[[0. 4.]\n",
      " [3. 3.]]\n"
     ]
    }
   ],
   "source": [
    "c = data[3:5,3:5]   # Slicing from original array data\n",
    "print(c)"
   ],
   "metadata": {
    "collapsed": false,
    "pycharm": {
     "name": "#%%\n"
    }
   }
  },
  {
   "cell_type": "code",
   "execution_count": 18,
   "outputs": [
    {
     "data": {
      "text/plain": "-12.0"
     },
     "execution_count": 18,
     "metadata": {},
     "output_type": "execute_result"
    }
   ],
   "source": [
    "det = np.linalg.det(c)\n",
    "det"
   ],
   "metadata": {
    "collapsed": false,
    "pycharm": {
     "name": "#%%\n"
    }
   }
  },
  {
   "cell_type": "markdown",
   "source": [
    "## Linear algebra numpy library documentation\n",
    "### Reference - https://numpy.org/doc/stable/reference/routines.linalg.html"
   ],
   "metadata": {
    "collapsed": false,
    "pycharm": {
     "name": "#%% md\n"
    }
   }
  },
  {
   "cell_type": "markdown",
   "source": [
    "## Statistical Functions"
   ],
   "metadata": {
    "collapsed": false,
    "pycharm": {
     "name": "#%% md\n"
    }
   }
  },
  {
   "cell_type": "code",
   "execution_count": 21,
   "outputs": [
    {
     "name": "stdout",
     "output_type": "stream",
     "text": [
      "max 20.0\n",
      "min 0.0\n"
     ]
    }
   ],
   "source": [
    "# max & min reading in patient data\n",
    "\n",
    "print('max',np.max(data))\n",
    "print('min',np.min(data))"
   ],
   "metadata": {
    "collapsed": false,
    "pycharm": {
     "name": "#%%\n"
    }
   }
  },
  {
   "cell_type": "code",
   "execution_count": 23,
   "outputs": [
    {
     "name": "stdout",
     "output_type": "stream",
     "text": [
      "max among first 5 patients 19.0\n"
     ]
    }
   ],
   "source": [
    "# max reading among first 5 patients\n",
    "print('max among first 5 patients',np.max(data[0:5]))"
   ],
   "metadata": {
    "collapsed": false,
    "pycharm": {
     "name": "#%%\n"
    }
   }
  },
  {
   "cell_type": "code",
   "execution_count": 27,
   "outputs": [
    {
     "name": "stdout",
     "output_type": "stream",
     "text": [
      "18.0\n"
     ]
    }
   ],
   "source": [
    "# maximum inflation for patient 10\n",
    "print(np.max(data[9,]))"
   ],
   "metadata": {
    "collapsed": false,
    "pycharm": {
     "name": "#%%\n"
    }
   }
  },
  {
   "cell_type": "markdown",
   "source": [
    "### Using Axis\n",
    "axis=0, moving along rows gives u statistics of each column<br>\n",
    "axis=1, moving along columns gives u statistics of each row"
   ],
   "metadata": {
    "collapsed": false,
    "pycharm": {
     "name": "#%% md\n"
    }
   }
  },
  {
   "cell_type": "code",
   "execution_count": 30,
   "outputs": [
    {
     "name": "stdout",
     "output_type": "stream",
     "text": [
      "[18. 18. 19. 17. 17. 18. 17. 20. 17. 18. 18. 18. 17. 16. 17. 18. 19. 19.\n",
      " 17. 19. 19. 16. 17. 15. 17. 17. 18. 17. 20. 17. 16. 19. 15. 15. 19. 17.\n",
      " 16. 17. 19. 16. 18. 19. 16. 19. 18. 16. 19. 15. 16. 18. 14. 20. 17. 15.\n",
      " 17. 16. 17. 19. 18. 18.]\n"
     ]
    }
   ],
   "source": [
    "# to find max inflation of each patient (each row)\n",
    "print(np.max(data, axis=1))   # moving along columns gives u max of each row\n"
   ],
   "metadata": {
    "collapsed": false,
    "pycharm": {
     "name": "#%%\n"
    }
   }
  },
  {
   "cell_type": "code",
   "execution_count": 32,
   "outputs": [
    {
     "name": "stdout",
     "output_type": "stream",
     "text": [
      "[ 0.  1.  2.  3.  4.  5.  6.  7.  8.  9. 10. 11. 12. 13. 14. 15. 16. 17.\n",
      " 18. 19. 20. 19. 18. 17. 16. 15. 14. 13. 12. 11. 10.  9.  8.  7.  6.  5.\n",
      "  4.  3.  2.  1.]\n"
     ]
    }
   ],
   "source": [
    "# to find max reading for a particular day (we have 40 days, 40 columns)\n",
    "print(np.max(data, axis=0))   # moving along rows gives u max of each column.\n"
   ],
   "metadata": {
    "collapsed": false,
    "pycharm": {
     "name": "#%%\n"
    }
   }
  },
  {
   "cell_type": "code",
   "execution_count": 36,
   "outputs": [
    {
     "name": "stdout",
     "output_type": "stream",
     "text": [
      "median\n",
      " [ 0.   0.   1.   2.   2.   3.   4.   4.   5.   6.   6.   5.5  9.5  8.\n",
      "  8.  10.   8.5 11.  11.5 13.  14.  13.  11.  10.  10.5  9.  10.   7.\n",
      "  7.   7.   6.   6.   5.   4.   3.   4.   2.   1.   1.   1. ]\n",
      "\n",
      "std\n",
      " [0.         0.49749372 0.73238575 1.05869416 1.1308797  1.37628728\n",
      " 1.71075032 1.95014244 1.9267128  2.26194361 2.74119803 2.50798724\n",
      " 3.13488437 3.0922843  3.75040739 4.02285139 3.82226663 3.54008788\n",
      " 3.94701012 4.50120354 4.24116729 4.54960316 4.19907397 4.09945796\n",
      " 3.7103459  3.60863163 3.21364279 2.77863876 2.68121034 3.19526559\n",
      " 2.5157283  2.10890967 1.62369606 1.78138523 1.76351921 1.38283123\n",
      " 1.11790976 1.161895   0.8055364  0.49553562]\n"
     ]
    }
   ],
   "source": [
    "# Calculate day wise (here col's represent day) mean or median and std dev of readings\n",
    "# to find statistics for columns we need to move along rows axis=0\n",
    "c_mean = np.median(data, axis=0)\n",
    "print('median\\n',c_mean)\n",
    "\n",
    "c_std = np.std(data, axis=0)\n",
    "print('\\nstd\\n',c_std)"
   ],
   "metadata": {
    "collapsed": false,
    "pycharm": {
     "name": "#%%\n"
    }
   }
  },
  {
   "cell_type": "code",
   "execution_count": null,
   "outputs": [],
   "source": [],
   "metadata": {
    "collapsed": false,
    "pycharm": {
     "name": "#%%\n"
    }
   }
  }
 ],
 "metadata": {
  "kernelspec": {
   "display_name": "Python 3",
   "language": "python",
   "name": "python3"
  },
  "language_info": {
   "codemirror_mode": {
    "name": "ipython",
    "version": 2
   },
   "file_extension": ".py",
   "mimetype": "text/x-python",
   "name": "python",
   "nbconvert_exporter": "python",
   "pygments_lexer": "ipython2",
   "version": "2.7.6"
  }
 },
 "nbformat": 4,
 "nbformat_minor": 0
}